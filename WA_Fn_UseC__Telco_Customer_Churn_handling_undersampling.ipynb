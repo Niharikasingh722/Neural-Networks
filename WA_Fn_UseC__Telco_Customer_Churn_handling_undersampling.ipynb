{
  "nbformat": 4,
  "nbformat_minor": 0,
  "metadata": {
    "colab": {
      "provenance": [],
      "authorship_tag": "ABX9TyMHWMzvLlhIEjki14T84daF",
      "include_colab_link": true
    },
    "kernelspec": {
      "name": "python3",
      "display_name": "Python 3"
    },
    "language_info": {
      "name": "python"
    }
  },
  "cells": [
    {
      "cell_type": "markdown",
      "metadata": {
        "id": "view-in-github",
        "colab_type": "text"
      },
      "source": [
        "<a href=\"https://colab.research.google.com/github/Niharikasingh722/Neural-Networks/blob/main/WA_Fn_UseC__Telco_Customer_Churn_handling_undersampling.ipynb\" target=\"_parent\"><img src=\"https://colab.research.google.com/assets/colab-badge.svg\" alt=\"Open In Colab\"/></a>"
      ]
    },
    {
      "cell_type": "code",
      "execution_count": 7,
      "metadata": {
        "id": "lfOXW2F3xSSg"
      },
      "outputs": [],
      "source": [
        "import pandas as pd"
      ]
    },
    {
      "cell_type": "code",
      "source": [
        "df=pd.read_csv(\"/content/WA_Fn-UseC_-Telco-Customer-Churn.csv\")"
      ],
      "metadata": {
        "id": "HkPYV3KqxnT5"
      },
      "execution_count": 8,
      "outputs": []
    },
    {
      "cell_type": "code",
      "source": [
        "df.head(5)"
      ],
      "metadata": {
        "colab": {
          "base_uri": "https://localhost:8080/",
          "height": 342
        },
        "id": "snFtP831xueI",
        "outputId": "aa30ef1a-66dd-42fc-bc6b-fbf1b44c358a"
      },
      "execution_count": 9,
      "outputs": [
        {
          "output_type": "execute_result",
          "data": {
            "text/plain": [
              "   customerID  gender  SeniorCitizen Partner Dependents  tenure PhoneService  \\\n",
              "0  7590-VHVEG  Female              0     Yes         No       1           No   \n",
              "1  5575-GNVDE    Male              0      No         No      34          Yes   \n",
              "2  3668-QPYBK    Male              0      No         No       2          Yes   \n",
              "3  7795-CFOCW    Male              0      No         No      45           No   \n",
              "4  9237-HQITU  Female              0      No         No       2          Yes   \n",
              "\n",
              "      MultipleLines InternetService OnlineSecurity  ... DeviceProtection  \\\n",
              "0  No phone service             DSL             No  ...               No   \n",
              "1                No             DSL            Yes  ...              Yes   \n",
              "2                No             DSL            Yes  ...               No   \n",
              "3  No phone service             DSL            Yes  ...              Yes   \n",
              "4                No     Fiber optic             No  ...               No   \n",
              "\n",
              "  TechSupport StreamingTV StreamingMovies        Contract PaperlessBilling  \\\n",
              "0          No          No              No  Month-to-month              Yes   \n",
              "1          No          No              No        One year               No   \n",
              "2          No          No              No  Month-to-month              Yes   \n",
              "3         Yes          No              No        One year               No   \n",
              "4          No          No              No  Month-to-month              Yes   \n",
              "\n",
              "               PaymentMethod MonthlyCharges  TotalCharges Churn  \n",
              "0           Electronic check          29.85         29.85    No  \n",
              "1               Mailed check          56.95        1889.5    No  \n",
              "2               Mailed check          53.85        108.15   Yes  \n",
              "3  Bank transfer (automatic)          42.30       1840.75    No  \n",
              "4           Electronic check          70.70        151.65   Yes  \n",
              "\n",
              "[5 rows x 21 columns]"
            ],
            "text/html": [
              "\n",
              "  <div id=\"df-883a29f4-c5bc-4074-a2cd-fdc921ad4ea6\" class=\"colab-df-container\">\n",
              "    <div>\n",
              "<style scoped>\n",
              "    .dataframe tbody tr th:only-of-type {\n",
              "        vertical-align: middle;\n",
              "    }\n",
              "\n",
              "    .dataframe tbody tr th {\n",
              "        vertical-align: top;\n",
              "    }\n",
              "\n",
              "    .dataframe thead th {\n",
              "        text-align: right;\n",
              "    }\n",
              "</style>\n",
              "<table border=\"1\" class=\"dataframe\">\n",
              "  <thead>\n",
              "    <tr style=\"text-align: right;\">\n",
              "      <th></th>\n",
              "      <th>customerID</th>\n",
              "      <th>gender</th>\n",
              "      <th>SeniorCitizen</th>\n",
              "      <th>Partner</th>\n",
              "      <th>Dependents</th>\n",
              "      <th>tenure</th>\n",
              "      <th>PhoneService</th>\n",
              "      <th>MultipleLines</th>\n",
              "      <th>InternetService</th>\n",
              "      <th>OnlineSecurity</th>\n",
              "      <th>...</th>\n",
              "      <th>DeviceProtection</th>\n",
              "      <th>TechSupport</th>\n",
              "      <th>StreamingTV</th>\n",
              "      <th>StreamingMovies</th>\n",
              "      <th>Contract</th>\n",
              "      <th>PaperlessBilling</th>\n",
              "      <th>PaymentMethod</th>\n",
              "      <th>MonthlyCharges</th>\n",
              "      <th>TotalCharges</th>\n",
              "      <th>Churn</th>\n",
              "    </tr>\n",
              "  </thead>\n",
              "  <tbody>\n",
              "    <tr>\n",
              "      <th>0</th>\n",
              "      <td>7590-VHVEG</td>\n",
              "      <td>Female</td>\n",
              "      <td>0</td>\n",
              "      <td>Yes</td>\n",
              "      <td>No</td>\n",
              "      <td>1</td>\n",
              "      <td>No</td>\n",
              "      <td>No phone service</td>\n",
              "      <td>DSL</td>\n",
              "      <td>No</td>\n",
              "      <td>...</td>\n",
              "      <td>No</td>\n",
              "      <td>No</td>\n",
              "      <td>No</td>\n",
              "      <td>No</td>\n",
              "      <td>Month-to-month</td>\n",
              "      <td>Yes</td>\n",
              "      <td>Electronic check</td>\n",
              "      <td>29.85</td>\n",
              "      <td>29.85</td>\n",
              "      <td>No</td>\n",
              "    </tr>\n",
              "    <tr>\n",
              "      <th>1</th>\n",
              "      <td>5575-GNVDE</td>\n",
              "      <td>Male</td>\n",
              "      <td>0</td>\n",
              "      <td>No</td>\n",
              "      <td>No</td>\n",
              "      <td>34</td>\n",
              "      <td>Yes</td>\n",
              "      <td>No</td>\n",
              "      <td>DSL</td>\n",
              "      <td>Yes</td>\n",
              "      <td>...</td>\n",
              "      <td>Yes</td>\n",
              "      <td>No</td>\n",
              "      <td>No</td>\n",
              "      <td>No</td>\n",
              "      <td>One year</td>\n",
              "      <td>No</td>\n",
              "      <td>Mailed check</td>\n",
              "      <td>56.95</td>\n",
              "      <td>1889.5</td>\n",
              "      <td>No</td>\n",
              "    </tr>\n",
              "    <tr>\n",
              "      <th>2</th>\n",
              "      <td>3668-QPYBK</td>\n",
              "      <td>Male</td>\n",
              "      <td>0</td>\n",
              "      <td>No</td>\n",
              "      <td>No</td>\n",
              "      <td>2</td>\n",
              "      <td>Yes</td>\n",
              "      <td>No</td>\n",
              "      <td>DSL</td>\n",
              "      <td>Yes</td>\n",
              "      <td>...</td>\n",
              "      <td>No</td>\n",
              "      <td>No</td>\n",
              "      <td>No</td>\n",
              "      <td>No</td>\n",
              "      <td>Month-to-month</td>\n",
              "      <td>Yes</td>\n",
              "      <td>Mailed check</td>\n",
              "      <td>53.85</td>\n",
              "      <td>108.15</td>\n",
              "      <td>Yes</td>\n",
              "    </tr>\n",
              "    <tr>\n",
              "      <th>3</th>\n",
              "      <td>7795-CFOCW</td>\n",
              "      <td>Male</td>\n",
              "      <td>0</td>\n",
              "      <td>No</td>\n",
              "      <td>No</td>\n",
              "      <td>45</td>\n",
              "      <td>No</td>\n",
              "      <td>No phone service</td>\n",
              "      <td>DSL</td>\n",
              "      <td>Yes</td>\n",
              "      <td>...</td>\n",
              "      <td>Yes</td>\n",
              "      <td>Yes</td>\n",
              "      <td>No</td>\n",
              "      <td>No</td>\n",
              "      <td>One year</td>\n",
              "      <td>No</td>\n",
              "      <td>Bank transfer (automatic)</td>\n",
              "      <td>42.30</td>\n",
              "      <td>1840.75</td>\n",
              "      <td>No</td>\n",
              "    </tr>\n",
              "    <tr>\n",
              "      <th>4</th>\n",
              "      <td>9237-HQITU</td>\n",
              "      <td>Female</td>\n",
              "      <td>0</td>\n",
              "      <td>No</td>\n",
              "      <td>No</td>\n",
              "      <td>2</td>\n",
              "      <td>Yes</td>\n",
              "      <td>No</td>\n",
              "      <td>Fiber optic</td>\n",
              "      <td>No</td>\n",
              "      <td>...</td>\n",
              "      <td>No</td>\n",
              "      <td>No</td>\n",
              "      <td>No</td>\n",
              "      <td>No</td>\n",
              "      <td>Month-to-month</td>\n",
              "      <td>Yes</td>\n",
              "      <td>Electronic check</td>\n",
              "      <td>70.70</td>\n",
              "      <td>151.65</td>\n",
              "      <td>Yes</td>\n",
              "    </tr>\n",
              "  </tbody>\n",
              "</table>\n",
              "<p>5 rows × 21 columns</p>\n",
              "</div>\n",
              "    <div class=\"colab-df-buttons\">\n",
              "\n",
              "  <div class=\"colab-df-container\">\n",
              "    <button class=\"colab-df-convert\" onclick=\"convertToInteractive('df-883a29f4-c5bc-4074-a2cd-fdc921ad4ea6')\"\n",
              "            title=\"Convert this dataframe to an interactive table.\"\n",
              "            style=\"display:none;\">\n",
              "\n",
              "  <svg xmlns=\"http://www.w3.org/2000/svg\" height=\"24px\" viewBox=\"0 -960 960 960\">\n",
              "    <path d=\"M120-120v-720h720v720H120Zm60-500h600v-160H180v160Zm220 220h160v-160H400v160Zm0 220h160v-160H400v160ZM180-400h160v-160H180v160Zm440 0h160v-160H620v160ZM180-180h160v-160H180v160Zm440 0h160v-160H620v160Z\"/>\n",
              "  </svg>\n",
              "    </button>\n",
              "\n",
              "  <style>\n",
              "    .colab-df-container {\n",
              "      display:flex;\n",
              "      gap: 12px;\n",
              "    }\n",
              "\n",
              "    .colab-df-convert {\n",
              "      background-color: #E8F0FE;\n",
              "      border: none;\n",
              "      border-radius: 50%;\n",
              "      cursor: pointer;\n",
              "      display: none;\n",
              "      fill: #1967D2;\n",
              "      height: 32px;\n",
              "      padding: 0 0 0 0;\n",
              "      width: 32px;\n",
              "    }\n",
              "\n",
              "    .colab-df-convert:hover {\n",
              "      background-color: #E2EBFA;\n",
              "      box-shadow: 0px 1px 2px rgba(60, 64, 67, 0.3), 0px 1px 3px 1px rgba(60, 64, 67, 0.15);\n",
              "      fill: #174EA6;\n",
              "    }\n",
              "\n",
              "    .colab-df-buttons div {\n",
              "      margin-bottom: 4px;\n",
              "    }\n",
              "\n",
              "    [theme=dark] .colab-df-convert {\n",
              "      background-color: #3B4455;\n",
              "      fill: #D2E3FC;\n",
              "    }\n",
              "\n",
              "    [theme=dark] .colab-df-convert:hover {\n",
              "      background-color: #434B5C;\n",
              "      box-shadow: 0px 1px 3px 1px rgba(0, 0, 0, 0.15);\n",
              "      filter: drop-shadow(0px 1px 2px rgba(0, 0, 0, 0.3));\n",
              "      fill: #FFFFFF;\n",
              "    }\n",
              "  </style>\n",
              "\n",
              "    <script>\n",
              "      const buttonEl =\n",
              "        document.querySelector('#df-883a29f4-c5bc-4074-a2cd-fdc921ad4ea6 button.colab-df-convert');\n",
              "      buttonEl.style.display =\n",
              "        google.colab.kernel.accessAllowed ? 'block' : 'none';\n",
              "\n",
              "      async function convertToInteractive(key) {\n",
              "        const element = document.querySelector('#df-883a29f4-c5bc-4074-a2cd-fdc921ad4ea6');\n",
              "        const dataTable =\n",
              "          await google.colab.kernel.invokeFunction('convertToInteractive',\n",
              "                                                    [key], {});\n",
              "        if (!dataTable) return;\n",
              "\n",
              "        const docLinkHtml = 'Like what you see? Visit the ' +\n",
              "          '<a target=\"_blank\" href=https://colab.research.google.com/notebooks/data_table.ipynb>data table notebook</a>'\n",
              "          + ' to learn more about interactive tables.';\n",
              "        element.innerHTML = '';\n",
              "        dataTable['output_type'] = 'display_data';\n",
              "        await google.colab.output.renderOutput(dataTable, element);\n",
              "        const docLink = document.createElement('div');\n",
              "        docLink.innerHTML = docLinkHtml;\n",
              "        element.appendChild(docLink);\n",
              "      }\n",
              "    </script>\n",
              "  </div>\n",
              "\n",
              "\n",
              "<div id=\"df-e40d4768-550b-473b-ae84-1916064bb735\">\n",
              "  <button class=\"colab-df-quickchart\" onclick=\"quickchart('df-e40d4768-550b-473b-ae84-1916064bb735')\"\n",
              "            title=\"Suggest charts\"\n",
              "            style=\"display:none;\">\n",
              "\n",
              "<svg xmlns=\"http://www.w3.org/2000/svg\" height=\"24px\"viewBox=\"0 0 24 24\"\n",
              "     width=\"24px\">\n",
              "    <g>\n",
              "        <path d=\"M19 3H5c-1.1 0-2 .9-2 2v14c0 1.1.9 2 2 2h14c1.1 0 2-.9 2-2V5c0-1.1-.9-2-2-2zM9 17H7v-7h2v7zm4 0h-2V7h2v10zm4 0h-2v-4h2v4z\"/>\n",
              "    </g>\n",
              "</svg>\n",
              "  </button>\n",
              "\n",
              "<style>\n",
              "  .colab-df-quickchart {\n",
              "      --bg-color: #E8F0FE;\n",
              "      --fill-color: #1967D2;\n",
              "      --hover-bg-color: #E2EBFA;\n",
              "      --hover-fill-color: #174EA6;\n",
              "      --disabled-fill-color: #AAA;\n",
              "      --disabled-bg-color: #DDD;\n",
              "  }\n",
              "\n",
              "  [theme=dark] .colab-df-quickchart {\n",
              "      --bg-color: #3B4455;\n",
              "      --fill-color: #D2E3FC;\n",
              "      --hover-bg-color: #434B5C;\n",
              "      --hover-fill-color: #FFFFFF;\n",
              "      --disabled-bg-color: #3B4455;\n",
              "      --disabled-fill-color: #666;\n",
              "  }\n",
              "\n",
              "  .colab-df-quickchart {\n",
              "    background-color: var(--bg-color);\n",
              "    border: none;\n",
              "    border-radius: 50%;\n",
              "    cursor: pointer;\n",
              "    display: none;\n",
              "    fill: var(--fill-color);\n",
              "    height: 32px;\n",
              "    padding: 0;\n",
              "    width: 32px;\n",
              "  }\n",
              "\n",
              "  .colab-df-quickchart:hover {\n",
              "    background-color: var(--hover-bg-color);\n",
              "    box-shadow: 0 1px 2px rgba(60, 64, 67, 0.3), 0 1px 3px 1px rgba(60, 64, 67, 0.15);\n",
              "    fill: var(--button-hover-fill-color);\n",
              "  }\n",
              "\n",
              "  .colab-df-quickchart-complete:disabled,\n",
              "  .colab-df-quickchart-complete:disabled:hover {\n",
              "    background-color: var(--disabled-bg-color);\n",
              "    fill: var(--disabled-fill-color);\n",
              "    box-shadow: none;\n",
              "  }\n",
              "\n",
              "  .colab-df-spinner {\n",
              "    border: 2px solid var(--fill-color);\n",
              "    border-color: transparent;\n",
              "    border-bottom-color: var(--fill-color);\n",
              "    animation:\n",
              "      spin 1s steps(1) infinite;\n",
              "  }\n",
              "\n",
              "  @keyframes spin {\n",
              "    0% {\n",
              "      border-color: transparent;\n",
              "      border-bottom-color: var(--fill-color);\n",
              "      border-left-color: var(--fill-color);\n",
              "    }\n",
              "    20% {\n",
              "      border-color: transparent;\n",
              "      border-left-color: var(--fill-color);\n",
              "      border-top-color: var(--fill-color);\n",
              "    }\n",
              "    30% {\n",
              "      border-color: transparent;\n",
              "      border-left-color: var(--fill-color);\n",
              "      border-top-color: var(--fill-color);\n",
              "      border-right-color: var(--fill-color);\n",
              "    }\n",
              "    40% {\n",
              "      border-color: transparent;\n",
              "      border-right-color: var(--fill-color);\n",
              "      border-top-color: var(--fill-color);\n",
              "    }\n",
              "    60% {\n",
              "      border-color: transparent;\n",
              "      border-right-color: var(--fill-color);\n",
              "    }\n",
              "    80% {\n",
              "      border-color: transparent;\n",
              "      border-right-color: var(--fill-color);\n",
              "      border-bottom-color: var(--fill-color);\n",
              "    }\n",
              "    90% {\n",
              "      border-color: transparent;\n",
              "      border-bottom-color: var(--fill-color);\n",
              "    }\n",
              "  }\n",
              "</style>\n",
              "\n",
              "  <script>\n",
              "    async function quickchart(key) {\n",
              "      const quickchartButtonEl =\n",
              "        document.querySelector('#' + key + ' button');\n",
              "      quickchartButtonEl.disabled = true;  // To prevent multiple clicks.\n",
              "      quickchartButtonEl.classList.add('colab-df-spinner');\n",
              "      try {\n",
              "        const charts = await google.colab.kernel.invokeFunction(\n",
              "            'suggestCharts', [key], {});\n",
              "      } catch (error) {\n",
              "        console.error('Error during call to suggestCharts:', error);\n",
              "      }\n",
              "      quickchartButtonEl.classList.remove('colab-df-spinner');\n",
              "      quickchartButtonEl.classList.add('colab-df-quickchart-complete');\n",
              "    }\n",
              "    (() => {\n",
              "      let quickchartButtonEl =\n",
              "        document.querySelector('#df-e40d4768-550b-473b-ae84-1916064bb735 button');\n",
              "      quickchartButtonEl.style.display =\n",
              "        google.colab.kernel.accessAllowed ? 'block' : 'none';\n",
              "    })();\n",
              "  </script>\n",
              "</div>\n",
              "\n",
              "    </div>\n",
              "  </div>\n"
            ],
            "application/vnd.google.colaboratory.intrinsic+json": {
              "type": "dataframe",
              "variable_name": "df"
            }
          },
          "metadata": {},
          "execution_count": 9
        }
      ]
    },
    {
      "cell_type": "code",
      "source": [
        "df.shape"
      ],
      "metadata": {
        "colab": {
          "base_uri": "https://localhost:8080/"
        },
        "id": "hk9iNu7vxz81",
        "outputId": "1a151a1e-cfe5-4853-9315-beb4d0ce39d2"
      },
      "execution_count": 10,
      "outputs": [
        {
          "output_type": "execute_result",
          "data": {
            "text/plain": [
              "(7043, 21)"
            ]
          },
          "metadata": {},
          "execution_count": 10
        }
      ]
    },
    {
      "cell_type": "code",
      "source": [
        "df.columns"
      ],
      "metadata": {
        "colab": {
          "base_uri": "https://localhost:8080/"
        },
        "id": "KcoIrWg8x5Ev",
        "outputId": "cfb88df6-0757-4eaf-925f-87ac212c8ad1"
      },
      "execution_count": 11,
      "outputs": [
        {
          "output_type": "execute_result",
          "data": {
            "text/plain": [
              "Index(['customerID', 'gender', 'SeniorCitizen', 'Partner', 'Dependents',\n",
              "       'tenure', 'PhoneService', 'MultipleLines', 'InternetService',\n",
              "       'OnlineSecurity', 'OnlineBackup', 'DeviceProtection', 'TechSupport',\n",
              "       'StreamingTV', 'StreamingMovies', 'Contract', 'PaperlessBilling',\n",
              "       'PaymentMethod', 'MonthlyCharges', 'TotalCharges', 'Churn'],\n",
              "      dtype='object')"
            ]
          },
          "metadata": {},
          "execution_count": 11
        }
      ]
    },
    {
      "cell_type": "code",
      "source": [
        "df.drop(['customerID'],axis=1,inplace=True)"
      ],
      "metadata": {
        "id": "DxnHv7iGx6tN"
      },
      "execution_count": 12,
      "outputs": []
    },
    {
      "cell_type": "code",
      "source": [
        "df.info()"
      ],
      "metadata": {
        "colab": {
          "base_uri": "https://localhost:8080/"
        },
        "id": "eImGz3ZQx_7I",
        "outputId": "a45c21e3-fb0d-4b5d-fd7f-84f600ac2ac4"
      },
      "execution_count": 13,
      "outputs": [
        {
          "output_type": "stream",
          "name": "stdout",
          "text": [
            "<class 'pandas.core.frame.DataFrame'>\n",
            "RangeIndex: 7043 entries, 0 to 7042\n",
            "Data columns (total 20 columns):\n",
            " #   Column            Non-Null Count  Dtype  \n",
            "---  ------            --------------  -----  \n",
            " 0   gender            7043 non-null   object \n",
            " 1   SeniorCitizen     7043 non-null   int64  \n",
            " 2   Partner           7043 non-null   object \n",
            " 3   Dependents        7043 non-null   object \n",
            " 4   tenure            7043 non-null   int64  \n",
            " 5   PhoneService      7043 non-null   object \n",
            " 6   MultipleLines     7043 non-null   object \n",
            " 7   InternetService   7043 non-null   object \n",
            " 8   OnlineSecurity    7043 non-null   object \n",
            " 9   OnlineBackup      7043 non-null   object \n",
            " 10  DeviceProtection  7043 non-null   object \n",
            " 11  TechSupport       7043 non-null   object \n",
            " 12  StreamingTV       7043 non-null   object \n",
            " 13  StreamingMovies   7043 non-null   object \n",
            " 14  Contract          7043 non-null   object \n",
            " 15  PaperlessBilling  7043 non-null   object \n",
            " 16  PaymentMethod     7043 non-null   object \n",
            " 17  MonthlyCharges    7043 non-null   float64\n",
            " 18  TotalCharges      7043 non-null   object \n",
            " 19  Churn             7043 non-null   object \n",
            "dtypes: float64(1), int64(2), object(17)\n",
            "memory usage: 1.1+ MB\n"
          ]
        }
      ]
    },
    {
      "cell_type": "code",
      "source": [
        "pd.to_numeric(df['TotalCharges'])"
      ],
      "metadata": {
        "colab": {
          "base_uri": "https://localhost:8080/",
          "height": 269
        },
        "id": "mn67lkQKzJKO",
        "outputId": "42ded5d7-7c9c-4f2f-9518-232186db4fa7"
      },
      "execution_count": 14,
      "outputs": [
        {
          "output_type": "error",
          "ename": "ValueError",
          "evalue": "Unable to parse string \" \" at position 488",
          "traceback": [
            "\u001b[0;31m---------------------------------------------------------------------------\u001b[0m",
            "\u001b[0;31mValueError\u001b[0m                                Traceback (most recent call last)",
            "\u001b[0;32m/usr/local/lib/python3.10/dist-packages/pandas/_libs/lib.pyx\u001b[0m in \u001b[0;36mpandas._libs.lib.maybe_convert_numeric\u001b[0;34m()\u001b[0m\n",
            "\u001b[0;31mValueError\u001b[0m: Unable to parse string \" \"",
            "\nDuring handling of the above exception, another exception occurred:\n",
            "\u001b[0;31mValueError\u001b[0m                                Traceback (most recent call last)",
            "\u001b[0;32m<ipython-input-14-7a21bf9a4184>\u001b[0m in \u001b[0;36m<cell line: 1>\u001b[0;34m()\u001b[0m\n\u001b[0;32m----> 1\u001b[0;31m \u001b[0mpd\u001b[0m\u001b[0;34m.\u001b[0m\u001b[0mto_numeric\u001b[0m\u001b[0;34m(\u001b[0m\u001b[0mdf\u001b[0m\u001b[0;34m[\u001b[0m\u001b[0;34m'TotalCharges'\u001b[0m\u001b[0;34m]\u001b[0m\u001b[0;34m)\u001b[0m\u001b[0;34m\u001b[0m\u001b[0;34m\u001b[0m\u001b[0m\n\u001b[0m",
            "\u001b[0;32m/usr/local/lib/python3.10/dist-packages/pandas/core/tools/numeric.py\u001b[0m in \u001b[0;36mto_numeric\u001b[0;34m(arg, errors, downcast)\u001b[0m\n\u001b[1;32m    183\u001b[0m         \u001b[0mcoerce_numeric\u001b[0m \u001b[0;34m=\u001b[0m \u001b[0merrors\u001b[0m \u001b[0;32mnot\u001b[0m \u001b[0;32min\u001b[0m \u001b[0;34m(\u001b[0m\u001b[0;34m\"ignore\"\u001b[0m\u001b[0;34m,\u001b[0m \u001b[0;34m\"raise\"\u001b[0m\u001b[0;34m)\u001b[0m\u001b[0;34m\u001b[0m\u001b[0;34m\u001b[0m\u001b[0m\n\u001b[1;32m    184\u001b[0m         \u001b[0;32mtry\u001b[0m\u001b[0;34m:\u001b[0m\u001b[0;34m\u001b[0m\u001b[0;34m\u001b[0m\u001b[0m\n\u001b[0;32m--> 185\u001b[0;31m             values, _ = lib.maybe_convert_numeric(\n\u001b[0m\u001b[1;32m    186\u001b[0m                 \u001b[0mvalues\u001b[0m\u001b[0;34m,\u001b[0m \u001b[0mset\u001b[0m\u001b[0;34m(\u001b[0m\u001b[0;34m)\u001b[0m\u001b[0;34m,\u001b[0m \u001b[0mcoerce_numeric\u001b[0m\u001b[0;34m=\u001b[0m\u001b[0mcoerce_numeric\u001b[0m\u001b[0;34m\u001b[0m\u001b[0;34m\u001b[0m\u001b[0m\n\u001b[1;32m    187\u001b[0m             )\n",
            "\u001b[0;32m/usr/local/lib/python3.10/dist-packages/pandas/_libs/lib.pyx\u001b[0m in \u001b[0;36mpandas._libs.lib.maybe_convert_numeric\u001b[0;34m()\u001b[0m\n",
            "\u001b[0;31mValueError\u001b[0m: Unable to parse string \" \" at position 488"
          ]
        }
      ]
    },
    {
      "cell_type": "markdown",
      "source": [
        "Looks like some of the total charges are empty strings."
      ],
      "metadata": {
        "id": "9URvPBwbzTZj"
      }
    },
    {
      "cell_type": "code",
      "source": [
        "df['TotalCharges'][df['TotalCharges']==\" \"]\n"
      ],
      "metadata": {
        "colab": {
          "base_uri": "https://localhost:8080/"
        },
        "id": "dJtkdiAUyLZw",
        "outputId": "8f666a89-754a-4929-98da-e91438048dba"
      },
      "execution_count": 15,
      "outputs": [
        {
          "output_type": "execute_result",
          "data": {
            "text/plain": [
              "488      \n",
              "753      \n",
              "936      \n",
              "1082     \n",
              "1340     \n",
              "3331     \n",
              "3826     \n",
              "4380     \n",
              "5218     \n",
              "6670     \n",
              "6754     \n",
              "Name: TotalCharges, dtype: object"
            ]
          },
          "metadata": {},
          "execution_count": 15
        }
      ]
    },
    {
      "cell_type": "markdown",
      "source": [
        "Only few rows have empty Total charges, since dropping those rows"
      ],
      "metadata": {
        "id": "BOweJ_Qrzbim"
      }
    },
    {
      "cell_type": "code",
      "source": [
        "df_new=df[df['TotalCharges']!=\" \"]"
      ],
      "metadata": {
        "id": "aZ7C7l6pyfHR"
      },
      "execution_count": 16,
      "outputs": []
    },
    {
      "cell_type": "code",
      "source": [
        "df_new.shape"
      ],
      "metadata": {
        "colab": {
          "base_uri": "https://localhost:8080/"
        },
        "id": "xXCNy9Qfz0Mt",
        "outputId": "1b21123b-b830-4ccb-d194-484db5416d95"
      },
      "execution_count": 17,
      "outputs": [
        {
          "output_type": "execute_result",
          "data": {
            "text/plain": [
              "(7032, 20)"
            ]
          },
          "metadata": {},
          "execution_count": 17
        }
      ]
    },
    {
      "cell_type": "code",
      "source": [
        "df_new['TotalCharges']=pd.to_numeric(df_new['TotalCharges'])"
      ],
      "metadata": {
        "colab": {
          "base_uri": "https://localhost:8080/"
        },
        "id": "rivmxUJ10KAP",
        "outputId": "a8c88ab5-fdf8-443e-a7c6-dcbb97137455"
      },
      "execution_count": 18,
      "outputs": [
        {
          "output_type": "stream",
          "name": "stderr",
          "text": [
            "<ipython-input-18-e064ad0a863f>:1: SettingWithCopyWarning: \n",
            "A value is trying to be set on a copy of a slice from a DataFrame.\n",
            "Try using .loc[row_indexer,col_indexer] = value instead\n",
            "\n",
            "See the caveats in the documentation: https://pandas.pydata.org/pandas-docs/stable/user_guide/indexing.html#returning-a-view-versus-a-copy\n",
            "  df_new['TotalCharges']=pd.to_numeric(df_new['TotalCharges'])\n"
          ]
        }
      ]
    },
    {
      "cell_type": "code",
      "source": [
        "df_new.info()"
      ],
      "metadata": {
        "colab": {
          "base_uri": "https://localhost:8080/"
        },
        "id": "wYI9Umov0lqc",
        "outputId": "4a7b68fb-bfc8-4ec3-f268-f4969b87ea6e"
      },
      "execution_count": 19,
      "outputs": [
        {
          "output_type": "stream",
          "name": "stdout",
          "text": [
            "<class 'pandas.core.frame.DataFrame'>\n",
            "Int64Index: 7032 entries, 0 to 7042\n",
            "Data columns (total 20 columns):\n",
            " #   Column            Non-Null Count  Dtype  \n",
            "---  ------            --------------  -----  \n",
            " 0   gender            7032 non-null   object \n",
            " 1   SeniorCitizen     7032 non-null   int64  \n",
            " 2   Partner           7032 non-null   object \n",
            " 3   Dependents        7032 non-null   object \n",
            " 4   tenure            7032 non-null   int64  \n",
            " 5   PhoneService      7032 non-null   object \n",
            " 6   MultipleLines     7032 non-null   object \n",
            " 7   InternetService   7032 non-null   object \n",
            " 8   OnlineSecurity    7032 non-null   object \n",
            " 9   OnlineBackup      7032 non-null   object \n",
            " 10  DeviceProtection  7032 non-null   object \n",
            " 11  TechSupport       7032 non-null   object \n",
            " 12  StreamingTV       7032 non-null   object \n",
            " 13  StreamingMovies   7032 non-null   object \n",
            " 14  Contract          7032 non-null   object \n",
            " 15  PaperlessBilling  7032 non-null   object \n",
            " 16  PaymentMethod     7032 non-null   object \n",
            " 17  MonthlyCharges    7032 non-null   float64\n",
            " 18  TotalCharges      7032 non-null   float64\n",
            " 19  Churn             7032 non-null   object \n",
            "dtypes: float64(2), int64(2), object(16)\n",
            "memory usage: 1.1+ MB\n"
          ]
        }
      ]
    },
    {
      "cell_type": "code",
      "source": [
        "df_new"
      ],
      "metadata": {
        "colab": {
          "base_uri": "https://localhost:8080/",
          "height": 583
        },
        "id": "7uy5Hs1m00W8",
        "outputId": "45145352-fc01-42b0-fe2a-21f6ac86f7a4"
      },
      "execution_count": 20,
      "outputs": [
        {
          "output_type": "execute_result",
          "data": {
            "text/plain": [
              "      gender  SeniorCitizen Partner Dependents  tenure PhoneService  \\\n",
              "0     Female              0     Yes         No       1           No   \n",
              "1       Male              0      No         No      34          Yes   \n",
              "2       Male              0      No         No       2          Yes   \n",
              "3       Male              0      No         No      45           No   \n",
              "4     Female              0      No         No       2          Yes   \n",
              "...      ...            ...     ...        ...     ...          ...   \n",
              "7038    Male              0     Yes        Yes      24          Yes   \n",
              "7039  Female              0     Yes        Yes      72          Yes   \n",
              "7040  Female              0     Yes        Yes      11           No   \n",
              "7041    Male              1     Yes         No       4          Yes   \n",
              "7042    Male              0      No         No      66          Yes   \n",
              "\n",
              "         MultipleLines InternetService OnlineSecurity OnlineBackup  \\\n",
              "0     No phone service             DSL             No          Yes   \n",
              "1                   No             DSL            Yes           No   \n",
              "2                   No             DSL            Yes          Yes   \n",
              "3     No phone service             DSL            Yes           No   \n",
              "4                   No     Fiber optic             No           No   \n",
              "...                ...             ...            ...          ...   \n",
              "7038               Yes             DSL            Yes           No   \n",
              "7039               Yes     Fiber optic             No          Yes   \n",
              "7040  No phone service             DSL            Yes           No   \n",
              "7041               Yes     Fiber optic             No           No   \n",
              "7042                No     Fiber optic            Yes           No   \n",
              "\n",
              "     DeviceProtection TechSupport StreamingTV StreamingMovies        Contract  \\\n",
              "0                  No          No          No              No  Month-to-month   \n",
              "1                 Yes          No          No              No        One year   \n",
              "2                  No          No          No              No  Month-to-month   \n",
              "3                 Yes         Yes          No              No        One year   \n",
              "4                  No          No          No              No  Month-to-month   \n",
              "...               ...         ...         ...             ...             ...   \n",
              "7038              Yes         Yes         Yes             Yes        One year   \n",
              "7039              Yes          No         Yes             Yes        One year   \n",
              "7040               No          No          No              No  Month-to-month   \n",
              "7041               No          No          No              No  Month-to-month   \n",
              "7042              Yes         Yes         Yes             Yes        Two year   \n",
              "\n",
              "     PaperlessBilling              PaymentMethod  MonthlyCharges  \\\n",
              "0                 Yes           Electronic check           29.85   \n",
              "1                  No               Mailed check           56.95   \n",
              "2                 Yes               Mailed check           53.85   \n",
              "3                  No  Bank transfer (automatic)           42.30   \n",
              "4                 Yes           Electronic check           70.70   \n",
              "...               ...                        ...             ...   \n",
              "7038              Yes               Mailed check           84.80   \n",
              "7039              Yes    Credit card (automatic)          103.20   \n",
              "7040              Yes           Electronic check           29.60   \n",
              "7041              Yes               Mailed check           74.40   \n",
              "7042              Yes  Bank transfer (automatic)          105.65   \n",
              "\n",
              "      TotalCharges Churn  \n",
              "0            29.85    No  \n",
              "1          1889.50    No  \n",
              "2           108.15   Yes  \n",
              "3          1840.75    No  \n",
              "4           151.65   Yes  \n",
              "...            ...   ...  \n",
              "7038       1990.50    No  \n",
              "7039       7362.90    No  \n",
              "7040        346.45    No  \n",
              "7041        306.60   Yes  \n",
              "7042       6844.50    No  \n",
              "\n",
              "[7032 rows x 20 columns]"
            ],
            "text/html": [
              "\n",
              "  <div id=\"df-51ef4ce9-8ced-48e2-9e44-13db07762d88\" class=\"colab-df-container\">\n",
              "    <div>\n",
              "<style scoped>\n",
              "    .dataframe tbody tr th:only-of-type {\n",
              "        vertical-align: middle;\n",
              "    }\n",
              "\n",
              "    .dataframe tbody tr th {\n",
              "        vertical-align: top;\n",
              "    }\n",
              "\n",
              "    .dataframe thead th {\n",
              "        text-align: right;\n",
              "    }\n",
              "</style>\n",
              "<table border=\"1\" class=\"dataframe\">\n",
              "  <thead>\n",
              "    <tr style=\"text-align: right;\">\n",
              "      <th></th>\n",
              "      <th>gender</th>\n",
              "      <th>SeniorCitizen</th>\n",
              "      <th>Partner</th>\n",
              "      <th>Dependents</th>\n",
              "      <th>tenure</th>\n",
              "      <th>PhoneService</th>\n",
              "      <th>MultipleLines</th>\n",
              "      <th>InternetService</th>\n",
              "      <th>OnlineSecurity</th>\n",
              "      <th>OnlineBackup</th>\n",
              "      <th>DeviceProtection</th>\n",
              "      <th>TechSupport</th>\n",
              "      <th>StreamingTV</th>\n",
              "      <th>StreamingMovies</th>\n",
              "      <th>Contract</th>\n",
              "      <th>PaperlessBilling</th>\n",
              "      <th>PaymentMethod</th>\n",
              "      <th>MonthlyCharges</th>\n",
              "      <th>TotalCharges</th>\n",
              "      <th>Churn</th>\n",
              "    </tr>\n",
              "  </thead>\n",
              "  <tbody>\n",
              "    <tr>\n",
              "      <th>0</th>\n",
              "      <td>Female</td>\n",
              "      <td>0</td>\n",
              "      <td>Yes</td>\n",
              "      <td>No</td>\n",
              "      <td>1</td>\n",
              "      <td>No</td>\n",
              "      <td>No phone service</td>\n",
              "      <td>DSL</td>\n",
              "      <td>No</td>\n",
              "      <td>Yes</td>\n",
              "      <td>No</td>\n",
              "      <td>No</td>\n",
              "      <td>No</td>\n",
              "      <td>No</td>\n",
              "      <td>Month-to-month</td>\n",
              "      <td>Yes</td>\n",
              "      <td>Electronic check</td>\n",
              "      <td>29.85</td>\n",
              "      <td>29.85</td>\n",
              "      <td>No</td>\n",
              "    </tr>\n",
              "    <tr>\n",
              "      <th>1</th>\n",
              "      <td>Male</td>\n",
              "      <td>0</td>\n",
              "      <td>No</td>\n",
              "      <td>No</td>\n",
              "      <td>34</td>\n",
              "      <td>Yes</td>\n",
              "      <td>No</td>\n",
              "      <td>DSL</td>\n",
              "      <td>Yes</td>\n",
              "      <td>No</td>\n",
              "      <td>Yes</td>\n",
              "      <td>No</td>\n",
              "      <td>No</td>\n",
              "      <td>No</td>\n",
              "      <td>One year</td>\n",
              "      <td>No</td>\n",
              "      <td>Mailed check</td>\n",
              "      <td>56.95</td>\n",
              "      <td>1889.50</td>\n",
              "      <td>No</td>\n",
              "    </tr>\n",
              "    <tr>\n",
              "      <th>2</th>\n",
              "      <td>Male</td>\n",
              "      <td>0</td>\n",
              "      <td>No</td>\n",
              "      <td>No</td>\n",
              "      <td>2</td>\n",
              "      <td>Yes</td>\n",
              "      <td>No</td>\n",
              "      <td>DSL</td>\n",
              "      <td>Yes</td>\n",
              "      <td>Yes</td>\n",
              "      <td>No</td>\n",
              "      <td>No</td>\n",
              "      <td>No</td>\n",
              "      <td>No</td>\n",
              "      <td>Month-to-month</td>\n",
              "      <td>Yes</td>\n",
              "      <td>Mailed check</td>\n",
              "      <td>53.85</td>\n",
              "      <td>108.15</td>\n",
              "      <td>Yes</td>\n",
              "    </tr>\n",
              "    <tr>\n",
              "      <th>3</th>\n",
              "      <td>Male</td>\n",
              "      <td>0</td>\n",
              "      <td>No</td>\n",
              "      <td>No</td>\n",
              "      <td>45</td>\n",
              "      <td>No</td>\n",
              "      <td>No phone service</td>\n",
              "      <td>DSL</td>\n",
              "      <td>Yes</td>\n",
              "      <td>No</td>\n",
              "      <td>Yes</td>\n",
              "      <td>Yes</td>\n",
              "      <td>No</td>\n",
              "      <td>No</td>\n",
              "      <td>One year</td>\n",
              "      <td>No</td>\n",
              "      <td>Bank transfer (automatic)</td>\n",
              "      <td>42.30</td>\n",
              "      <td>1840.75</td>\n",
              "      <td>No</td>\n",
              "    </tr>\n",
              "    <tr>\n",
              "      <th>4</th>\n",
              "      <td>Female</td>\n",
              "      <td>0</td>\n",
              "      <td>No</td>\n",
              "      <td>No</td>\n",
              "      <td>2</td>\n",
              "      <td>Yes</td>\n",
              "      <td>No</td>\n",
              "      <td>Fiber optic</td>\n",
              "      <td>No</td>\n",
              "      <td>No</td>\n",
              "      <td>No</td>\n",
              "      <td>No</td>\n",
              "      <td>No</td>\n",
              "      <td>No</td>\n",
              "      <td>Month-to-month</td>\n",
              "      <td>Yes</td>\n",
              "      <td>Electronic check</td>\n",
              "      <td>70.70</td>\n",
              "      <td>151.65</td>\n",
              "      <td>Yes</td>\n",
              "    </tr>\n",
              "    <tr>\n",
              "      <th>...</th>\n",
              "      <td>...</td>\n",
              "      <td>...</td>\n",
              "      <td>...</td>\n",
              "      <td>...</td>\n",
              "      <td>...</td>\n",
              "      <td>...</td>\n",
              "      <td>...</td>\n",
              "      <td>...</td>\n",
              "      <td>...</td>\n",
              "      <td>...</td>\n",
              "      <td>...</td>\n",
              "      <td>...</td>\n",
              "      <td>...</td>\n",
              "      <td>...</td>\n",
              "      <td>...</td>\n",
              "      <td>...</td>\n",
              "      <td>...</td>\n",
              "      <td>...</td>\n",
              "      <td>...</td>\n",
              "      <td>...</td>\n",
              "    </tr>\n",
              "    <tr>\n",
              "      <th>7038</th>\n",
              "      <td>Male</td>\n",
              "      <td>0</td>\n",
              "      <td>Yes</td>\n",
              "      <td>Yes</td>\n",
              "      <td>24</td>\n",
              "      <td>Yes</td>\n",
              "      <td>Yes</td>\n",
              "      <td>DSL</td>\n",
              "      <td>Yes</td>\n",
              "      <td>No</td>\n",
              "      <td>Yes</td>\n",
              "      <td>Yes</td>\n",
              "      <td>Yes</td>\n",
              "      <td>Yes</td>\n",
              "      <td>One year</td>\n",
              "      <td>Yes</td>\n",
              "      <td>Mailed check</td>\n",
              "      <td>84.80</td>\n",
              "      <td>1990.50</td>\n",
              "      <td>No</td>\n",
              "    </tr>\n",
              "    <tr>\n",
              "      <th>7039</th>\n",
              "      <td>Female</td>\n",
              "      <td>0</td>\n",
              "      <td>Yes</td>\n",
              "      <td>Yes</td>\n",
              "      <td>72</td>\n",
              "      <td>Yes</td>\n",
              "      <td>Yes</td>\n",
              "      <td>Fiber optic</td>\n",
              "      <td>No</td>\n",
              "      <td>Yes</td>\n",
              "      <td>Yes</td>\n",
              "      <td>No</td>\n",
              "      <td>Yes</td>\n",
              "      <td>Yes</td>\n",
              "      <td>One year</td>\n",
              "      <td>Yes</td>\n",
              "      <td>Credit card (automatic)</td>\n",
              "      <td>103.20</td>\n",
              "      <td>7362.90</td>\n",
              "      <td>No</td>\n",
              "    </tr>\n",
              "    <tr>\n",
              "      <th>7040</th>\n",
              "      <td>Female</td>\n",
              "      <td>0</td>\n",
              "      <td>Yes</td>\n",
              "      <td>Yes</td>\n",
              "      <td>11</td>\n",
              "      <td>No</td>\n",
              "      <td>No phone service</td>\n",
              "      <td>DSL</td>\n",
              "      <td>Yes</td>\n",
              "      <td>No</td>\n",
              "      <td>No</td>\n",
              "      <td>No</td>\n",
              "      <td>No</td>\n",
              "      <td>No</td>\n",
              "      <td>Month-to-month</td>\n",
              "      <td>Yes</td>\n",
              "      <td>Electronic check</td>\n",
              "      <td>29.60</td>\n",
              "      <td>346.45</td>\n",
              "      <td>No</td>\n",
              "    </tr>\n",
              "    <tr>\n",
              "      <th>7041</th>\n",
              "      <td>Male</td>\n",
              "      <td>1</td>\n",
              "      <td>Yes</td>\n",
              "      <td>No</td>\n",
              "      <td>4</td>\n",
              "      <td>Yes</td>\n",
              "      <td>Yes</td>\n",
              "      <td>Fiber optic</td>\n",
              "      <td>No</td>\n",
              "      <td>No</td>\n",
              "      <td>No</td>\n",
              "      <td>No</td>\n",
              "      <td>No</td>\n",
              "      <td>No</td>\n",
              "      <td>Month-to-month</td>\n",
              "      <td>Yes</td>\n",
              "      <td>Mailed check</td>\n",
              "      <td>74.40</td>\n",
              "      <td>306.60</td>\n",
              "      <td>Yes</td>\n",
              "    </tr>\n",
              "    <tr>\n",
              "      <th>7042</th>\n",
              "      <td>Male</td>\n",
              "      <td>0</td>\n",
              "      <td>No</td>\n",
              "      <td>No</td>\n",
              "      <td>66</td>\n",
              "      <td>Yes</td>\n",
              "      <td>No</td>\n",
              "      <td>Fiber optic</td>\n",
              "      <td>Yes</td>\n",
              "      <td>No</td>\n",
              "      <td>Yes</td>\n",
              "      <td>Yes</td>\n",
              "      <td>Yes</td>\n",
              "      <td>Yes</td>\n",
              "      <td>Two year</td>\n",
              "      <td>Yes</td>\n",
              "      <td>Bank transfer (automatic)</td>\n",
              "      <td>105.65</td>\n",
              "      <td>6844.50</td>\n",
              "      <td>No</td>\n",
              "    </tr>\n",
              "  </tbody>\n",
              "</table>\n",
              "<p>7032 rows × 20 columns</p>\n",
              "</div>\n",
              "    <div class=\"colab-df-buttons\">\n",
              "\n",
              "  <div class=\"colab-df-container\">\n",
              "    <button class=\"colab-df-convert\" onclick=\"convertToInteractive('df-51ef4ce9-8ced-48e2-9e44-13db07762d88')\"\n",
              "            title=\"Convert this dataframe to an interactive table.\"\n",
              "            style=\"display:none;\">\n",
              "\n",
              "  <svg xmlns=\"http://www.w3.org/2000/svg\" height=\"24px\" viewBox=\"0 -960 960 960\">\n",
              "    <path d=\"M120-120v-720h720v720H120Zm60-500h600v-160H180v160Zm220 220h160v-160H400v160Zm0 220h160v-160H400v160ZM180-400h160v-160H180v160Zm440 0h160v-160H620v160ZM180-180h160v-160H180v160Zm440 0h160v-160H620v160Z\"/>\n",
              "  </svg>\n",
              "    </button>\n",
              "\n",
              "  <style>\n",
              "    .colab-df-container {\n",
              "      display:flex;\n",
              "      gap: 12px;\n",
              "    }\n",
              "\n",
              "    .colab-df-convert {\n",
              "      background-color: #E8F0FE;\n",
              "      border: none;\n",
              "      border-radius: 50%;\n",
              "      cursor: pointer;\n",
              "      display: none;\n",
              "      fill: #1967D2;\n",
              "      height: 32px;\n",
              "      padding: 0 0 0 0;\n",
              "      width: 32px;\n",
              "    }\n",
              "\n",
              "    .colab-df-convert:hover {\n",
              "      background-color: #E2EBFA;\n",
              "      box-shadow: 0px 1px 2px rgba(60, 64, 67, 0.3), 0px 1px 3px 1px rgba(60, 64, 67, 0.15);\n",
              "      fill: #174EA6;\n",
              "    }\n",
              "\n",
              "    .colab-df-buttons div {\n",
              "      margin-bottom: 4px;\n",
              "    }\n",
              "\n",
              "    [theme=dark] .colab-df-convert {\n",
              "      background-color: #3B4455;\n",
              "      fill: #D2E3FC;\n",
              "    }\n",
              "\n",
              "    [theme=dark] .colab-df-convert:hover {\n",
              "      background-color: #434B5C;\n",
              "      box-shadow: 0px 1px 3px 1px rgba(0, 0, 0, 0.15);\n",
              "      filter: drop-shadow(0px 1px 2px rgba(0, 0, 0, 0.3));\n",
              "      fill: #FFFFFF;\n",
              "    }\n",
              "  </style>\n",
              "\n",
              "    <script>\n",
              "      const buttonEl =\n",
              "        document.querySelector('#df-51ef4ce9-8ced-48e2-9e44-13db07762d88 button.colab-df-convert');\n",
              "      buttonEl.style.display =\n",
              "        google.colab.kernel.accessAllowed ? 'block' : 'none';\n",
              "\n",
              "      async function convertToInteractive(key) {\n",
              "        const element = document.querySelector('#df-51ef4ce9-8ced-48e2-9e44-13db07762d88');\n",
              "        const dataTable =\n",
              "          await google.colab.kernel.invokeFunction('convertToInteractive',\n",
              "                                                    [key], {});\n",
              "        if (!dataTable) return;\n",
              "\n",
              "        const docLinkHtml = 'Like what you see? Visit the ' +\n",
              "          '<a target=\"_blank\" href=https://colab.research.google.com/notebooks/data_table.ipynb>data table notebook</a>'\n",
              "          + ' to learn more about interactive tables.';\n",
              "        element.innerHTML = '';\n",
              "        dataTable['output_type'] = 'display_data';\n",
              "        await google.colab.output.renderOutput(dataTable, element);\n",
              "        const docLink = document.createElement('div');\n",
              "        docLink.innerHTML = docLinkHtml;\n",
              "        element.appendChild(docLink);\n",
              "      }\n",
              "    </script>\n",
              "  </div>\n",
              "\n",
              "\n",
              "<div id=\"df-c1f26ac8-31e2-4f8e-a348-c79373c9b995\">\n",
              "  <button class=\"colab-df-quickchart\" onclick=\"quickchart('df-c1f26ac8-31e2-4f8e-a348-c79373c9b995')\"\n",
              "            title=\"Suggest charts\"\n",
              "            style=\"display:none;\">\n",
              "\n",
              "<svg xmlns=\"http://www.w3.org/2000/svg\" height=\"24px\"viewBox=\"0 0 24 24\"\n",
              "     width=\"24px\">\n",
              "    <g>\n",
              "        <path d=\"M19 3H5c-1.1 0-2 .9-2 2v14c0 1.1.9 2 2 2h14c1.1 0 2-.9 2-2V5c0-1.1-.9-2-2-2zM9 17H7v-7h2v7zm4 0h-2V7h2v10zm4 0h-2v-4h2v4z\"/>\n",
              "    </g>\n",
              "</svg>\n",
              "  </button>\n",
              "\n",
              "<style>\n",
              "  .colab-df-quickchart {\n",
              "      --bg-color: #E8F0FE;\n",
              "      --fill-color: #1967D2;\n",
              "      --hover-bg-color: #E2EBFA;\n",
              "      --hover-fill-color: #174EA6;\n",
              "      --disabled-fill-color: #AAA;\n",
              "      --disabled-bg-color: #DDD;\n",
              "  }\n",
              "\n",
              "  [theme=dark] .colab-df-quickchart {\n",
              "      --bg-color: #3B4455;\n",
              "      --fill-color: #D2E3FC;\n",
              "      --hover-bg-color: #434B5C;\n",
              "      --hover-fill-color: #FFFFFF;\n",
              "      --disabled-bg-color: #3B4455;\n",
              "      --disabled-fill-color: #666;\n",
              "  }\n",
              "\n",
              "  .colab-df-quickchart {\n",
              "    background-color: var(--bg-color);\n",
              "    border: none;\n",
              "    border-radius: 50%;\n",
              "    cursor: pointer;\n",
              "    display: none;\n",
              "    fill: var(--fill-color);\n",
              "    height: 32px;\n",
              "    padding: 0;\n",
              "    width: 32px;\n",
              "  }\n",
              "\n",
              "  .colab-df-quickchart:hover {\n",
              "    background-color: var(--hover-bg-color);\n",
              "    box-shadow: 0 1px 2px rgba(60, 64, 67, 0.3), 0 1px 3px 1px rgba(60, 64, 67, 0.15);\n",
              "    fill: var(--button-hover-fill-color);\n",
              "  }\n",
              "\n",
              "  .colab-df-quickchart-complete:disabled,\n",
              "  .colab-df-quickchart-complete:disabled:hover {\n",
              "    background-color: var(--disabled-bg-color);\n",
              "    fill: var(--disabled-fill-color);\n",
              "    box-shadow: none;\n",
              "  }\n",
              "\n",
              "  .colab-df-spinner {\n",
              "    border: 2px solid var(--fill-color);\n",
              "    border-color: transparent;\n",
              "    border-bottom-color: var(--fill-color);\n",
              "    animation:\n",
              "      spin 1s steps(1) infinite;\n",
              "  }\n",
              "\n",
              "  @keyframes spin {\n",
              "    0% {\n",
              "      border-color: transparent;\n",
              "      border-bottom-color: var(--fill-color);\n",
              "      border-left-color: var(--fill-color);\n",
              "    }\n",
              "    20% {\n",
              "      border-color: transparent;\n",
              "      border-left-color: var(--fill-color);\n",
              "      border-top-color: var(--fill-color);\n",
              "    }\n",
              "    30% {\n",
              "      border-color: transparent;\n",
              "      border-left-color: var(--fill-color);\n",
              "      border-top-color: var(--fill-color);\n",
              "      border-right-color: var(--fill-color);\n",
              "    }\n",
              "    40% {\n",
              "      border-color: transparent;\n",
              "      border-right-color: var(--fill-color);\n",
              "      border-top-color: var(--fill-color);\n",
              "    }\n",
              "    60% {\n",
              "      border-color: transparent;\n",
              "      border-right-color: var(--fill-color);\n",
              "    }\n",
              "    80% {\n",
              "      border-color: transparent;\n",
              "      border-right-color: var(--fill-color);\n",
              "      border-bottom-color: var(--fill-color);\n",
              "    }\n",
              "    90% {\n",
              "      border-color: transparent;\n",
              "      border-bottom-color: var(--fill-color);\n",
              "    }\n",
              "  }\n",
              "</style>\n",
              "\n",
              "  <script>\n",
              "    async function quickchart(key) {\n",
              "      const quickchartButtonEl =\n",
              "        document.querySelector('#' + key + ' button');\n",
              "      quickchartButtonEl.disabled = true;  // To prevent multiple clicks.\n",
              "      quickchartButtonEl.classList.add('colab-df-spinner');\n",
              "      try {\n",
              "        const charts = await google.colab.kernel.invokeFunction(\n",
              "            'suggestCharts', [key], {});\n",
              "      } catch (error) {\n",
              "        console.error('Error during call to suggestCharts:', error);\n",
              "      }\n",
              "      quickchartButtonEl.classList.remove('colab-df-spinner');\n",
              "      quickchartButtonEl.classList.add('colab-df-quickchart-complete');\n",
              "    }\n",
              "    (() => {\n",
              "      let quickchartButtonEl =\n",
              "        document.querySelector('#df-c1f26ac8-31e2-4f8e-a348-c79373c9b995 button');\n",
              "      quickchartButtonEl.style.display =\n",
              "        google.colab.kernel.accessAllowed ? 'block' : 'none';\n",
              "    })();\n",
              "  </script>\n",
              "</div>\n",
              "\n",
              "  <div id=\"id_95f3d6f2-ab31-4eee-a527-62db2dc3d67c\">\n",
              "    <style>\n",
              "      .colab-df-generate {\n",
              "        background-color: #E8F0FE;\n",
              "        border: none;\n",
              "        border-radius: 50%;\n",
              "        cursor: pointer;\n",
              "        display: none;\n",
              "        fill: #1967D2;\n",
              "        height: 32px;\n",
              "        padding: 0 0 0 0;\n",
              "        width: 32px;\n",
              "      }\n",
              "\n",
              "      .colab-df-generate:hover {\n",
              "        background-color: #E2EBFA;\n",
              "        box-shadow: 0px 1px 2px rgba(60, 64, 67, 0.3), 0px 1px 3px 1px rgba(60, 64, 67, 0.15);\n",
              "        fill: #174EA6;\n",
              "      }\n",
              "\n",
              "      [theme=dark] .colab-df-generate {\n",
              "        background-color: #3B4455;\n",
              "        fill: #D2E3FC;\n",
              "      }\n",
              "\n",
              "      [theme=dark] .colab-df-generate:hover {\n",
              "        background-color: #434B5C;\n",
              "        box-shadow: 0px 1px 3px 1px rgba(0, 0, 0, 0.15);\n",
              "        filter: drop-shadow(0px 1px 2px rgba(0, 0, 0, 0.3));\n",
              "        fill: #FFFFFF;\n",
              "      }\n",
              "    </style>\n",
              "    <button class=\"colab-df-generate\" onclick=\"generateWithVariable('df_new')\"\n",
              "            title=\"Generate code using this dataframe.\"\n",
              "            style=\"display:none;\">\n",
              "\n",
              "  <svg xmlns=\"http://www.w3.org/2000/svg\" height=\"24px\"viewBox=\"0 0 24 24\"\n",
              "       width=\"24px\">\n",
              "    <path d=\"M7,19H8.4L18.45,9,17,7.55,7,17.6ZM5,21V16.75L18.45,3.32a2,2,0,0,1,2.83,0l1.4,1.43a1.91,1.91,0,0,1,.58,1.4,1.91,1.91,0,0,1-.58,1.4L9.25,21ZM18.45,9,17,7.55Zm-12,3A5.31,5.31,0,0,0,4.9,8.1,5.31,5.31,0,0,0,1,6.5,5.31,5.31,0,0,0,4.9,4.9,5.31,5.31,0,0,0,6.5,1,5.31,5.31,0,0,0,8.1,4.9,5.31,5.31,0,0,0,12,6.5,5.46,5.46,0,0,0,6.5,12Z\"/>\n",
              "  </svg>\n",
              "    </button>\n",
              "    <script>\n",
              "      (() => {\n",
              "      const buttonEl =\n",
              "        document.querySelector('#id_95f3d6f2-ab31-4eee-a527-62db2dc3d67c button.colab-df-generate');\n",
              "      buttonEl.style.display =\n",
              "        google.colab.kernel.accessAllowed ? 'block' : 'none';\n",
              "\n",
              "      buttonEl.onclick = () => {\n",
              "        google.colab.notebook.generateWithVariable('df_new');\n",
              "      }\n",
              "      })();\n",
              "    </script>\n",
              "  </div>\n",
              "\n",
              "    </div>\n",
              "  </div>\n"
            ],
            "application/vnd.google.colaboratory.intrinsic+json": {
              "type": "dataframe",
              "variable_name": "df_new",
              "summary": "{\n  \"name\": \"df_new\",\n  \"rows\": 7032,\n  \"fields\": [\n    {\n      \"column\": \"gender\",\n      \"properties\": {\n        \"dtype\": \"category\",\n        \"num_unique_values\": 2,\n        \"samples\": [\n          \"Male\",\n          \"Female\"\n        ],\n        \"semantic_type\": \"\",\n        \"description\": \"\"\n      }\n    },\n    {\n      \"column\": \"SeniorCitizen\",\n      \"properties\": {\n        \"dtype\": \"number\",\n        \"std\": 0,\n        \"min\": 0,\n        \"max\": 1,\n        \"num_unique_values\": 2,\n        \"samples\": [\n          1,\n          0\n        ],\n        \"semantic_type\": \"\",\n        \"description\": \"\"\n      }\n    },\n    {\n      \"column\": \"Partner\",\n      \"properties\": {\n        \"dtype\": \"category\",\n        \"num_unique_values\": 2,\n        \"samples\": [\n          \"No\",\n          \"Yes\"\n        ],\n        \"semantic_type\": \"\",\n        \"description\": \"\"\n      }\n    },\n    {\n      \"column\": \"Dependents\",\n      \"properties\": {\n        \"dtype\": \"category\",\n        \"num_unique_values\": 2,\n        \"samples\": [\n          \"Yes\",\n          \"No\"\n        ],\n        \"semantic_type\": \"\",\n        \"description\": \"\"\n      }\n    },\n    {\n      \"column\": \"tenure\",\n      \"properties\": {\n        \"dtype\": \"number\",\n        \"std\": 24,\n        \"min\": 1,\n        \"max\": 72,\n        \"num_unique_values\": 72,\n        \"samples\": [\n          8,\n          53\n        ],\n        \"semantic_type\": \"\",\n        \"description\": \"\"\n      }\n    },\n    {\n      \"column\": \"PhoneService\",\n      \"properties\": {\n        \"dtype\": \"category\",\n        \"num_unique_values\": 2,\n        \"samples\": [\n          \"Yes\",\n          \"No\"\n        ],\n        \"semantic_type\": \"\",\n        \"description\": \"\"\n      }\n    },\n    {\n      \"column\": \"MultipleLines\",\n      \"properties\": {\n        \"dtype\": \"category\",\n        \"num_unique_values\": 3,\n        \"samples\": [\n          \"No phone service\",\n          \"No\"\n        ],\n        \"semantic_type\": \"\",\n        \"description\": \"\"\n      }\n    },\n    {\n      \"column\": \"InternetService\",\n      \"properties\": {\n        \"dtype\": \"category\",\n        \"num_unique_values\": 3,\n        \"samples\": [\n          \"DSL\",\n          \"Fiber optic\"\n        ],\n        \"semantic_type\": \"\",\n        \"description\": \"\"\n      }\n    },\n    {\n      \"column\": \"OnlineSecurity\",\n      \"properties\": {\n        \"dtype\": \"category\",\n        \"num_unique_values\": 3,\n        \"samples\": [\n          \"No\",\n          \"Yes\"\n        ],\n        \"semantic_type\": \"\",\n        \"description\": \"\"\n      }\n    },\n    {\n      \"column\": \"OnlineBackup\",\n      \"properties\": {\n        \"dtype\": \"category\",\n        \"num_unique_values\": 3,\n        \"samples\": [\n          \"Yes\",\n          \"No\"\n        ],\n        \"semantic_type\": \"\",\n        \"description\": \"\"\n      }\n    },\n    {\n      \"column\": \"DeviceProtection\",\n      \"properties\": {\n        \"dtype\": \"category\",\n        \"num_unique_values\": 3,\n        \"samples\": [\n          \"No\",\n          \"Yes\"\n        ],\n        \"semantic_type\": \"\",\n        \"description\": \"\"\n      }\n    },\n    {\n      \"column\": \"TechSupport\",\n      \"properties\": {\n        \"dtype\": \"category\",\n        \"num_unique_values\": 3,\n        \"samples\": [\n          \"No\",\n          \"Yes\"\n        ],\n        \"semantic_type\": \"\",\n        \"description\": \"\"\n      }\n    },\n    {\n      \"column\": \"StreamingTV\",\n      \"properties\": {\n        \"dtype\": \"category\",\n        \"num_unique_values\": 3,\n        \"samples\": [\n          \"No\",\n          \"Yes\"\n        ],\n        \"semantic_type\": \"\",\n        \"description\": \"\"\n      }\n    },\n    {\n      \"column\": \"StreamingMovies\",\n      \"properties\": {\n        \"dtype\": \"category\",\n        \"num_unique_values\": 3,\n        \"samples\": [\n          \"No\",\n          \"Yes\"\n        ],\n        \"semantic_type\": \"\",\n        \"description\": \"\"\n      }\n    },\n    {\n      \"column\": \"Contract\",\n      \"properties\": {\n        \"dtype\": \"category\",\n        \"num_unique_values\": 3,\n        \"samples\": [\n          \"Month-to-month\",\n          \"One year\"\n        ],\n        \"semantic_type\": \"\",\n        \"description\": \"\"\n      }\n    },\n    {\n      \"column\": \"PaperlessBilling\",\n      \"properties\": {\n        \"dtype\": \"category\",\n        \"num_unique_values\": 2,\n        \"samples\": [\n          \"No\",\n          \"Yes\"\n        ],\n        \"semantic_type\": \"\",\n        \"description\": \"\"\n      }\n    },\n    {\n      \"column\": \"PaymentMethod\",\n      \"properties\": {\n        \"dtype\": \"category\",\n        \"num_unique_values\": 4,\n        \"samples\": [\n          \"Mailed check\",\n          \"Credit card (automatic)\"\n        ],\n        \"semantic_type\": \"\",\n        \"description\": \"\"\n      }\n    },\n    {\n      \"column\": \"MonthlyCharges\",\n      \"properties\": {\n        \"dtype\": \"number\",\n        \"std\": 30.085973884049842,\n        \"min\": 18.25,\n        \"max\": 118.75,\n        \"num_unique_values\": 1584,\n        \"samples\": [\n          102.85,\n          20.05\n        ],\n        \"semantic_type\": \"\",\n        \"description\": \"\"\n      }\n    },\n    {\n      \"column\": \"TotalCharges\",\n      \"properties\": {\n        \"dtype\": \"number\",\n        \"std\": 2266.771361883145,\n        \"min\": 18.8,\n        \"max\": 8684.8,\n        \"num_unique_values\": 6530,\n        \"samples\": [\n          5594.0,\n          6840.95\n        ],\n        \"semantic_type\": \"\",\n        \"description\": \"\"\n      }\n    },\n    {\n      \"column\": \"Churn\",\n      \"properties\": {\n        \"dtype\": \"category\",\n        \"num_unique_values\": 2,\n        \"samples\": [\n          \"Yes\",\n          \"No\"\n        ],\n        \"semantic_type\": \"\",\n        \"description\": \"\"\n      }\n    }\n  ]\n}"
            }
          },
          "metadata": {},
          "execution_count": 20
        }
      ]
    },
    {
      "cell_type": "code",
      "source": [
        "from matplotlib import pyplot as plt"
      ],
      "metadata": {
        "id": "C8FE4hkYFtPp"
      },
      "execution_count": 22,
      "outputs": []
    },
    {
      "source": [
        "# @title MonthlyCharges vs TotalCharges\n",
        "\n",
        "import seaborn as sns\n",
        "#df_new.plot(kind='scatter', x='MonthlyCharges', y='TotalCharges', s=32, alpha=.8,hue='Churn')\n",
        "plt.figure(figsize=(10,7))\n",
        "sns.scatterplot(data=df_new,x='MonthlyCharges', y='TotalCharges', s=32, alpha=.8,hue='Churn')\n",
        "#plt.gca().spines[['top', 'right',]].set_visible(False)\n",
        "plt.show()"
      ],
      "cell_type": "code",
      "execution_count": 23,
      "outputs": [
        {
          "output_type": "display_data",
          "data": {
            "text/plain": [
              "<Figure size 1000x700 with 1 Axes>"
            ],
            "image/png": "[encoded data removed]"
          },
          "metadata": {}
        }
      ],
      "metadata": {
        "id": "uHHQf1kj2GQJ",
        "colab": {
          "base_uri": "https://localhost:8080/",
          "height": 619
        },
        "outputId": "5aaaa4e0-a41b-4b80-eedc-dd60b7ed9251"
      }
    },
    {
      "source": [
        "# @title tenure\n",
        "\n",
        "\n",
        "#df_new['tenure'].plot(kind='hist', bins=20, title='tenure',)\n",
        "fig,(ax1,ax2)=plt.subplots(nrows=1,ncols=2)\n",
        "sns.histplot((df_new[df_new['Churn']=='Yes']['tenure']),ax=ax1)\n",
        "sns.histplot(x=df_new[df_new['Churn']=='No']['tenure'],ax=ax2)\n",
        "plt.gca().spines[['top', 'right',]].set_visible(False)"
      ],
      "cell_type": "code",
      "execution_count": 24,
      "outputs": [
        {
          "output_type": "display_data",
          "data": {
            "text/plain": [
              "<Figure size 640x480 with 2 Axes>"
            ],
            "image/png": "[encoded data removed]"
          },
          "metadata": {}
        }
      ],
      "metadata": {
        "id": "fAZ2k5MT1rZZ",
        "colab": {
          "base_uri": "https://localhost:8080/",
          "height": 449
        },
        "outputId": "2e7b1973-1df3-4d40-c2fa-06daa3d1f5e0"
      }
    },
    {
      "source": [
        "# @title SeniorCitizen\n",
        "\n",
        "from matplotlib import pyplot as plt\n",
        "df_new['SeniorCitizen'].plot(kind='hist', bins=20, title='SeniorCitizen')\n",
        "plt.gca().spines[['top', 'right',]].set_visible(False)"
      ],
      "cell_type": "code",
      "execution_count": 25,
      "outputs": [
        {
          "output_type": "display_data",
          "data": {
            "text/plain": [
              "<Figure size 640x480 with 1 Axes>"
            ],
            "image/png": "[encoded data removed]"
          },
          "metadata": {}
        }
      ],
      "metadata": {
        "id": "d3gYoI381Yq3",
        "colab": {
          "base_uri": "https://localhost:8080/",
          "height": 452
        },
        "outputId": "1a3f6c6c-7137-4a36-993c-96e0ed7edb63"
      }
    },
    {
      "cell_type": "code",
      "source": [
        "plt.figure(figsize=(10,7))\n",
        "sns.countplot(data=df_new,x='Churn')\n",
        "#plt.gca().spines[['top', 'right',]].set_visible(False)\n",
        "plt.show()"
      ],
      "metadata": {
        "id": "cr1En_v31KI7",
        "colab": {
          "base_uri": "https://localhost:8080/",
          "height": 619
        },
        "outputId": "ed5a7694-3ae8-43a8-eb36-22d568864e6f"
      },
      "execution_count": 26,
      "outputs": [
        {
          "output_type": "display_data",
          "data": {
            "text/plain": [
              "<Figure size 1000x700 with 1 Axes>"
            ],
            "image/png": "[encoded data removed]"
          },
          "metadata": {}
        }
      ]
    },
    {
      "cell_type": "code",
      "source": [
        "df_new.info()"
      ],
      "metadata": {
        "id": "UU1Cpnp39DQB",
        "colab": {
          "base_uri": "https://localhost:8080/"
        },
        "outputId": "95944106-3953-48e1-d292-5d03735708bd"
      },
      "execution_count": 27,
      "outputs": [
        {
          "output_type": "stream",
          "name": "stdout",
          "text": [
            "<class 'pandas.core.frame.DataFrame'>\n",
            "Int64Index: 7032 entries, 0 to 7042\n",
            "Data columns (total 20 columns):\n",
            " #   Column            Non-Null Count  Dtype  \n",
            "---  ------            --------------  -----  \n",
            " 0   gender            7032 non-null   object \n",
            " 1   SeniorCitizen     7032 non-null   int64  \n",
            " 2   Partner           7032 non-null   object \n",
            " 3   Dependents        7032 non-null   object \n",
            " 4   tenure            7032 non-null   int64  \n",
            " 5   PhoneService      7032 non-null   object \n",
            " 6   MultipleLines     7032 non-null   object \n",
            " 7   InternetService   7032 non-null   object \n",
            " 8   OnlineSecurity    7032 non-null   object \n",
            " 9   OnlineBackup      7032 non-null   object \n",
            " 10  DeviceProtection  7032 non-null   object \n",
            " 11  TechSupport       7032 non-null   object \n",
            " 12  StreamingTV       7032 non-null   object \n",
            " 13  StreamingMovies   7032 non-null   object \n",
            " 14  Contract          7032 non-null   object \n",
            " 15  PaperlessBilling  7032 non-null   object \n",
            " 16  PaymentMethod     7032 non-null   object \n",
            " 17  MonthlyCharges    7032 non-null   float64\n",
            " 18  TotalCharges      7032 non-null   float64\n",
            " 19  Churn             7032 non-null   object \n",
            "dtypes: float64(2), int64(2), object(16)\n",
            "memory usage: 1.1+ MB\n"
          ]
        }
      ]
    },
    {
      "cell_type": "code",
      "source": [
        "def print_cat_unique_values(df_new):\n",
        "  for col in df_new:\n",
        "    if df_new[col].dtypes=='object':\n",
        "      print(f'{col} : {df_new[col].unique()}')"
      ],
      "metadata": {
        "id": "w5k20gbR4BRl"
      },
      "execution_count": 28,
      "outputs": []
    },
    {
      "cell_type": "code",
      "source": [
        "print_cat_unique_values(df_new)"
      ],
      "metadata": {
        "colab": {
          "base_uri": "https://localhost:8080/"
        },
        "id": "L5EFoMZW-QXk",
        "outputId": "695a36ad-0c9e-4d51-885f-fc31f9b5db1c"
      },
      "execution_count": 29,
      "outputs": [
        {
          "output_type": "stream",
          "name": "stdout",
          "text": [
            "gender : ['Female' 'Male']\n",
            "Partner : ['Yes' 'No']\n",
            "Dependents : ['No' 'Yes']\n",
            "PhoneService : ['No' 'Yes']\n",
            "MultipleLines : ['No phone service' 'No' 'Yes']\n",
            "InternetService : ['DSL' 'Fiber optic' 'No']\n",
            "OnlineSecurity : ['No' 'Yes' 'No internet service']\n",
            "OnlineBackup : ['Yes' 'No' 'No internet service']\n",
            "DeviceProtection : ['No' 'Yes' 'No internet service']\n",
            "TechSupport : ['No' 'Yes' 'No internet service']\n",
            "StreamingTV : ['No' 'Yes' 'No internet service']\n",
            "StreamingMovies : ['No' 'Yes' 'No internet service']\n",
            "Contract : ['Month-to-month' 'One year' 'Two year']\n",
            "PaperlessBilling : ['Yes' 'No']\n",
            "PaymentMethod : ['Electronic check' 'Mailed check' 'Bank transfer (automatic)'\n",
            " 'Credit card (automatic)']\n",
            "Churn : ['No' 'Yes']\n"
          ]
        }
      ]
    },
    {
      "cell_type": "code",
      "source": [
        "df_new.replace(to_replace='No phone service',value='No',inplace=True)\n",
        "df_new.replace(to_replace='No internet service',value='No',inplace=True)"
      ],
      "metadata": {
        "colab": {
          "base_uri": "https://localhost:8080/"
        },
        "id": "Y8CzG0U08TSQ",
        "outputId": "abe201e1-611c-47ad-dc1d-2919df0b863b"
      },
      "execution_count": 30,
      "outputs": [
        {
          "output_type": "stream",
          "name": "stderr",
          "text": [
            "<ipython-input-30-fb469b754539>:1: SettingWithCopyWarning: \n",
            "A value is trying to be set on a copy of a slice from a DataFrame\n",
            "\n",
            "See the caveats in the documentation: https://pandas.pydata.org/pandas-docs/stable/user_guide/indexing.html#returning-a-view-versus-a-copy\n",
            "  df_new.replace(to_replace='No phone service',value='No',inplace=True)\n",
            "<ipython-input-30-fb469b754539>:2: SettingWithCopyWarning: \n",
            "A value is trying to be set on a copy of a slice from a DataFrame\n",
            "\n",
            "See the caveats in the documentation: https://pandas.pydata.org/pandas-docs/stable/user_guide/indexing.html#returning-a-view-versus-a-copy\n",
            "  df_new.replace(to_replace='No internet service',value='No',inplace=True)\n"
          ]
        }
      ]
    },
    {
      "cell_type": "code",
      "source": [
        "print_cat_unique_values(df_new)"
      ],
      "metadata": {
        "colab": {
          "base_uri": "https://localhost:8080/"
        },
        "id": "NcoGgEpg-UyN",
        "outputId": "398d53e2-4c9f-4892-828a-a4f5fece6aa2"
      },
      "execution_count": 31,
      "outputs": [
        {
          "output_type": "stream",
          "name": "stdout",
          "text": [
            "gender : ['Female' 'Male']\n",
            "Partner : ['Yes' 'No']\n",
            "Dependents : ['No' 'Yes']\n",
            "PhoneService : ['No' 'Yes']\n",
            "MultipleLines : ['No' 'Yes']\n",
            "InternetService : ['DSL' 'Fiber optic' 'No']\n",
            "OnlineSecurity : ['No' 'Yes']\n",
            "OnlineBackup : ['Yes' 'No']\n",
            "DeviceProtection : ['No' 'Yes']\n",
            "TechSupport : ['No' 'Yes']\n",
            "StreamingTV : ['No' 'Yes']\n",
            "StreamingMovies : ['No' 'Yes']\n",
            "Contract : ['Month-to-month' 'One year' 'Two year']\n",
            "PaperlessBilling : ['Yes' 'No']\n",
            "PaymentMethod : ['Electronic check' 'Mailed check' 'Bank transfer (automatic)'\n",
            " 'Credit card (automatic)']\n",
            "Churn : ['No' 'Yes']\n"
          ]
        }
      ]
    },
    {
      "cell_type": "code",
      "source": [
        "df_new.replace(to_replace='Yes',value=1,inplace=True)\n",
        "df_new.replace(to_replace='No',value=0,inplace=True)"
      ],
      "metadata": {
        "colab": {
          "base_uri": "https://localhost:8080/"
        },
        "id": "ZovsnRJJ-WSt",
        "outputId": "37efca2c-3b19-4493-e172-8f6e6411232a"
      },
      "execution_count": 32,
      "outputs": [
        {
          "output_type": "stream",
          "name": "stderr",
          "text": [
            "<ipython-input-32-509daab02b16>:1: SettingWithCopyWarning: \n",
            "A value is trying to be set on a copy of a slice from a DataFrame\n",
            "\n",
            "See the caveats in the documentation: https://pandas.pydata.org/pandas-docs/stable/user_guide/indexing.html#returning-a-view-versus-a-copy\n",
            "  df_new.replace(to_replace='Yes',value=1,inplace=True)\n",
            "<ipython-input-32-509daab02b16>:2: SettingWithCopyWarning: \n",
            "A value is trying to be set on a copy of a slice from a DataFrame\n",
            "\n",
            "See the caveats in the documentation: https://pandas.pydata.org/pandas-docs/stable/user_guide/indexing.html#returning-a-view-versus-a-copy\n",
            "  df_new.replace(to_replace='No',value=0,inplace=True)\n"
          ]
        }
      ]
    },
    {
      "cell_type": "code",
      "source": [
        "print_cat_unique_values(df_new)"
      ],
      "metadata": {
        "colab": {
          "base_uri": "https://localhost:8080/"
        },
        "id": "4PgWz-Im-xdn",
        "outputId": "96a57ced-047b-4cb7-a46e-3d88eb9dd329"
      },
      "execution_count": 33,
      "outputs": [
        {
          "output_type": "stream",
          "name": "stdout",
          "text": [
            "gender : ['Female' 'Male']\n",
            "InternetService : ['DSL' 'Fiber optic' 0]\n",
            "Contract : ['Month-to-month' 'One year' 'Two year']\n",
            "PaymentMethod : ['Electronic check' 'Mailed check' 'Bank transfer (automatic)'\n",
            " 'Credit card (automatic)']\n"
          ]
        }
      ]
    },
    {
      "cell_type": "code",
      "source": [
        "for col in df_new:\n",
        "    print(f'{col} : {df_new[col].unique()}')"
      ],
      "metadata": {
        "colab": {
          "base_uri": "https://localhost:8080/"
        },
        "id": "vhNnr7Un_Pjv",
        "outputId": "fcd798cb-8424-4436-f634-fab12e6814cd"
      },
      "execution_count": 34,
      "outputs": [
        {
          "output_type": "stream",
          "name": "stdout",
          "text": [
            "gender : ['Female' 'Male']\n",
            "SeniorCitizen : [0 1]\n",
            "Partner : [1 0]\n",
            "Dependents : [0 1]\n",
            "tenure : [ 1 34  2 45  8 22 10 28 62 13 16 58 49 25 69 52 71 21 12 30 47 72 17 27\n",
            "  5 46 11 70 63 43 15 60 18 66  9  3 31 50 64 56  7 42 35 48 29 65 38 68\n",
            " 32 55 37 36 41  6  4 33 67 23 57 61 14 20 53 40 59 24 44 19 54 51 26 39]\n",
            "PhoneService : [0 1]\n",
            "MultipleLines : [0 1]\n",
            "InternetService : ['DSL' 'Fiber optic' 0]\n",
            "OnlineSecurity : [0 1]\n",
            "OnlineBackup : [1 0]\n",
            "DeviceProtection : [0 1]\n",
            "TechSupport : [0 1]\n",
            "StreamingTV : [0 1]\n",
            "StreamingMovies : [0 1]\n",
            "Contract : ['Month-to-month' 'One year' 'Two year']\n",
            "PaperlessBilling : [1 0]\n",
            "PaymentMethod : ['Electronic check' 'Mailed check' 'Bank transfer (automatic)'\n",
            " 'Credit card (automatic)']\n",
            "MonthlyCharges : [29.85 56.95 53.85 ... 63.1  44.2  78.7 ]\n",
            "TotalCharges : [  29.85 1889.5   108.15 ...  346.45  306.6  6844.5 ]\n",
            "Churn : [0 1]\n"
          ]
        }
      ]
    },
    {
      "cell_type": "code",
      "source": [
        "df_new['gender'].replace({'Female':1,'Male':0},inplace=True)\n"
      ],
      "metadata": {
        "colab": {
          "base_uri": "https://localhost:8080/"
        },
        "id": "njVJqncM_ri-",
        "outputId": "71d8b450-867c-4145-f48f-19387c2fe29a"
      },
      "execution_count": 35,
      "outputs": [
        {
          "output_type": "stream",
          "name": "stderr",
          "text": [
            "<ipython-input-35-c413cdcba628>:1: SettingWithCopyWarning: \n",
            "A value is trying to be set on a copy of a slice from a DataFrame\n",
            "\n",
            "See the caveats in the documentation: https://pandas.pydata.org/pandas-docs/stable/user_guide/indexing.html#returning-a-view-versus-a-copy\n",
            "  df_new['gender'].replace({'Female':1,'Male':0},inplace=True)\n"
          ]
        }
      ]
    },
    {
      "cell_type": "code",
      "source": [
        "df_new['InternetService'].replace({0:'No'},inplace=True)"
      ],
      "metadata": {
        "colab": {
          "base_uri": "https://localhost:8080/"
        },
        "id": "e2YuFgFQAGSu",
        "outputId": "097cb918-ed39-44d3-b147-721b07eea101"
      },
      "execution_count": 36,
      "outputs": [
        {
          "output_type": "stream",
          "name": "stderr",
          "text": [
            "<ipython-input-36-b9398563c4e7>:1: SettingWithCopyWarning: \n",
            "A value is trying to be set on a copy of a slice from a DataFrame\n",
            "\n",
            "See the caveats in the documentation: https://pandas.pydata.org/pandas-docs/stable/user_guide/indexing.html#returning-a-view-versus-a-copy\n",
            "  df_new['InternetService'].replace({0:'No'},inplace=True)\n"
          ]
        }
      ]
    },
    {
      "cell_type": "code",
      "source": [
        "df_final=pd.get_dummies(data=df_new,columns=['InternetService','Contract','PaymentMethod'],drop_first=True)"
      ],
      "metadata": {
        "id": "X5K7QWE4Asvx"
      },
      "execution_count": 37,
      "outputs": []
    },
    {
      "cell_type": "code",
      "source": [
        "df_final.columns"
      ],
      "metadata": {
        "colab": {
          "base_uri": "https://localhost:8080/"
        },
        "id": "PW_EXgDWBMqd",
        "outputId": "d249e21f-68e2-4df9-d644-d232a4c1b947"
      },
      "execution_count": 38,
      "outputs": [
        {
          "output_type": "execute_result",
          "data": {
            "text/plain": [
              "Index(['gender', 'SeniorCitizen', 'Partner', 'Dependents', 'tenure',\n",
              "       'PhoneService', 'MultipleLines', 'OnlineSecurity', 'OnlineBackup',\n",
              "       'DeviceProtection', 'TechSupport', 'StreamingTV', 'StreamingMovies',\n",
              "       'PaperlessBilling', 'MonthlyCharges', 'TotalCharges', 'Churn',\n",
              "       'InternetService_Fiber optic', 'InternetService_No',\n",
              "       'Contract_One year', 'Contract_Two year',\n",
              "       'PaymentMethod_Credit card (automatic)',\n",
              "       'PaymentMethod_Electronic check', 'PaymentMethod_Mailed check'],\n",
              "      dtype='object')"
            ]
          },
          "metadata": {},
          "execution_count": 38
        }
      ]
    },
    {
      "cell_type": "code",
      "source": [
        "df_final.dtypes"
      ],
      "metadata": {
        "colab": {
          "base_uri": "https://localhost:8080/"
        },
        "id": "TNm-r2wjBOrb",
        "outputId": "70ae1ceb-bf44-4d75-b94e-62194a5983b5"
      },
      "execution_count": 39,
      "outputs": [
        {
          "output_type": "execute_result",
          "data": {
            "text/plain": [
              "gender                                     int64\n",
              "SeniorCitizen                              int64\n",
              "Partner                                    int64\n",
              "Dependents                                 int64\n",
              "tenure                                     int64\n",
              "PhoneService                               int64\n",
              "MultipleLines                              int64\n",
              "OnlineSecurity                             int64\n",
              "OnlineBackup                               int64\n",
              "DeviceProtection                           int64\n",
              "TechSupport                                int64\n",
              "StreamingTV                                int64\n",
              "StreamingMovies                            int64\n",
              "PaperlessBilling                           int64\n",
              "MonthlyCharges                           float64\n",
              "TotalCharges                             float64\n",
              "Churn                                      int64\n",
              "InternetService_Fiber optic                uint8\n",
              "InternetService_No                         uint8\n",
              "Contract_One year                          uint8\n",
              "Contract_Two year                          uint8\n",
              "PaymentMethod_Credit card (automatic)      uint8\n",
              "PaymentMethod_Electronic check             uint8\n",
              "PaymentMethod_Mailed check                 uint8\n",
              "dtype: object"
            ]
          },
          "metadata": {},
          "execution_count": 39
        }
      ]
    },
    {
      "cell_type": "code",
      "source": [
        "for col in df_final:\n",
        "    print(f'{col} : {df_final[col].unique()}')"
      ],
      "metadata": {
        "colab": {
          "base_uri": "https://localhost:8080/"
        },
        "id": "weRgrBABBlLG",
        "outputId": "9eb30794-b33f-4be1-bb09-56ada1288811"
      },
      "execution_count": 40,
      "outputs": [
        {
          "output_type": "stream",
          "name": "stdout",
          "text": [
            "gender : [1 0]\n",
            "SeniorCitizen : [0 1]\n",
            "Partner : [1 0]\n",
            "Dependents : [0 1]\n",
            "tenure : [ 1 34  2 45  8 22 10 28 62 13 16 58 49 25 69 52 71 21 12 30 47 72 17 27\n",
            "  5 46 11 70 63 43 15 60 18 66  9  3 31 50 64 56  7 42 35 48 29 65 38 68\n",
            " 32 55 37 36 41  6  4 33 67 23 57 61 14 20 53 40 59 24 44 19 54 51 26 39]\n",
            "PhoneService : [0 1]\n",
            "MultipleLines : [0 1]\n",
            "OnlineSecurity : [0 1]\n",
            "OnlineBackup : [1 0]\n",
            "DeviceProtection : [0 1]\n",
            "TechSupport : [0 1]\n",
            "StreamingTV : [0 1]\n",
            "StreamingMovies : [0 1]\n",
            "PaperlessBilling : [1 0]\n",
            "MonthlyCharges : [29.85 56.95 53.85 ... 63.1  44.2  78.7 ]\n",
            "TotalCharges : [  29.85 1889.5   108.15 ...  346.45  306.6  6844.5 ]\n",
            "Churn : [0 1]\n",
            "InternetService_Fiber optic : [0 1]\n",
            "InternetService_No : [0 1]\n",
            "Contract_One year : [0 1]\n",
            "Contract_Two year : [0 1]\n",
            "PaymentMethod_Credit card (automatic) : [0 1]\n",
            "PaymentMethod_Electronic check : [1 0]\n",
            "PaymentMethod_Mailed check : [0 1]\n"
          ]
        }
      ]
    },
    {
      "cell_type": "code",
      "source": [
        "from sklearn.preprocessing import MinMaxScaler\n",
        "cols_scale=['tenure','MonthlyCharges','TotalCharges']\n",
        "scaler=MinMaxScaler()\n",
        "df_final[cols_scale]=scaler.fit_transform(df_final[cols_scale])"
      ],
      "metadata": {
        "id": "GeQthRiSBqsR"
      },
      "execution_count": 41,
      "outputs": []
    },
    {
      "cell_type": "code",
      "source": [
        "for col in df_final:\n",
        "    print(f'{col} : {df_final[col].unique()}')"
      ],
      "metadata": {
        "colab": {
          "base_uri": "https://localhost:8080/"
        },
        "id": "SyQWwJM8CNYu",
        "outputId": "fcf89eb5-d483-4968-d7a8-808faa19fb2c"
      },
      "execution_count": 42,
      "outputs": [
        {
          "output_type": "stream",
          "name": "stdout",
          "text": [
            "gender : [1 0]\n",
            "SeniorCitizen : [0 1]\n",
            "Partner : [1 0]\n",
            "Dependents : [0 1]\n",
            "tenure : [0.         0.46478873 0.01408451 0.61971831 0.09859155 0.29577465\n",
            " 0.12676056 0.38028169 0.85915493 0.16901408 0.21126761 0.8028169\n",
            " 0.67605634 0.33802817 0.95774648 0.71830986 0.98591549 0.28169014\n",
            " 0.15492958 0.4084507  0.64788732 1.         0.22535211 0.36619718\n",
            " 0.05633803 0.63380282 0.14084507 0.97183099 0.87323944 0.5915493\n",
            " 0.1971831  0.83098592 0.23943662 0.91549296 0.11267606 0.02816901\n",
            " 0.42253521 0.69014085 0.88732394 0.77464789 0.08450704 0.57746479\n",
            " 0.47887324 0.66197183 0.3943662  0.90140845 0.52112676 0.94366197\n",
            " 0.43661972 0.76056338 0.50704225 0.49295775 0.56338028 0.07042254\n",
            " 0.04225352 0.45070423 0.92957746 0.30985915 0.78873239 0.84507042\n",
            " 0.18309859 0.26760563 0.73239437 0.54929577 0.81690141 0.32394366\n",
            " 0.6056338  0.25352113 0.74647887 0.70422535 0.35211268 0.53521127]\n",
            "PhoneService : [0 1]\n",
            "MultipleLines : [0 1]\n",
            "OnlineSecurity : [0 1]\n",
            "OnlineBackup : [1 0]\n",
            "DeviceProtection : [0 1]\n",
            "TechSupport : [0 1]\n",
            "StreamingTV : [0 1]\n",
            "StreamingMovies : [0 1]\n",
            "PaperlessBilling : [1 0]\n",
            "MonthlyCharges : [0.11542289 0.38507463 0.35422886 ... 0.44626866 0.25820896 0.60149254]\n",
            "TotalCharges : [0.0012751  0.21586661 0.01031041 ... 0.03780868 0.03321025 0.78764136]\n",
            "Churn : [0 1]\n",
            "InternetService_Fiber optic : [0 1]\n",
            "InternetService_No : [0 1]\n",
            "Contract_One year : [0 1]\n",
            "Contract_Two year : [0 1]\n",
            "PaymentMethod_Credit card (automatic) : [0 1]\n",
            "PaymentMethod_Electronic check : [1 0]\n",
            "PaymentMethod_Mailed check : [0 1]\n"
          ]
        }
      ]
    },
    {
      "cell_type": "markdown",
      "source": [
        "Train Test Split"
      ],
      "metadata": {
        "id": "0QuM4CxRCq3S"
      }
    },
    {
      "cell_type": "code",
      "source": [
        "X=df_final.drop(['Churn'],axis=1)\n",
        "y=df_final['Churn']"
      ],
      "metadata": {
        "id": "lC4FNxPrCp3j"
      },
      "execution_count": 43,
      "outputs": []
    },
    {
      "cell_type": "code",
      "source": [
        "from sklearn.model_selection import train_test_split\n",
        "X_train,X_test,y_train,y_test=train_test_split(X,y,test_size=0.30,random_state=42)"
      ],
      "metadata": {
        "id": "LDrGJHPoCgKf"
      },
      "execution_count": 44,
      "outputs": []
    },
    {
      "cell_type": "code",
      "source": [
        "X_train.shape"
      ],
      "metadata": {
        "colab": {
          "base_uri": "https://localhost:8080/"
        },
        "id": "ZTyU0yWfFf2-",
        "outputId": "23eb010c-87bf-4514-d43e-55f04d2cbc72"
      },
      "execution_count": 45,
      "outputs": [
        {
          "output_type": "execute_result",
          "data": {
            "text/plain": [
              "(4922, 23)"
            ]
          },
          "metadata": {},
          "execution_count": 45
        }
      ]
    },
    {
      "cell_type": "code",
      "source": [
        "import tensorflow as tf\n",
        "from tensorflow import keras\n"
      ],
      "metadata": {
        "id": "fQ880NaSDWOq"
      },
      "execution_count": 46,
      "outputs": []
    },
    {
      "cell_type": "code",
      "source": [
        "import numpy as np"
      ],
      "metadata": {
        "id": "AvVh4INMFRf8"
      },
      "execution_count": 47,
      "outputs": []
    },
    {
      "cell_type": "code",
      "source": [
        "model=keras.Sequential([\n",
        "    keras.layers.Dense(20,input_shape=(23,),activation='relu'),\n",
        "    keras.layers.Dense(15,activation='relu'),\n",
        "    keras.layers.Dense(1,activation='sigmoid')\n",
        "])\n",
        "model.compile(optimizer='adam',\n",
        "              loss='binary_crossentropy',metrics=['accuracy'])"
      ],
      "metadata": {
        "id": "E-Dp-heUFTWE"
      },
      "execution_count": 48,
      "outputs": []
    },
    {
      "cell_type": "code",
      "source": [
        "model.fit(X_train,y_train,epochs=50)"
      ],
      "metadata": {
        "id": "mk90UhdTGFDh",
        "colab": {
          "base_uri": "https://localhost:8080/"
        },
        "outputId": "6446b5c9-440a-401d-e623-7928112659b0"
      },
      "execution_count": 49,
      "outputs": [
        {
          "output_type": "stream",
          "name": "stdout",
          "text": [
            "Epoch 1/50\n",
            "154/154 [==============================] - 1s 2ms/step - loss: 0.5148 - accuracy: 0.7424\n",
            "Epoch 2/50\n",
            "154/154 [==============================] - 0s 2ms/step - loss: 0.4346 - accuracy: 0.7922\n",
            "Epoch 3/50\n",
            "154/154 [==============================] - 0s 2ms/step - loss: 0.4235 - accuracy: 0.7932\n",
            "Epoch 4/50\n",
            "154/154 [==============================] - 0s 2ms/step - loss: 0.4203 - accuracy: 0.7970\n",
            "Epoch 5/50\n",
            "154/154 [==============================] - 0s 2ms/step - loss: 0.4170 - accuracy: 0.8007\n",
            "Epoch 6/50\n",
            "154/154 [==============================] - 0s 2ms/step - loss: 0.4154 - accuracy: 0.8019\n",
            "Epoch 7/50\n",
            "154/154 [==============================] - 0s 2ms/step - loss: 0.4131 - accuracy: 0.8003\n",
            "Epoch 8/50\n",
            "154/154 [==============================] - 0s 2ms/step - loss: 0.4112 - accuracy: 0.8058\n",
            "Epoch 9/50\n",
            "154/154 [==============================] - 0s 2ms/step - loss: 0.4094 - accuracy: 0.8041\n",
            "Epoch 10/50\n",
            "154/154 [==============================] - 0s 2ms/step - loss: 0.4091 - accuracy: 0.8058\n",
            "Epoch 11/50\n",
            "154/154 [==============================] - 0s 2ms/step - loss: 0.4073 - accuracy: 0.8090\n",
            "Epoch 12/50\n",
            "154/154 [==============================] - 0s 2ms/step - loss: 0.4055 - accuracy: 0.8078\n",
            "Epoch 13/50\n",
            "154/154 [==============================] - 0s 2ms/step - loss: 0.4049 - accuracy: 0.8080\n",
            "Epoch 14/50\n",
            "154/154 [==============================] - 0s 2ms/step - loss: 0.4041 - accuracy: 0.8072\n",
            "Epoch 15/50\n",
            "154/154 [==============================] - 0s 2ms/step - loss: 0.4033 - accuracy: 0.8082\n",
            "Epoch 16/50\n",
            "154/154 [==============================] - 0s 2ms/step - loss: 0.4010 - accuracy: 0.8080\n",
            "Epoch 17/50\n",
            "154/154 [==============================] - 0s 2ms/step - loss: 0.3997 - accuracy: 0.8115\n",
            "Epoch 18/50\n",
            "154/154 [==============================] - 0s 2ms/step - loss: 0.3986 - accuracy: 0.8108\n",
            "Epoch 19/50\n",
            "154/154 [==============================] - 0s 2ms/step - loss: 0.3979 - accuracy: 0.8117\n",
            "Epoch 20/50\n",
            "154/154 [==============================] - 0s 2ms/step - loss: 0.3972 - accuracy: 0.8111\n",
            "Epoch 21/50\n",
            "154/154 [==============================] - 0s 2ms/step - loss: 0.3952 - accuracy: 0.8131\n",
            "Epoch 22/50\n",
            "154/154 [==============================] - 0s 2ms/step - loss: 0.3945 - accuracy: 0.8151\n",
            "Epoch 23/50\n",
            "154/154 [==============================] - 0s 2ms/step - loss: 0.3944 - accuracy: 0.8125\n",
            "Epoch 24/50\n",
            "154/154 [==============================] - 0s 2ms/step - loss: 0.3936 - accuracy: 0.8147\n",
            "Epoch 25/50\n",
            "154/154 [==============================] - 0s 3ms/step - loss: 0.3925 - accuracy: 0.8131\n",
            "Epoch 26/50\n",
            "154/154 [==============================] - 0s 3ms/step - loss: 0.3922 - accuracy: 0.8135\n",
            "Epoch 27/50\n",
            "154/154 [==============================] - 0s 3ms/step - loss: 0.3907 - accuracy: 0.8143\n",
            "Epoch 28/50\n",
            "154/154 [==============================] - 0s 2ms/step - loss: 0.3897 - accuracy: 0.8133\n",
            "Epoch 29/50\n",
            "154/154 [==============================] - 0s 3ms/step - loss: 0.3885 - accuracy: 0.8125\n",
            "Epoch 30/50\n",
            "154/154 [==============================] - 0s 3ms/step - loss: 0.3888 - accuracy: 0.8157\n",
            "Epoch 31/50\n",
            "154/154 [==============================] - 0s 3ms/step - loss: 0.3867 - accuracy: 0.8133\n",
            "Epoch 32/50\n",
            "154/154 [==============================] - 0s 2ms/step - loss: 0.3863 - accuracy: 0.8163\n",
            "Epoch 33/50\n",
            "154/154 [==============================] - 0s 2ms/step - loss: 0.3851 - accuracy: 0.8161\n",
            "Epoch 34/50\n",
            "154/154 [==============================] - 0s 2ms/step - loss: 0.3845 - accuracy: 0.8163\n",
            "Epoch 35/50\n",
            "154/154 [==============================] - 0s 2ms/step - loss: 0.3848 - accuracy: 0.8210\n",
            "Epoch 36/50\n",
            "154/154 [==============================] - 0s 2ms/step - loss: 0.3841 - accuracy: 0.8184\n",
            "Epoch 37/50\n",
            "154/154 [==============================] - 0s 2ms/step - loss: 0.3826 - accuracy: 0.8157\n",
            "Epoch 38/50\n",
            "154/154 [==============================] - 0s 2ms/step - loss: 0.3811 - accuracy: 0.8204\n",
            "Epoch 39/50\n",
            "154/154 [==============================] - 0s 2ms/step - loss: 0.3811 - accuracy: 0.8180\n",
            "Epoch 40/50\n",
            "154/154 [==============================] - 0s 2ms/step - loss: 0.3801 - accuracy: 0.8178\n",
            "Epoch 41/50\n",
            "154/154 [==============================] - 0s 2ms/step - loss: 0.3790 - accuracy: 0.8200\n",
            "Epoch 42/50\n",
            "154/154 [==============================] - 0s 2ms/step - loss: 0.3791 - accuracy: 0.8188\n",
            "Epoch 43/50\n",
            "154/154 [==============================] - 0s 2ms/step - loss: 0.3784 - accuracy: 0.8220\n",
            "Epoch 44/50\n",
            "154/154 [==============================] - 0s 2ms/step - loss: 0.3773 - accuracy: 0.8218\n",
            "Epoch 45/50\n",
            "154/154 [==============================] - 0s 2ms/step - loss: 0.3775 - accuracy: 0.8212\n",
            "Epoch 46/50\n",
            "154/154 [==============================] - 0s 2ms/step - loss: 0.3762 - accuracy: 0.8210\n",
            "Epoch 47/50\n",
            "154/154 [==============================] - 0s 2ms/step - loss: 0.3762 - accuracy: 0.8200\n",
            "Epoch 48/50\n",
            "154/154 [==============================] - 0s 2ms/step - loss: 0.3747 - accuracy: 0.8196\n",
            "Epoch 49/50\n",
            "154/154 [==============================] - 0s 2ms/step - loss: 0.3753 - accuracy: 0.8214\n",
            "Epoch 50/50\n",
            "154/154 [==============================] - 0s 2ms/step - loss: 0.3735 - accuracy: 0.8220\n"
          ]
        },
        {
          "output_type": "execute_result",
          "data": {
            "text/plain": [
              "<keras.src.callbacks.History at 0x7c923c4851e0>"
            ]
          },
          "metadata": {},
          "execution_count": 49
        }
      ]
    },
    {
      "cell_type": "code",
      "source": [
        "model.evaluate(X_test,y_test)"
      ],
      "metadata": {
        "colab": {
          "base_uri": "https://localhost:8080/"
        },
        "id": "dq8XKN6RGT4i",
        "outputId": "41333814-36de-40c0-b6da-d122d9c24b92"
      },
      "execution_count": 50,
      "outputs": [
        {
          "output_type": "stream",
          "name": "stdout",
          "text": [
            "66/66 [==============================] - 0s 1ms/step - loss: 0.4541 - accuracy: 0.7886\n"
          ]
        },
        {
          "output_type": "execute_result",
          "data": {
            "text/plain": [
              "[0.4541485905647278, 0.7886255979537964]"
            ]
          },
          "metadata": {},
          "execution_count": 50
        }
      ]
    },
    {
      "cell_type": "code",
      "source": [
        "y_pred=model.predict(X_test)"
      ],
      "metadata": {
        "colab": {
          "base_uri": "https://localhost:8080/"
        },
        "id": "q76B8wX2HdXz",
        "outputId": "18c0c9b4-3bf8-49f2-a36b-7330fd3a6866"
      },
      "execution_count": 51,
      "outputs": [
        {
          "output_type": "stream",
          "name": "stdout",
          "text": [
            "66/66 [==============================] - 0s 1ms/step\n"
          ]
        }
      ]
    },
    {
      "cell_type": "code",
      "source": [
        "y_pred"
      ],
      "metadata": {
        "colab": {
          "base_uri": "https://localhost:8080/"
        },
        "id": "_wNyatchHrQm",
        "outputId": "9070769c-8714-4bfe-822a-e808f1ed1a40"
      },
      "execution_count": 52,
      "outputs": [
        {
          "output_type": "execute_result",
          "data": {
            "text/plain": [
              "array([[0.00688674],\n",
              "       [0.09568805],\n",
              "       [0.5723461 ],\n",
              "       ...,\n",
              "       [0.00298874],\n",
              "       [0.10680715],\n",
              "       [0.17826901]], dtype=float32)"
            ]
          },
          "metadata": {},
          "execution_count": 52
        }
      ]
    },
    {
      "cell_type": "code",
      "source": [
        "y_predicted=[]\n",
        "for i in y_pred:\n",
        "  if i<.5:\n",
        "    y_predicted.append(0)\n",
        "  else:\n",
        "    y_predicted.append(1)"
      ],
      "metadata": {
        "id": "l5-yl--7Ho0A"
      },
      "execution_count": 53,
      "outputs": []
    },
    {
      "cell_type": "code",
      "source": [
        "y_predicted[:5]"
      ],
      "metadata": {
        "colab": {
          "base_uri": "https://localhost:8080/"
        },
        "id": "_9puQlZdH-lX",
        "outputId": "0b24316c-e11f-4845-dc44-c3490a8b3fbb"
      },
      "execution_count": 54,
      "outputs": [
        {
          "output_type": "execute_result",
          "data": {
            "text/plain": [
              "[0, 0, 1, 0, 0]"
            ]
          },
          "metadata": {},
          "execution_count": 54
        }
      ]
    },
    {
      "cell_type": "code",
      "source": [
        "from sklearn.metrics import classification_report,confusion_matrix"
      ],
      "metadata": {
        "id": "palazRlQIA3U"
      },
      "execution_count": 55,
      "outputs": []
    },
    {
      "cell_type": "code",
      "source": [
        "print(classification_report(y_test,y_predicted))"
      ],
      "metadata": {
        "colab": {
          "base_uri": "https://localhost:8080/"
        },
        "id": "MS5vQtvnIJh0",
        "outputId": "f4083c4b-2ee7-4473-b30f-770b9d19b0fd"
      },
      "execution_count": 56,
      "outputs": [
        {
          "output_type": "stream",
          "name": "stdout",
          "text": [
            "              precision    recall  f1-score   support\n",
            "\n",
            "           0       0.84      0.88      0.86      1549\n",
            "           1       0.62      0.54      0.58       561\n",
            "\n",
            "    accuracy                           0.79      2110\n",
            "   macro avg       0.73      0.71      0.72      2110\n",
            "weighted avg       0.78      0.79      0.78      2110\n",
            "\n"
          ]
        }
      ]
    },
    {
      "cell_type": "code",
      "source": [
        "cm=tf.math.confusion_matrix(y_test,y_predicted)\n",
        "\n",
        "import seaborn as sns\n",
        "plt.figure(figsize=(7,5))\n",
        "sns.heatmap(cm,annot=True,fmt='d')\n",
        "plt.xlabel(\"predicted\")\n",
        "plt.ylabel(\"true\")"
      ],
      "metadata": {
        "colab": {
          "base_uri": "https://localhost:8080/",
          "height": 482
        },
        "id": "vmmopflJIUk_",
        "outputId": "9d17d592-3cf7-4e6b-b8fd-7302d31ade74"
      },
      "execution_count": 57,
      "outputs": [
        {
          "output_type": "execute_result",
          "data": {
            "text/plain": [
              "Text(58.222222222222214, 0.5, 'true')"
            ]
          },
          "metadata": {},
          "execution_count": 57
        },
        {
          "output_type": "display_data",
          "data": {
            "text/plain": [
              "<Figure size 700x500 with 2 Axes>"
            ],
            "image/png": "[encoded data removed]"
          },
          "metadata": {}
        }
      ]
    },
    {
      "cell_type": "markdown",
      "source": [
        "Handling Imbalance in the data"
      ],
      "metadata": {
        "id": "8HMe9OQ9WVo5"
      }
    },
    {
      "cell_type": "code",
      "source": [
        "def ANN(X_train,y_train,X_test,y_test,weights):\n",
        "  model=keras.Sequential([\n",
        "    keras.layers.Dense(20,input_shape=(23,),activation='relu'),\n",
        "    keras.layers.Dense(15,activation='relu'),\n",
        "    keras.layers.Dense(1,activation='sigmoid')\n",
        "  ])\n",
        "  model.compile(optimizer='adam',\n",
        "              loss='binary_crossentropy',metrics=['accuracy'])\n",
        "  if weights==-1:\n",
        "    model.fit(X_train,y_train,epochs=100)\n",
        "  else:\n",
        "    model.fit(X_train,y_train,epochs=100,class_weights=weights)\n",
        "\n",
        "  y_pred=model.predict(X_test)\n",
        "  y_predicted=[]\n",
        "  for i in y_pred:\n",
        "    if i<.5:\n",
        "      y_predicted.append(0)\n",
        "    else:\n",
        "      y_predicted.append(1)\n",
        "\n",
        "  print(classification_report(y_test,y_predicted))\n",
        "  cm=tf.math.confusion_matrix(y_test,y_predicted)\n",
        "\n",
        "  import seaborn as sns\n",
        "  plt.figure(figsize=(7,5))\n",
        "  sns.heatmap(cm,annot=True,fmt='d')\n",
        "  plt.xlabel(\"predicted\")\n",
        "  plt.ylabel(\"true\")\n",
        "  return y_predicted\n"
      ],
      "metadata": {
        "id": "8eTO_y37RS8w"
      },
      "execution_count": 83,
      "outputs": []
    },
    {
      "cell_type": "markdown",
      "source": [
        "1. Undersampling"
      ],
      "metadata": {
        "id": "7Mo_sWfyXPYA"
      }
    },
    {
      "cell_type": "code",
      "source": [
        "cnt_NO,cnt_YES=df_final['Churn'].value_counts()"
      ],
      "metadata": {
        "id": "x-dMVjdPWxtx"
      },
      "execution_count": 59,
      "outputs": []
    },
    {
      "cell_type": "code",
      "source": [
        "df_NO=df_final[df_final['Churn']==0]\n",
        "df_YES=df_final[df_final['Churn']==1]"
      ],
      "metadata": {
        "id": "E2T5IDH6XZKi"
      },
      "execution_count": 60,
      "outputs": []
    },
    {
      "cell_type": "code",
      "source": [
        "df_NO.shape"
      ],
      "metadata": {
        "colab": {
          "base_uri": "https://localhost:8080/"
        },
        "id": "DHldest5Xqpu",
        "outputId": "bf16f77f-861d-4f5a-f302-224a665da7c9"
      },
      "execution_count": 61,
      "outputs": [
        {
          "output_type": "execute_result",
          "data": {
            "text/plain": [
              "(5163, 24)"
            ]
          },
          "metadata": {},
          "execution_count": 61
        }
      ]
    },
    {
      "cell_type": "code",
      "source": [
        "df_YES.shape"
      ],
      "metadata": {
        "colab": {
          "base_uri": "https://localhost:8080/"
        },
        "id": "GXNCatc6Xt1X",
        "outputId": "85f8eefd-bb14-45e4-8fa9-0911dab54fee"
      },
      "execution_count": 62,
      "outputs": [
        {
          "output_type": "execute_result",
          "data": {
            "text/plain": [
              "(1869, 24)"
            ]
          },
          "metadata": {},
          "execution_count": 62
        }
      ]
    },
    {
      "cell_type": "code",
      "source": [
        "undersample_NO=df_NO.sample(1869)\n",
        "undersample_NO.shape"
      ],
      "metadata": {
        "colab": {
          "base_uri": "https://localhost:8080/"
        },
        "id": "WmHFRp_eXvPc",
        "outputId": "4a6de224-3247-464a-e0c5-87f39f741565"
      },
      "execution_count": 63,
      "outputs": [
        {
          "output_type": "execute_result",
          "data": {
            "text/plain": [
              "(1869, 24)"
            ]
          },
          "metadata": {},
          "execution_count": 63
        }
      ]
    },
    {
      "cell_type": "code",
      "source": [
        "df_undersample=pd.concat([undersample_NO,df_YES],axis=0)\n",
        "from sklearn.utils import shuffle\n",
        "df_undersample = shuffle(df_undersample)"
      ],
      "metadata": {
        "id": "bhwMELI7X_9h"
      },
      "execution_count": 69,
      "outputs": []
    },
    {
      "cell_type": "code",
      "source": [
        "df_undersample.head()"
      ],
      "metadata": {
        "colab": {
          "base_uri": "https://localhost:8080/",
          "height": 273
        },
        "id": "rFUSIcjNGQXc",
        "outputId": "9329daef-3a18-4adb-a759-940fb17eaa0b"
      },
      "execution_count": 70,
      "outputs": [
        {
          "output_type": "execute_result",
          "data": {
            "text/plain": [
              "      gender  SeniorCitizen  Partner  Dependents    tenure  PhoneService  \\\n",
              "383        0              0        0           0  0.000000             1   \n",
              "739        1              1        1           0  1.000000             1   \n",
              "1702       1              0        1           0  0.281690             1   \n",
              "1887       1              0        0           0  0.211268             1   \n",
              "1928       1              0        1           1  0.422535             1   \n",
              "\n",
              "      MultipleLines  OnlineSecurity  OnlineBackup  DeviceProtection  ...  \\\n",
              "383               1               0             1                 0  ...   \n",
              "739               1               1             1                 1  ...   \n",
              "1702              1               1             0                 1  ...   \n",
              "1887              1               0             0                 0  ...   \n",
              "1928              0               0             0                 0  ...   \n",
              "\n",
              "      MonthlyCharges  TotalCharges  Churn  InternetService_Fiber optic  \\\n",
              "383         0.722388      0.008314      1                            1   \n",
              "739         0.712438      0.770661      0                            0   \n",
              "1702        0.857214      0.251725      1                            1   \n",
              "1887        0.541294      0.135645      1                            1   \n",
              "1928        0.012935      0.073869      1                            0   \n",
              "\n",
              "      InternetService_No  Contract_One year  Contract_Two year  \\\n",
              "383                    0                  0                  0   \n",
              "739                    0                  0                  1   \n",
              "1702                   0                  0                  0   \n",
              "1887                   0                  0                  0   \n",
              "1928                   1                  0                  0   \n",
              "\n",
              "      PaymentMethod_Credit card (automatic)  PaymentMethod_Electronic check  \\\n",
              "383                                       1                               0   \n",
              "739                                       0                               0   \n",
              "1702                                      0                               0   \n",
              "1887                                      0                               1   \n",
              "1928                                      0                               0   \n",
              "\n",
              "      PaymentMethod_Mailed check  \n",
              "383                            0  \n",
              "739                            0  \n",
              "1702                           0  \n",
              "1887                           0  \n",
              "1928                           1  \n",
              "\n",
              "[5 rows x 24 columns]"
            ],
            "text/html": [
              "\n",
              "  <div id=\"df-c4e4a983-6f32-415c-8ed1-a7ffbad4bf0d\" class=\"colab-df-container\">\n",
              "    <div>\n",
              "<style scoped>\n",
              "    .dataframe tbody tr th:only-of-type {\n",
              "        vertical-align: middle;\n",
              "    }\n",
              "\n",
              "    .dataframe tbody tr th {\n",
              "        vertical-align: top;\n",
              "    }\n",
              "\n",
              "    .dataframe thead th {\n",
              "        text-align: right;\n",
              "    }\n",
              "</style>\n",
              "<table border=\"1\" class=\"dataframe\">\n",
              "  <thead>\n",
              "    <tr style=\"text-align: right;\">\n",
              "      <th></th>\n",
              "      <th>gender</th>\n",
              "      <th>SeniorCitizen</th>\n",
              "      <th>Partner</th>\n",
              "      <th>Dependents</th>\n",
              "      <th>tenure</th>\n",
              "      <th>PhoneService</th>\n",
              "      <th>MultipleLines</th>\n",
              "      <th>OnlineSecurity</th>\n",
              "      <th>OnlineBackup</th>\n",
              "      <th>DeviceProtection</th>\n",
              "      <th>...</th>\n",
              "      <th>MonthlyCharges</th>\n",
              "      <th>TotalCharges</th>\n",
              "      <th>Churn</th>\n",
              "      <th>InternetService_Fiber optic</th>\n",
              "      <th>InternetService_No</th>\n",
              "      <th>Contract_One year</th>\n",
              "      <th>Contract_Two year</th>\n",
              "      <th>PaymentMethod_Credit card (automatic)</th>\n",
              "      <th>PaymentMethod_Electronic check</th>\n",
              "      <th>PaymentMethod_Mailed check</th>\n",
              "    </tr>\n",
              "  </thead>\n",
              "  <tbody>\n",
              "    <tr>\n",
              "      <th>383</th>\n",
              "      <td>0</td>\n",
              "      <td>0</td>\n",
              "      <td>0</td>\n",
              "      <td>0</td>\n",
              "      <td>0.000000</td>\n",
              "      <td>1</td>\n",
              "      <td>1</td>\n",
              "      <td>0</td>\n",
              "      <td>1</td>\n",
              "      <td>0</td>\n",
              "      <td>...</td>\n",
              "      <td>0.722388</td>\n",
              "      <td>0.008314</td>\n",
              "      <td>1</td>\n",
              "      <td>1</td>\n",
              "      <td>0</td>\n",
              "      <td>0</td>\n",
              "      <td>0</td>\n",
              "      <td>1</td>\n",
              "      <td>0</td>\n",
              "      <td>0</td>\n",
              "    </tr>\n",
              "    <tr>\n",
              "      <th>739</th>\n",
              "      <td>1</td>\n",
              "      <td>1</td>\n",
              "      <td>1</td>\n",
              "      <td>0</td>\n",
              "      <td>1.000000</td>\n",
              "      <td>1</td>\n",
              "      <td>1</td>\n",
              "      <td>1</td>\n",
              "      <td>1</td>\n",
              "      <td>1</td>\n",
              "      <td>...</td>\n",
              "      <td>0.712438</td>\n",
              "      <td>0.770661</td>\n",
              "      <td>0</td>\n",
              "      <td>0</td>\n",
              "      <td>0</td>\n",
              "      <td>0</td>\n",
              "      <td>1</td>\n",
              "      <td>0</td>\n",
              "      <td>0</td>\n",
              "      <td>0</td>\n",
              "    </tr>\n",
              "    <tr>\n",
              "      <th>1702</th>\n",
              "      <td>1</td>\n",
              "      <td>0</td>\n",
              "      <td>1</td>\n",
              "      <td>0</td>\n",
              "      <td>0.281690</td>\n",
              "      <td>1</td>\n",
              "      <td>1</td>\n",
              "      <td>1</td>\n",
              "      <td>0</td>\n",
              "      <td>1</td>\n",
              "      <td>...</td>\n",
              "      <td>0.857214</td>\n",
              "      <td>0.251725</td>\n",
              "      <td>1</td>\n",
              "      <td>1</td>\n",
              "      <td>0</td>\n",
              "      <td>0</td>\n",
              "      <td>0</td>\n",
              "      <td>0</td>\n",
              "      <td>0</td>\n",
              "      <td>0</td>\n",
              "    </tr>\n",
              "    <tr>\n",
              "      <th>1887</th>\n",
              "      <td>1</td>\n",
              "      <td>0</td>\n",
              "      <td>0</td>\n",
              "      <td>0</td>\n",
              "      <td>0.211268</td>\n",
              "      <td>1</td>\n",
              "      <td>1</td>\n",
              "      <td>0</td>\n",
              "      <td>0</td>\n",
              "      <td>0</td>\n",
              "      <td>...</td>\n",
              "      <td>0.541294</td>\n",
              "      <td>0.135645</td>\n",
              "      <td>1</td>\n",
              "      <td>1</td>\n",
              "      <td>0</td>\n",
              "      <td>0</td>\n",
              "      <td>0</td>\n",
              "      <td>0</td>\n",
              "      <td>1</td>\n",
              "      <td>0</td>\n",
              "    </tr>\n",
              "    <tr>\n",
              "      <th>1928</th>\n",
              "      <td>1</td>\n",
              "      <td>0</td>\n",
              "      <td>1</td>\n",
              "      <td>1</td>\n",
              "      <td>0.422535</td>\n",
              "      <td>1</td>\n",
              "      <td>0</td>\n",
              "      <td>0</td>\n",
              "      <td>0</td>\n",
              "      <td>0</td>\n",
              "      <td>...</td>\n",
              "      <td>0.012935</td>\n",
              "      <td>0.073869</td>\n",
              "      <td>1</td>\n",
              "      <td>0</td>\n",
              "      <td>1</td>\n",
              "      <td>0</td>\n",
              "      <td>0</td>\n",
              "      <td>0</td>\n",
              "      <td>0</td>\n",
              "      <td>1</td>\n",
              "    </tr>\n",
              "  </tbody>\n",
              "</table>\n",
              "<p>5 rows × 24 columns</p>\n",
              "</div>\n",
              "    <div class=\"colab-df-buttons\">\n",
              "\n",
              "  <div class=\"colab-df-container\">\n",
              "    <button class=\"colab-df-convert\" onclick=\"convertToInteractive('df-c4e4a983-6f32-415c-8ed1-a7ffbad4bf0d')\"\n",
              "            title=\"Convert this dataframe to an interactive table.\"\n",
              "            style=\"display:none;\">\n",
              "\n",
              "  <svg xmlns=\"http://www.w3.org/2000/svg\" height=\"24px\" viewBox=\"0 -960 960 960\">\n",
              "    <path d=\"M120-120v-720h720v720H120Zm60-500h600v-160H180v160Zm220 220h160v-160H400v160Zm0 220h160v-160H400v160ZM180-400h160v-160H180v160Zm440 0h160v-160H620v160ZM180-180h160v-160H180v160Zm440 0h160v-160H620v160Z\"/>\n",
              "  </svg>\n",
              "    </button>\n",
              "\n",
              "  <style>\n",
              "    .colab-df-container {\n",
              "      display:flex;\n",
              "      gap: 12px;\n",
              "    }\n",
              "\n",
              "    .colab-df-convert {\n",
              "      background-color: #E8F0FE;\n",
              "      border: none;\n",
              "      border-radius: 50%;\n",
              "      cursor: pointer;\n",
              "      display: none;\n",
              "      fill: #1967D2;\n",
              "      height: 32px;\n",
              "      padding: 0 0 0 0;\n",
              "      width: 32px;\n",
              "    }\n",
              "\n",
              "    .colab-df-convert:hover {\n",
              "      background-color: #E2EBFA;\n",
              "      box-shadow: 0px 1px 2px rgba(60, 64, 67, 0.3), 0px 1px 3px 1px rgba(60, 64, 67, 0.15);\n",
              "      fill: #174EA6;\n",
              "    }\n",
              "\n",
              "    .colab-df-buttons div {\n",
              "      margin-bottom: 4px;\n",
              "    }\n",
              "\n",
              "    [theme=dark] .colab-df-convert {\n",
              "      background-color: #3B4455;\n",
              "      fill: #D2E3FC;\n",
              "    }\n",
              "\n",
              "    [theme=dark] .colab-df-convert:hover {\n",
              "      background-color: #434B5C;\n",
              "      box-shadow: 0px 1px 3px 1px rgba(0, 0, 0, 0.15);\n",
              "      filter: drop-shadow(0px 1px 2px rgba(0, 0, 0, 0.3));\n",
              "      fill: #FFFFFF;\n",
              "    }\n",
              "  </style>\n",
              "\n",
              "    <script>\n",
              "      const buttonEl =\n",
              "        document.querySelector('#df-c4e4a983-6f32-415c-8ed1-a7ffbad4bf0d button.colab-df-convert');\n",
              "      buttonEl.style.display =\n",
              "        google.colab.kernel.accessAllowed ? 'block' : 'none';\n",
              "\n",
              "      async function convertToInteractive(key) {\n",
              "        const element = document.querySelector('#df-c4e4a983-6f32-415c-8ed1-a7ffbad4bf0d');\n",
              "        const dataTable =\n",
              "          await google.colab.kernel.invokeFunction('convertToInteractive',\n",
              "                                                    [key], {});\n",
              "        if (!dataTable) return;\n",
              "\n",
              "        const docLinkHtml = 'Like what you see? Visit the ' +\n",
              "          '<a target=\"_blank\" href=https://colab.research.google.com/notebooks/data_table.ipynb>data table notebook</a>'\n",
              "          + ' to learn more about interactive tables.';\n",
              "        element.innerHTML = '';\n",
              "        dataTable['output_type'] = 'display_data';\n",
              "        await google.colab.output.renderOutput(dataTable, element);\n",
              "        const docLink = document.createElement('div');\n",
              "        docLink.innerHTML = docLinkHtml;\n",
              "        element.appendChild(docLink);\n",
              "      }\n",
              "    </script>\n",
              "  </div>\n",
              "\n",
              "\n",
              "<div id=\"df-fb6eb7e0-c4ed-4903-80bd-15bfda7a21c7\">\n",
              "  <button class=\"colab-df-quickchart\" onclick=\"quickchart('df-fb6eb7e0-c4ed-4903-80bd-15bfda7a21c7')\"\n",
              "            title=\"Suggest charts\"\n",
              "            style=\"display:none;\">\n",
              "\n",
              "<svg xmlns=\"http://www.w3.org/2000/svg\" height=\"24px\"viewBox=\"0 0 24 24\"\n",
              "     width=\"24px\">\n",
              "    <g>\n",
              "        <path d=\"M19 3H5c-1.1 0-2 .9-2 2v14c0 1.1.9 2 2 2h14c1.1 0 2-.9 2-2V5c0-1.1-.9-2-2-2zM9 17H7v-7h2v7zm4 0h-2V7h2v10zm4 0h-2v-4h2v4z\"/>\n",
              "    </g>\n",
              "</svg>\n",
              "  </button>\n",
              "\n",
              "<style>\n",
              "  .colab-df-quickchart {\n",
              "      --bg-color: #E8F0FE;\n",
              "      --fill-color: #1967D2;\n",
              "      --hover-bg-color: #E2EBFA;\n",
              "      --hover-fill-color: #174EA6;\n",
              "      --disabled-fill-color: #AAA;\n",
              "      --disabled-bg-color: #DDD;\n",
              "  }\n",
              "\n",
              "  [theme=dark] .colab-df-quickchart {\n",
              "      --bg-color: #3B4455;\n",
              "      --fill-color: #D2E3FC;\n",
              "      --hover-bg-color: #434B5C;\n",
              "      --hover-fill-color: #FFFFFF;\n",
              "      --disabled-bg-color: #3B4455;\n",
              "      --disabled-fill-color: #666;\n",
              "  }\n",
              "\n",
              "  .colab-df-quickchart {\n",
              "    background-color: var(--bg-color);\n",
              "    border: none;\n",
              "    border-radius: 50%;\n",
              "    cursor: pointer;\n",
              "    display: none;\n",
              "    fill: var(--fill-color);\n",
              "    height: 32px;\n",
              "    padding: 0;\n",
              "    width: 32px;\n",
              "  }\n",
              "\n",
              "  .colab-df-quickchart:hover {\n",
              "    background-color: var(--hover-bg-color);\n",
              "    box-shadow: 0 1px 2px rgba(60, 64, 67, 0.3), 0 1px 3px 1px rgba(60, 64, 67, 0.15);\n",
              "    fill: var(--button-hover-fill-color);\n",
              "  }\n",
              "\n",
              "  .colab-df-quickchart-complete:disabled,\n",
              "  .colab-df-quickchart-complete:disabled:hover {\n",
              "    background-color: var(--disabled-bg-color);\n",
              "    fill: var(--disabled-fill-color);\n",
              "    box-shadow: none;\n",
              "  }\n",
              "\n",
              "  .colab-df-spinner {\n",
              "    border: 2px solid var(--fill-color);\n",
              "    border-color: transparent;\n",
              "    border-bottom-color: var(--fill-color);\n",
              "    animation:\n",
              "      spin 1s steps(1) infinite;\n",
              "  }\n",
              "\n",
              "  @keyframes spin {\n",
              "    0% {\n",
              "      border-color: transparent;\n",
              "      border-bottom-color: var(--fill-color);\n",
              "      border-left-color: var(--fill-color);\n",
              "    }\n",
              "    20% {\n",
              "      border-color: transparent;\n",
              "      border-left-color: var(--fill-color);\n",
              "      border-top-color: var(--fill-color);\n",
              "    }\n",
              "    30% {\n",
              "      border-color: transparent;\n",
              "      border-left-color: var(--fill-color);\n",
              "      border-top-color: var(--fill-color);\n",
              "      border-right-color: var(--fill-color);\n",
              "    }\n",
              "    40% {\n",
              "      border-color: transparent;\n",
              "      border-right-color: var(--fill-color);\n",
              "      border-top-color: var(--fill-color);\n",
              "    }\n",
              "    60% {\n",
              "      border-color: transparent;\n",
              "      border-right-color: var(--fill-color);\n",
              "    }\n",
              "    80% {\n",
              "      border-color: transparent;\n",
              "      border-right-color: var(--fill-color);\n",
              "      border-bottom-color: var(--fill-color);\n",
              "    }\n",
              "    90% {\n",
              "      border-color: transparent;\n",
              "      border-bottom-color: var(--fill-color);\n",
              "    }\n",
              "  }\n",
              "</style>\n",
              "\n",
              "  <script>\n",
              "    async function quickchart(key) {\n",
              "      const quickchartButtonEl =\n",
              "        document.querySelector('#' + key + ' button');\n",
              "      quickchartButtonEl.disabled = true;  // To prevent multiple clicks.\n",
              "      quickchartButtonEl.classList.add('colab-df-spinner');\n",
              "      try {\n",
              "        const charts = await google.colab.kernel.invokeFunction(\n",
              "            'suggestCharts', [key], {});\n",
              "      } catch (error) {\n",
              "        console.error('Error during call to suggestCharts:', error);\n",
              "      }\n",
              "      quickchartButtonEl.classList.remove('colab-df-spinner');\n",
              "      quickchartButtonEl.classList.add('colab-df-quickchart-complete');\n",
              "    }\n",
              "    (() => {\n",
              "      let quickchartButtonEl =\n",
              "        document.querySelector('#df-fb6eb7e0-c4ed-4903-80bd-15bfda7a21c7 button');\n",
              "      quickchartButtonEl.style.display =\n",
              "        google.colab.kernel.accessAllowed ? 'block' : 'none';\n",
              "    })();\n",
              "  </script>\n",
              "</div>\n",
              "\n",
              "    </div>\n",
              "  </div>\n"
            ],
            "application/vnd.google.colaboratory.intrinsic+json": {
              "type": "dataframe",
              "variable_name": "df_undersample"
            }
          },
          "metadata": {},
          "execution_count": 70
        }
      ]
    },
    {
      "cell_type": "code",
      "source": [
        "df_undersample.Churn.value_counts()"
      ],
      "metadata": {
        "colab": {
          "base_uri": "https://localhost:8080/"
        },
        "id": "BlqdDmC_GpXh",
        "outputId": "e43d100c-6e05-4f14-ea61-146e61c99741"
      },
      "execution_count": 71,
      "outputs": [
        {
          "output_type": "execute_result",
          "data": {
            "text/plain": [
              "1    1869\n",
              "0    1869\n",
              "Name: Churn, dtype: int64"
            ]
          },
          "metadata": {},
          "execution_count": 71
        }
      ]
    },
    {
      "cell_type": "code",
      "source": [
        "X=df_undersample.drop(['Churn'],axis=1)\n",
        "y=df_undersample['Churn']"
      ],
      "metadata": {
        "id": "zXHFHsLSG7UT"
      },
      "execution_count": 72,
      "outputs": []
    },
    {
      "cell_type": "code",
      "source": [
        "X.shape"
      ],
      "metadata": {
        "colab": {
          "base_uri": "https://localhost:8080/"
        },
        "id": "FLxW22J6IDlN",
        "outputId": "fa6c2cda-b1fd-4f28-f850-24bf5642cc4f"
      },
      "execution_count": 80,
      "outputs": [
        {
          "output_type": "execute_result",
          "data": {
            "text/plain": [
              "(3738, 23)"
            ]
          },
          "metadata": {},
          "execution_count": 80
        }
      ]
    },
    {
      "cell_type": "code",
      "source": [
        "X_train,X_test,y_train,y_test=train_test_split(X,y,test_size=.3,random_state=42,stratify=y)"
      ],
      "metadata": {
        "id": "nx2tTBctGxoQ"
      },
      "execution_count": 81,
      "outputs": []
    },
    {
      "cell_type": "code",
      "source": [
        "y_train.shape"
      ],
      "metadata": {
        "colab": {
          "base_uri": "https://localhost:8080/"
        },
        "id": "456Zck8CH9i0",
        "outputId": "ae41f08b-84e1-43b2-9064-6746a170045c"
      },
      "execution_count": 82,
      "outputs": [
        {
          "output_type": "execute_result",
          "data": {
            "text/plain": [
              "(2616,)"
            ]
          },
          "metadata": {},
          "execution_count": 82
        }
      ]
    },
    {
      "cell_type": "code",
      "source": [
        "y_pred=ANN(X_train,y_train,X_test,y_test,weights=-1)"
      ],
      "metadata": {
        "id": "IoYkhrQGX2HP",
        "colab": {
          "base_uri": "https://localhost:8080/",
          "height": 1000
        },
        "outputId": "6991f9db-0e41-4d95-c4c4-f79b9a8a0c65"
      },
      "execution_count": 84,
      "outputs": [
        {
          "output_type": "stream",
          "name": "stdout",
          "text": [
            "Epoch 1/100\n",
            "82/82 [==============================] - 2s 3ms/step - loss: 0.6552 - accuracy: 0.6311\n",
            "Epoch 2/100\n",
            "82/82 [==============================] - 0s 4ms/step - loss: 0.5558 - accuracy: 0.7213\n",
            "Epoch 3/100\n",
            "82/82 [==============================] - 0s 3ms/step - loss: 0.5146 - accuracy: 0.7439\n",
            "Epoch 4/100\n",
            "82/82 [==============================] - 0s 3ms/step - loss: 0.5023 - accuracy: 0.7557\n",
            "Epoch 5/100\n",
            "82/82 [==============================] - 0s 3ms/step - loss: 0.4978 - accuracy: 0.7619\n",
            "Epoch 6/100\n",
            "82/82 [==============================] - 0s 4ms/step - loss: 0.4925 - accuracy: 0.7641\n",
            "Epoch 7/100\n",
            "82/82 [==============================] - 0s 3ms/step - loss: 0.4917 - accuracy: 0.7607\n",
            "Epoch 8/100\n",
            "82/82 [==============================] - 0s 2ms/step - loss: 0.4879 - accuracy: 0.7687\n",
            "Epoch 9/100\n",
            "82/82 [==============================] - 0s 2ms/step - loss: 0.4851 - accuracy: 0.7718\n",
            "Epoch 10/100\n",
            "82/82 [==============================] - 0s 2ms/step - loss: 0.4836 - accuracy: 0.7668\n",
            "Epoch 11/100\n",
            "82/82 [==============================] - 0s 2ms/step - loss: 0.4816 - accuracy: 0.7695\n",
            "Epoch 12/100\n",
            "82/82 [==============================] - 0s 2ms/step - loss: 0.4788 - accuracy: 0.7661\n",
            "Epoch 13/100\n",
            "82/82 [==============================] - 0s 2ms/step - loss: 0.4787 - accuracy: 0.7710\n",
            "Epoch 14/100\n",
            "82/82 [==============================] - 0s 2ms/step - loss: 0.4759 - accuracy: 0.7718\n",
            "Epoch 15/100\n",
            "82/82 [==============================] - 0s 2ms/step - loss: 0.4735 - accuracy: 0.7726\n",
            "Epoch 16/100\n",
            "82/82 [==============================] - 0s 2ms/step - loss: 0.4738 - accuracy: 0.7687\n",
            "Epoch 17/100\n",
            "82/82 [==============================] - 0s 2ms/step - loss: 0.4718 - accuracy: 0.7748\n",
            "Epoch 18/100\n",
            "82/82 [==============================] - 0s 2ms/step - loss: 0.4716 - accuracy: 0.7756\n",
            "Epoch 19/100\n",
            "82/82 [==============================] - 0s 2ms/step - loss: 0.4695 - accuracy: 0.7748\n",
            "Epoch 20/100\n",
            "82/82 [==============================] - 0s 2ms/step - loss: 0.4684 - accuracy: 0.7745\n",
            "Epoch 21/100\n",
            "82/82 [==============================] - 0s 2ms/step - loss: 0.4665 - accuracy: 0.7748\n",
            "Epoch 22/100\n",
            "82/82 [==============================] - 0s 2ms/step - loss: 0.4652 - accuracy: 0.7775\n",
            "Epoch 23/100\n",
            "82/82 [==============================] - 0s 2ms/step - loss: 0.4647 - accuracy: 0.7779\n",
            "Epoch 24/100\n",
            "82/82 [==============================] - 0s 2ms/step - loss: 0.4646 - accuracy: 0.7729\n",
            "Epoch 25/100\n",
            "82/82 [==============================] - 0s 2ms/step - loss: 0.4630 - accuracy: 0.7771\n",
            "Epoch 26/100\n",
            "82/82 [==============================] - 0s 2ms/step - loss: 0.4611 - accuracy: 0.7745\n",
            "Epoch 27/100\n",
            "82/82 [==============================] - 0s 2ms/step - loss: 0.4587 - accuracy: 0.7752\n",
            "Epoch 28/100\n",
            "82/82 [==============================] - 0s 2ms/step - loss: 0.4584 - accuracy: 0.7794\n",
            "Epoch 29/100\n",
            "82/82 [==============================] - 0s 2ms/step - loss: 0.4578 - accuracy: 0.7779\n",
            "Epoch 30/100\n",
            "82/82 [==============================] - 0s 2ms/step - loss: 0.4560 - accuracy: 0.7802\n",
            "Epoch 31/100\n",
            "82/82 [==============================] - 0s 2ms/step - loss: 0.4546 - accuracy: 0.7794\n",
            "Epoch 32/100\n",
            "82/82 [==============================] - 0s 2ms/step - loss: 0.4539 - accuracy: 0.7813\n",
            "Epoch 33/100\n",
            "82/82 [==============================] - 0s 2ms/step - loss: 0.4519 - accuracy: 0.7844\n",
            "Epoch 34/100\n",
            "82/82 [==============================] - 0s 2ms/step - loss: 0.4510 - accuracy: 0.7829\n",
            "Epoch 35/100\n",
            "82/82 [==============================] - 0s 2ms/step - loss: 0.4497 - accuracy: 0.7848\n",
            "Epoch 36/100\n",
            "82/82 [==============================] - 0s 2ms/step - loss: 0.4511 - accuracy: 0.7852\n",
            "Epoch 37/100\n",
            "82/82 [==============================] - 0s 2ms/step - loss: 0.4472 - accuracy: 0.7821\n",
            "Epoch 38/100\n",
            "82/82 [==============================] - 0s 2ms/step - loss: 0.4452 - accuracy: 0.7833\n",
            "Epoch 39/100\n",
            "82/82 [==============================] - 0s 2ms/step - loss: 0.4436 - accuracy: 0.7905\n",
            "Epoch 40/100\n",
            "82/82 [==============================] - 0s 2ms/step - loss: 0.4443 - accuracy: 0.7829\n",
            "Epoch 41/100\n",
            "82/82 [==============================] - 0s 2ms/step - loss: 0.4422 - accuracy: 0.7871\n",
            "Epoch 42/100\n",
            "82/82 [==============================] - 0s 2ms/step - loss: 0.4436 - accuracy: 0.7878\n",
            "Epoch 43/100\n",
            "82/82 [==============================] - 0s 2ms/step - loss: 0.4400 - accuracy: 0.7917\n",
            "Epoch 44/100\n",
            "82/82 [==============================] - 0s 2ms/step - loss: 0.4387 - accuracy: 0.7894\n",
            "Epoch 45/100\n",
            "82/82 [==============================] - 0s 2ms/step - loss: 0.4371 - accuracy: 0.7901\n",
            "Epoch 46/100\n",
            "82/82 [==============================] - 0s 2ms/step - loss: 0.4376 - accuracy: 0.7951\n",
            "Epoch 47/100\n",
            "82/82 [==============================] - 0s 2ms/step - loss: 0.4343 - accuracy: 0.7905\n",
            "Epoch 48/100\n",
            "82/82 [==============================] - 0s 2ms/step - loss: 0.4366 - accuracy: 0.7917\n",
            "Epoch 49/100\n",
            "82/82 [==============================] - 0s 3ms/step - loss: 0.4337 - accuracy: 0.7943\n",
            "Epoch 50/100\n",
            "82/82 [==============================] - 0s 3ms/step - loss: 0.4316 - accuracy: 0.7924\n",
            "Epoch 51/100\n",
            "82/82 [==============================] - 0s 3ms/step - loss: 0.4293 - accuracy: 0.7974\n",
            "Epoch 52/100\n",
            "82/82 [==============================] - 0s 3ms/step - loss: 0.4291 - accuracy: 0.7943\n",
            "Epoch 53/100\n",
            "82/82 [==============================] - 0s 3ms/step - loss: 0.4284 - accuracy: 0.7959\n",
            "Epoch 54/100\n",
            "82/82 [==============================] - 1s 16ms/step - loss: 0.4283 - accuracy: 0.7951\n",
            "Epoch 55/100\n",
            "82/82 [==============================] - 0s 6ms/step - loss: 0.4251 - accuracy: 0.7940\n",
            "Epoch 56/100\n",
            "82/82 [==============================] - 0s 2ms/step - loss: 0.4242 - accuracy: 0.7963\n",
            "Epoch 57/100\n",
            "82/82 [==============================] - 0s 2ms/step - loss: 0.4270 - accuracy: 0.7982\n",
            "Epoch 58/100\n",
            "82/82 [==============================] - 0s 2ms/step - loss: 0.4229 - accuracy: 0.8005\n",
            "Epoch 59/100\n",
            "82/82 [==============================] - 0s 2ms/step - loss: 0.4215 - accuracy: 0.8016\n",
            "Epoch 60/100\n",
            "82/82 [==============================] - 0s 2ms/step - loss: 0.4206 - accuracy: 0.8008\n",
            "Epoch 61/100\n",
            "82/82 [==============================] - 0s 2ms/step - loss: 0.4201 - accuracy: 0.7989\n",
            "Epoch 62/100\n",
            "82/82 [==============================] - 0s 2ms/step - loss: 0.4186 - accuracy: 0.8028\n",
            "Epoch 63/100\n",
            "82/82 [==============================] - 0s 2ms/step - loss: 0.4185 - accuracy: 0.8031\n",
            "Epoch 64/100\n",
            "82/82 [==============================] - 0s 2ms/step - loss: 0.4176 - accuracy: 0.8020\n",
            "Epoch 65/100\n",
            "82/82 [==============================] - 0s 2ms/step - loss: 0.4155 - accuracy: 0.8039\n",
            "Epoch 66/100\n",
            "82/82 [==============================] - 0s 2ms/step - loss: 0.4153 - accuracy: 0.8008\n",
            "Epoch 67/100\n",
            "82/82 [==============================] - 0s 2ms/step - loss: 0.4150 - accuracy: 0.8039\n",
            "Epoch 68/100\n",
            "82/82 [==============================] - 0s 2ms/step - loss: 0.4139 - accuracy: 0.8054\n",
            "Epoch 69/100\n",
            "82/82 [==============================] - 0s 2ms/step - loss: 0.4133 - accuracy: 0.8104\n",
            "Epoch 70/100\n",
            "82/82 [==============================] - 0s 2ms/step - loss: 0.4116 - accuracy: 0.8081\n",
            "Epoch 71/100\n",
            "82/82 [==============================] - 0s 2ms/step - loss: 0.4098 - accuracy: 0.8100\n",
            "Epoch 72/100\n",
            "82/82 [==============================] - 0s 2ms/step - loss: 0.4099 - accuracy: 0.8058\n",
            "Epoch 73/100\n",
            "82/82 [==============================] - 0s 2ms/step - loss: 0.4075 - accuracy: 0.8100\n",
            "Epoch 74/100\n",
            "82/82 [==============================] - 0s 2ms/step - loss: 0.4073 - accuracy: 0.8089\n",
            "Epoch 75/100\n",
            "82/82 [==============================] - 0s 2ms/step - loss: 0.4077 - accuracy: 0.8115\n",
            "Epoch 76/100\n",
            "82/82 [==============================] - 0s 2ms/step - loss: 0.4081 - accuracy: 0.8112\n",
            "Epoch 77/100\n",
            "82/82 [==============================] - 0s 2ms/step - loss: 0.4038 - accuracy: 0.8135\n",
            "Epoch 78/100\n",
            "82/82 [==============================] - 0s 2ms/step - loss: 0.4055 - accuracy: 0.8100\n",
            "Epoch 79/100\n",
            "82/82 [==============================] - 0s 2ms/step - loss: 0.4067 - accuracy: 0.8165\n",
            "Epoch 80/100\n",
            "82/82 [==============================] - 0s 2ms/step - loss: 0.4038 - accuracy: 0.8138\n",
            "Epoch 81/100\n",
            "82/82 [==============================] - 0s 2ms/step - loss: 0.4019 - accuracy: 0.8157\n",
            "Epoch 82/100\n",
            "82/82 [==============================] - 0s 2ms/step - loss: 0.4010 - accuracy: 0.8138\n",
            "Epoch 83/100\n",
            "82/82 [==============================] - 0s 2ms/step - loss: 0.3994 - accuracy: 0.8192\n",
            "Epoch 84/100\n",
            "82/82 [==============================] - 0s 2ms/step - loss: 0.3999 - accuracy: 0.8119\n",
            "Epoch 85/100\n",
            "82/82 [==============================] - 0s 2ms/step - loss: 0.3995 - accuracy: 0.8157\n",
            "Epoch 86/100\n",
            "82/82 [==============================] - 0s 2ms/step - loss: 0.3993 - accuracy: 0.8112\n",
            "Epoch 87/100\n",
            "82/82 [==============================] - 0s 2ms/step - loss: 0.3972 - accuracy: 0.8180\n",
            "Epoch 88/100\n",
            "82/82 [==============================] - 0s 2ms/step - loss: 0.3980 - accuracy: 0.8108\n",
            "Epoch 89/100\n",
            "82/82 [==============================] - 0s 2ms/step - loss: 0.3947 - accuracy: 0.8161\n",
            "Epoch 90/100\n",
            "82/82 [==============================] - 0s 2ms/step - loss: 0.3961 - accuracy: 0.8165\n",
            "Epoch 91/100\n",
            "82/82 [==============================] - 0s 2ms/step - loss: 0.3957 - accuracy: 0.8161\n",
            "Epoch 92/100\n",
            "82/82 [==============================] - 0s 2ms/step - loss: 0.3951 - accuracy: 0.8142\n",
            "Epoch 93/100\n",
            "82/82 [==============================] - 0s 2ms/step - loss: 0.3926 - accuracy: 0.8165\n",
            "Epoch 94/100\n",
            "82/82 [==============================] - 0s 2ms/step - loss: 0.3932 - accuracy: 0.8165\n",
            "Epoch 95/100\n",
            "82/82 [==============================] - 0s 2ms/step - loss: 0.3923 - accuracy: 0.8154\n",
            "Epoch 96/100\n",
            "82/82 [==============================] - 0s 2ms/step - loss: 0.3906 - accuracy: 0.8188\n",
            "Epoch 97/100\n",
            "82/82 [==============================] - 0s 2ms/step - loss: 0.3886 - accuracy: 0.8234\n",
            "Epoch 98/100\n",
            "82/82 [==============================] - 0s 2ms/step - loss: 0.3895 - accuracy: 0.8215\n",
            "Epoch 99/100\n",
            "82/82 [==============================] - 0s 2ms/step - loss: 0.3890 - accuracy: 0.8184\n",
            "Epoch 100/100\n",
            "82/82 [==============================] - 0s 2ms/step - loss: 0.3892 - accuracy: 0.8192\n",
            "36/36 [==============================] - 0s 1ms/step\n",
            "              precision    recall  f1-score   support\n",
            "\n",
            "           0       0.73      0.71      0.72       561\n",
            "           1       0.72      0.74      0.73       561\n",
            "\n",
            "    accuracy                           0.73      1122\n",
            "   macro avg       0.73      0.73      0.73      1122\n",
            "weighted avg       0.73      0.73      0.73      1122\n",
            "\n"
          ]
        },
        {
          "output_type": "display_data",
          "data": {
            "text/plain": [
              "<Figure size 700x500 with 2 Axes>"
            ],
            "image/png": "[encoded data removed]"
          },
          "metadata": {}
        }
      ]
    },
    {
      "cell_type": "markdown",
      "source": [
        "The F1 score has improved but we lost alot of data."
      ],
      "metadata": {
        "id": "kWPm29_oIvF4"
      }
    },
    {
      "cell_type": "markdown",
      "source": [
        "**Over Sampling Method**"
      ],
      "metadata": {
        "id": "ftxt6zB-I2S0"
      }
    },
    {
      "cell_type": "code",
      "source": [
        "cnt_NO, cnt_YES=df_final['Churn'].value_counts()"
      ],
      "metadata": {
        "id": "4zeGqkf5H5AH"
      },
      "execution_count": 85,
      "outputs": []
    },
    {
      "cell_type": "code",
      "source": [
        "cnt_NO, cnt_YES"
      ],
      "metadata": {
        "colab": {
          "base_uri": "https://localhost:8080/"
        },
        "id": "4nB2VZpeJSsz",
        "outputId": "d7231c51-cdd0-43a2-eecf-e0f4d66b514b"
      },
      "execution_count": 86,
      "outputs": [
        {
          "output_type": "execute_result",
          "data": {
            "text/plain": [
              "(5163, 1869)"
            ]
          },
          "metadata": {},
          "execution_count": 86
        }
      ]
    },
    {
      "cell_type": "markdown",
      "source": [
        "we are going to oversample class YES for Churn so that we have equal number of data points for both the classes"
      ],
      "metadata": {
        "id": "uEbdjzJiJWlx"
      }
    },
    {
      "cell_type": "code",
      "source": [
        "df_YES_over=df_YES.sample(cnt_NO,replace=True)\n",
        "df_YES_over.shape"
      ],
      "metadata": {
        "colab": {
          "base_uri": "https://localhost:8080/"
        },
        "id": "G7TBAvjBJVB2",
        "outputId": "bd164137-e7e0-4b05-eabd-4e551f3a77a6"
      },
      "execution_count": 88,
      "outputs": [
        {
          "output_type": "execute_result",
          "data": {
            "text/plain": [
              "(5163, 24)"
            ]
          },
          "metadata": {},
          "execution_count": 88
        }
      ]
    },
    {
      "cell_type": "code",
      "source": [
        "df_oversample=shuffle(pd.concat([df_NO,df_YES_over],axis=0))"
      ],
      "metadata": {
        "id": "hXSkPXPfJlca"
      },
      "execution_count": 89,
      "outputs": []
    },
    {
      "cell_type": "code",
      "source": [
        "X=df_undersample.drop(['Churn'],axis=1)\n",
        "y=df_undersample['Churn']\n",
        "X_train,X_test,y_train,y_test=train_test_split(X,y,test_size=.3,random_state=42,stratify=y)\n",
        "y_pred=ANN(X_train,y_train,X_test,y_test,weights=-1)"
      ],
      "metadata": {
        "colab": {
          "base_uri": "https://localhost:8080/",
          "height": 1000
        },
        "id": "LTz6maA-KQv7",
        "outputId": "64520aac-a56b-4997-c66a-318fbf9daf11"
      },
      "execution_count": 90,
      "outputs": [
        {
          "output_type": "stream",
          "name": "stdout",
          "text": [
            "Epoch 1/100\n",
            "82/82 [==============================] - 1s 3ms/step - loss: 0.6268 - accuracy: 0.6835\n",
            "Epoch 2/100\n",
            "82/82 [==============================] - 0s 3ms/step - loss: 0.5390 - accuracy: 0.7404\n",
            "Epoch 3/100\n",
            "82/82 [==============================] - 0s 3ms/step - loss: 0.5136 - accuracy: 0.7527\n",
            "Epoch 4/100\n",
            "82/82 [==============================] - 0s 3ms/step - loss: 0.5017 - accuracy: 0.7523\n",
            "Epoch 5/100\n",
            "82/82 [==============================] - 0s 3ms/step - loss: 0.4963 - accuracy: 0.7542\n",
            "Epoch 6/100\n",
            "82/82 [==============================] - 0s 3ms/step - loss: 0.4913 - accuracy: 0.7630\n",
            "Epoch 7/100\n",
            "82/82 [==============================] - 0s 3ms/step - loss: 0.4897 - accuracy: 0.7645\n",
            "Epoch 8/100\n",
            "82/82 [==============================] - 0s 3ms/step - loss: 0.4869 - accuracy: 0.7630\n",
            "Epoch 9/100\n",
            "82/82 [==============================] - 0s 3ms/step - loss: 0.4851 - accuracy: 0.7672\n",
            "Epoch 10/100\n",
            "82/82 [==============================] - 0s 3ms/step - loss: 0.4831 - accuracy: 0.7714\n",
            "Epoch 11/100\n",
            "82/82 [==============================] - 0s 3ms/step - loss: 0.4819 - accuracy: 0.7722\n",
            "Epoch 12/100\n",
            "82/82 [==============================] - 0s 3ms/step - loss: 0.4819 - accuracy: 0.7718\n",
            "Epoch 13/100\n",
            "82/82 [==============================] - 0s 3ms/step - loss: 0.4807 - accuracy: 0.7729\n",
            "Epoch 14/100\n",
            "82/82 [==============================] - 0s 3ms/step - loss: 0.4774 - accuracy: 0.7764\n",
            "Epoch 15/100\n",
            "82/82 [==============================] - 0s 3ms/step - loss: 0.4775 - accuracy: 0.7745\n",
            "Epoch 16/100\n",
            "82/82 [==============================] - 0s 3ms/step - loss: 0.4761 - accuracy: 0.7748\n",
            "Epoch 17/100\n",
            "82/82 [==============================] - 0s 3ms/step - loss: 0.4750 - accuracy: 0.7771\n",
            "Epoch 18/100\n",
            "82/82 [==============================] - 0s 3ms/step - loss: 0.4747 - accuracy: 0.7741\n",
            "Epoch 19/100\n",
            "82/82 [==============================] - 0s 6ms/step - loss: 0.4724 - accuracy: 0.7764\n",
            "Epoch 20/100\n",
            "82/82 [==============================] - 1s 6ms/step - loss: 0.4719 - accuracy: 0.7768\n",
            "Epoch 21/100\n",
            "82/82 [==============================] - 0s 3ms/step - loss: 0.4696 - accuracy: 0.7798\n",
            "Epoch 22/100\n",
            "82/82 [==============================] - 0s 2ms/step - loss: 0.4706 - accuracy: 0.7817\n",
            "Epoch 23/100\n",
            "82/82 [==============================] - 0s 2ms/step - loss: 0.4688 - accuracy: 0.7833\n",
            "Epoch 24/100\n",
            "82/82 [==============================] - 0s 2ms/step - loss: 0.4680 - accuracy: 0.7829\n",
            "Epoch 25/100\n",
            "82/82 [==============================] - 0s 2ms/step - loss: 0.4666 - accuracy: 0.7810\n",
            "Epoch 26/100\n",
            "82/82 [==============================] - 0s 2ms/step - loss: 0.4645 - accuracy: 0.7829\n",
            "Epoch 27/100\n",
            "82/82 [==============================] - 0s 2ms/step - loss: 0.4665 - accuracy: 0.7813\n",
            "Epoch 28/100\n",
            "82/82 [==============================] - 0s 2ms/step - loss: 0.4630 - accuracy: 0.7806\n",
            "Epoch 29/100\n",
            "82/82 [==============================] - 0s 2ms/step - loss: 0.4637 - accuracy: 0.7802\n",
            "Epoch 30/100\n",
            "82/82 [==============================] - 0s 2ms/step - loss: 0.4616 - accuracy: 0.7844\n",
            "Epoch 31/100\n",
            "82/82 [==============================] - 0s 2ms/step - loss: 0.4615 - accuracy: 0.7852\n",
            "Epoch 32/100\n",
            "82/82 [==============================] - 0s 2ms/step - loss: 0.4613 - accuracy: 0.7810\n",
            "Epoch 33/100\n",
            "82/82 [==============================] - 0s 3ms/step - loss: 0.4601 - accuracy: 0.7867\n",
            "Epoch 34/100\n",
            "82/82 [==============================] - 0s 3ms/step - loss: 0.4580 - accuracy: 0.7863\n",
            "Epoch 35/100\n",
            "82/82 [==============================] - 0s 3ms/step - loss: 0.4570 - accuracy: 0.7882\n",
            "Epoch 36/100\n",
            "82/82 [==============================] - 0s 3ms/step - loss: 0.4568 - accuracy: 0.7817\n",
            "Epoch 37/100\n",
            "82/82 [==============================] - 0s 3ms/step - loss: 0.4555 - accuracy: 0.7890\n",
            "Epoch 38/100\n",
            "82/82 [==============================] - 0s 3ms/step - loss: 0.4543 - accuracy: 0.7886\n",
            "Epoch 39/100\n",
            "82/82 [==============================] - 0s 3ms/step - loss: 0.4544 - accuracy: 0.7875\n",
            "Epoch 40/100\n",
            "82/82 [==============================] - 0s 3ms/step - loss: 0.4532 - accuracy: 0.7856\n",
            "Epoch 41/100\n",
            "82/82 [==============================] - 0s 3ms/step - loss: 0.4524 - accuracy: 0.7856\n",
            "Epoch 42/100\n",
            "82/82 [==============================] - 0s 3ms/step - loss: 0.4512 - accuracy: 0.7894\n",
            "Epoch 43/100\n",
            "82/82 [==============================] - 0s 3ms/step - loss: 0.4506 - accuracy: 0.7878\n",
            "Epoch 44/100\n",
            "82/82 [==============================] - 0s 2ms/step - loss: 0.4507 - accuracy: 0.7878\n",
            "Epoch 45/100\n",
            "82/82 [==============================] - 0s 2ms/step - loss: 0.4479 - accuracy: 0.7886\n",
            "Epoch 46/100\n",
            "82/82 [==============================] - 0s 2ms/step - loss: 0.4500 - accuracy: 0.7878\n",
            "Epoch 47/100\n",
            "82/82 [==============================] - 0s 2ms/step - loss: 0.4446 - accuracy: 0.7878\n",
            "Epoch 48/100\n",
            "82/82 [==============================] - 0s 2ms/step - loss: 0.4458 - accuracy: 0.7894\n",
            "Epoch 49/100\n",
            "82/82 [==============================] - 0s 2ms/step - loss: 0.4454 - accuracy: 0.7928\n",
            "Epoch 50/100\n",
            "82/82 [==============================] - 0s 2ms/step - loss: 0.4436 - accuracy: 0.7878\n",
            "Epoch 51/100\n",
            "82/82 [==============================] - 0s 2ms/step - loss: 0.4451 - accuracy: 0.7886\n",
            "Epoch 52/100\n",
            "82/82 [==============================] - 0s 2ms/step - loss: 0.4426 - accuracy: 0.7913\n",
            "Epoch 53/100\n",
            "82/82 [==============================] - 0s 2ms/step - loss: 0.4419 - accuracy: 0.7951\n",
            "Epoch 54/100\n",
            "82/82 [==============================] - 0s 2ms/step - loss: 0.4402 - accuracy: 0.7878\n",
            "Epoch 55/100\n",
            "82/82 [==============================] - 0s 2ms/step - loss: 0.4399 - accuracy: 0.7955\n",
            "Epoch 56/100\n",
            "82/82 [==============================] - 0s 2ms/step - loss: 0.4381 - accuracy: 0.7963\n",
            "Epoch 57/100\n",
            "82/82 [==============================] - 0s 2ms/step - loss: 0.4396 - accuracy: 0.7901\n",
            "Epoch 58/100\n",
            "82/82 [==============================] - 0s 2ms/step - loss: 0.4384 - accuracy: 0.7920\n",
            "Epoch 59/100\n",
            "82/82 [==============================] - 0s 2ms/step - loss: 0.4363 - accuracy: 0.7936\n",
            "Epoch 60/100\n",
            "82/82 [==============================] - 0s 2ms/step - loss: 0.4351 - accuracy: 0.7966\n",
            "Epoch 61/100\n",
            "82/82 [==============================] - 0s 2ms/step - loss: 0.4352 - accuracy: 0.7924\n",
            "Epoch 62/100\n",
            "82/82 [==============================] - 0s 2ms/step - loss: 0.4358 - accuracy: 0.7898\n",
            "Epoch 63/100\n",
            "82/82 [==============================] - 0s 2ms/step - loss: 0.4326 - accuracy: 0.7959\n",
            "Epoch 64/100\n",
            "82/82 [==============================] - 0s 2ms/step - loss: 0.4339 - accuracy: 0.7928\n",
            "Epoch 65/100\n",
            "82/82 [==============================] - 0s 2ms/step - loss: 0.4320 - accuracy: 0.7932\n",
            "Epoch 66/100\n",
            "82/82 [==============================] - 0s 2ms/step - loss: 0.4294 - accuracy: 0.7940\n",
            "Epoch 67/100\n",
            "82/82 [==============================] - 0s 2ms/step - loss: 0.4317 - accuracy: 0.7978\n",
            "Epoch 68/100\n",
            "82/82 [==============================] - 0s 2ms/step - loss: 0.4307 - accuracy: 0.8008\n",
            "Epoch 69/100\n",
            "82/82 [==============================] - 0s 2ms/step - loss: 0.4297 - accuracy: 0.7947\n",
            "Epoch 70/100\n",
            "82/82 [==============================] - 0s 2ms/step - loss: 0.4276 - accuracy: 0.7940\n",
            "Epoch 71/100\n",
            "82/82 [==============================] - 0s 2ms/step - loss: 0.4276 - accuracy: 0.7963\n",
            "Epoch 72/100\n",
            "82/82 [==============================] - 0s 2ms/step - loss: 0.4266 - accuracy: 0.7993\n",
            "Epoch 73/100\n",
            "82/82 [==============================] - 0s 2ms/step - loss: 0.4258 - accuracy: 0.7943\n",
            "Epoch 74/100\n",
            "82/82 [==============================] - 0s 2ms/step - loss: 0.4262 - accuracy: 0.7974\n",
            "Epoch 75/100\n",
            "82/82 [==============================] - 0s 2ms/step - loss: 0.4242 - accuracy: 0.8001\n",
            "Epoch 76/100\n",
            "82/82 [==============================] - 0s 2ms/step - loss: 0.4255 - accuracy: 0.8001\n",
            "Epoch 77/100\n",
            "82/82 [==============================] - 0s 2ms/step - loss: 0.4233 - accuracy: 0.7982\n",
            "Epoch 78/100\n",
            "82/82 [==============================] - 0s 2ms/step - loss: 0.4223 - accuracy: 0.8020\n",
            "Epoch 79/100\n",
            "82/82 [==============================] - 0s 2ms/step - loss: 0.4226 - accuracy: 0.8008\n",
            "Epoch 80/100\n",
            "82/82 [==============================] - 0s 2ms/step - loss: 0.4203 - accuracy: 0.8039\n",
            "Epoch 81/100\n",
            "82/82 [==============================] - 0s 2ms/step - loss: 0.4194 - accuracy: 0.8039\n",
            "Epoch 82/100\n",
            "82/82 [==============================] - 0s 2ms/step - loss: 0.4188 - accuracy: 0.8001\n",
            "Epoch 83/100\n",
            "82/82 [==============================] - 0s 2ms/step - loss: 0.4188 - accuracy: 0.8035\n",
            "Epoch 84/100\n",
            "82/82 [==============================] - 0s 2ms/step - loss: 0.4189 - accuracy: 0.8089\n",
            "Epoch 85/100\n",
            "82/82 [==============================] - 0s 2ms/step - loss: 0.4189 - accuracy: 0.8028\n",
            "Epoch 86/100\n",
            "82/82 [==============================] - 0s 2ms/step - loss: 0.4162 - accuracy: 0.8077\n",
            "Epoch 87/100\n",
            "82/82 [==============================] - 0s 2ms/step - loss: 0.4169 - accuracy: 0.8024\n",
            "Epoch 88/100\n",
            "82/82 [==============================] - 0s 2ms/step - loss: 0.4159 - accuracy: 0.8058\n",
            "Epoch 89/100\n",
            "82/82 [==============================] - 0s 2ms/step - loss: 0.4126 - accuracy: 0.8050\n",
            "Epoch 90/100\n",
            "82/82 [==============================] - 0s 2ms/step - loss: 0.4140 - accuracy: 0.8104\n",
            "Epoch 91/100\n",
            "82/82 [==============================] - 0s 2ms/step - loss: 0.4116 - accuracy: 0.8123\n",
            "Epoch 92/100\n",
            "82/82 [==============================] - 0s 2ms/step - loss: 0.4143 - accuracy: 0.8081\n",
            "Epoch 93/100\n",
            "82/82 [==============================] - 0s 2ms/step - loss: 0.4116 - accuracy: 0.8112\n",
            "Epoch 94/100\n",
            "82/82 [==============================] - 0s 2ms/step - loss: 0.4102 - accuracy: 0.8077\n",
            "Epoch 95/100\n",
            "82/82 [==============================] - 0s 2ms/step - loss: 0.4096 - accuracy: 0.8112\n",
            "Epoch 96/100\n",
            "82/82 [==============================] - 0s 2ms/step - loss: 0.4121 - accuracy: 0.8047\n",
            "Epoch 97/100\n",
            "82/82 [==============================] - 0s 2ms/step - loss: 0.4120 - accuracy: 0.8031\n",
            "Epoch 98/100\n",
            "82/82 [==============================] - 0s 2ms/step - loss: 0.4070 - accuracy: 0.8123\n",
            "Epoch 99/100\n",
            "82/82 [==============================] - 0s 2ms/step - loss: 0.4066 - accuracy: 0.8131\n",
            "Epoch 100/100\n",
            "82/82 [==============================] - 0s 2ms/step - loss: 0.4050 - accuracy: 0.8096\n",
            "36/36 [==============================] - 0s 1ms/step\n",
            "              precision    recall  f1-score   support\n",
            "\n",
            "           0       0.73      0.75      0.74       561\n",
            "           1       0.74      0.72      0.73       561\n",
            "\n",
            "    accuracy                           0.74      1122\n",
            "   macro avg       0.74      0.74      0.74      1122\n",
            "weighted avg       0.74      0.74      0.74      1122\n",
            "\n"
          ]
        },
        {
          "output_type": "display_data",
          "data": {
            "text/plain": [
              "<Figure size 700x500 with 2 Axes>"
            ],
            "image/png": "[encoded data removed]"
          },
          "metadata": {}
        }
      ]
    },
    {
      "cell_type": "markdown",
      "source": [
        "The results of oversampling are still similar to the undersampling approach."
      ],
      "metadata": {
        "id": "pd5SrbPLKnm2"
      }
    },
    {
      "cell_type": "markdown",
      "source": [
        "**SMOTE - use kNN to produce synthetic data ** Though this algorithm is quite useful, it has few drawbacks associated with it.\n",
        "\n",
        "The synthetic instances generated are in the same direction i.e. connected by an artificial line its diagonal instances. This in turn complicates the decision surface generated by few classifier algorithms.\n",
        "SMOTE tends to create a large no. of noisy data points in feature space."
      ],
      "metadata": {
        "id": "6xAP6c8qKuh_"
      }
    },
    {
      "cell_type": "code",
      "source": [
        "!pip install imbalanced-learn"
      ],
      "metadata": {
        "colab": {
          "base_uri": "https://localhost:8080/"
        },
        "id": "nVORtAqtKbuB",
        "outputId": "9a50208b-00d7-42e2-b9f7-9abe8667f81e"
      },
      "execution_count": 91,
      "outputs": [
        {
          "output_type": "stream",
          "name": "stdout",
          "text": [
            "Requirement already satisfied: imbalanced-learn in /usr/local/lib/python3.10/dist-packages (0.10.1)\n",
            "Requirement already satisfied: numpy>=1.17.3 in /usr/local/lib/python3.10/dist-packages (from imbalanced-learn) (1.25.2)\n",
            "Requirement already satisfied: scipy>=1.3.2 in /usr/local/lib/python3.10/dist-packages (from imbalanced-learn) (1.11.4)\n",
            "Requirement already satisfied: scikit-learn>=1.0.2 in /usr/local/lib/python3.10/dist-packages (from imbalanced-learn) (1.2.2)\n",
            "Requirement already satisfied: joblib>=1.1.1 in /usr/local/lib/python3.10/dist-packages (from imbalanced-learn) (1.3.2)\n",
            "Requirement already satisfied: threadpoolctl>=2.0.0 in /usr/local/lib/python3.10/dist-packages (from imbalanced-learn) (3.3.0)\n"
          ]
        }
      ]
    },
    {
      "cell_type": "code",
      "source": [
        "X=df_final.drop(['Churn'],axis=1)\n",
        "y=df_final['Churn']\n",
        "from imblearn.over_sampling import SMOTE\n",
        "smote=SMOTE(sampling_strategy='minority')\n",
        "X_smt,y_smt=smote.fit_resample(X,y)"
      ],
      "metadata": {
        "id": "vAkldXQMMsGj"
      },
      "execution_count": 93,
      "outputs": []
    },
    {
      "cell_type": "code",
      "source": [
        "X_smt.shape"
      ],
      "metadata": {
        "colab": {
          "base_uri": "https://localhost:8080/"
        },
        "id": "cfDK8Y5SPLu1",
        "outputId": "ff06bab7-fcaa-482c-daf2-3aed24006815"
      },
      "execution_count": 98,
      "outputs": [
        {
          "output_type": "execute_result",
          "data": {
            "text/plain": [
              "(10326, 23)"
            ]
          },
          "metadata": {},
          "execution_count": 98
        }
      ]
    },
    {
      "cell_type": "code",
      "source": [
        "y_smt.shape"
      ],
      "metadata": {
        "colab": {
          "base_uri": "https://localhost:8080/"
        },
        "id": "5otgZgK0PRpZ",
        "outputId": "2bb6edcd-5367-4ed3-f60f-87c9c8ddf3aa"
      },
      "execution_count": 99,
      "outputs": [
        {
          "output_type": "execute_result",
          "data": {
            "text/plain": [
              "(10326,)"
            ]
          },
          "metadata": {},
          "execution_count": 99
        }
      ]
    },
    {
      "cell_type": "code",
      "source": [
        "X_train,X_test,y_train,y_test=train_test_split(X_smt,y_smt,test_size=.3,random_state=42,stratify=y_smt)\n",
        "y_pred=ANN(X_train,y_train,X_test,y_test,weights=-1)"
      ],
      "metadata": {
        "colab": {
          "base_uri": "https://localhost:8080/",
          "height": 1000
        },
        "id": "PE4E-cegPUgn",
        "outputId": "6cdb2c4f-509d-40bf-d004-d6817ca949f5"
      },
      "execution_count": 102,
      "outputs": [
        {
          "output_type": "stream",
          "name": "stdout",
          "text": [
            "Epoch 1/100\n",
            "226/226 [==============================] - 2s 4ms/step - loss: 0.5475 - accuracy: 0.7161\n",
            "Epoch 2/100\n",
            "226/226 [==============================] - 1s 5ms/step - loss: 0.4677 - accuracy: 0.7803\n",
            "Epoch 3/100\n",
            "226/226 [==============================] - 1s 4ms/step - loss: 0.4566 - accuracy: 0.7860\n",
            "Epoch 4/100\n",
            "226/226 [==============================] - 1s 4ms/step - loss: 0.4508 - accuracy: 0.7893\n",
            "Epoch 5/100\n",
            "226/226 [==============================] - 1s 3ms/step - loss: 0.4450 - accuracy: 0.7916\n",
            "Epoch 6/100\n",
            "226/226 [==============================] - 0s 2ms/step - loss: 0.4432 - accuracy: 0.7886\n",
            "Epoch 7/100\n",
            "226/226 [==============================] - 0s 2ms/step - loss: 0.4389 - accuracy: 0.7957\n",
            "Epoch 8/100\n",
            "226/226 [==============================] - 0s 2ms/step - loss: 0.4357 - accuracy: 0.7959\n",
            "Epoch 9/100\n",
            "226/226 [==============================] - 0s 2ms/step - loss: 0.4331 - accuracy: 0.7970\n",
            "Epoch 10/100\n",
            "226/226 [==============================] - 0s 2ms/step - loss: 0.4323 - accuracy: 0.7954\n",
            "Epoch 11/100\n",
            "226/226 [==============================] - 0s 2ms/step - loss: 0.4293 - accuracy: 0.7975\n",
            "Epoch 12/100\n",
            "226/226 [==============================] - 0s 2ms/step - loss: 0.4263 - accuracy: 0.7979\n",
            "Epoch 13/100\n",
            "226/226 [==============================] - 0s 2ms/step - loss: 0.4252 - accuracy: 0.8042\n",
            "Epoch 14/100\n",
            "226/226 [==============================] - 0s 2ms/step - loss: 0.4236 - accuracy: 0.8042\n",
            "Epoch 15/100\n",
            "226/226 [==============================] - 0s 2ms/step - loss: 0.4223 - accuracy: 0.8055\n",
            "Epoch 16/100\n",
            "226/226 [==============================] - 0s 2ms/step - loss: 0.4200 - accuracy: 0.8055\n",
            "Epoch 17/100\n",
            "226/226 [==============================] - 0s 2ms/step - loss: 0.4186 - accuracy: 0.8026\n",
            "Epoch 18/100\n",
            "226/226 [==============================] - 0s 2ms/step - loss: 0.4172 - accuracy: 0.8071\n",
            "Epoch 19/100\n",
            "226/226 [==============================] - 0s 2ms/step - loss: 0.4160 - accuracy: 0.8046\n",
            "Epoch 20/100\n",
            "226/226 [==============================] - 0s 2ms/step - loss: 0.4146 - accuracy: 0.8062\n",
            "Epoch 21/100\n",
            "226/226 [==============================] - 0s 2ms/step - loss: 0.4132 - accuracy: 0.8081\n",
            "Epoch 22/100\n",
            "226/226 [==============================] - 0s 2ms/step - loss: 0.4131 - accuracy: 0.8082\n",
            "Epoch 23/100\n",
            "226/226 [==============================] - 0s 2ms/step - loss: 0.4110 - accuracy: 0.8073\n",
            "Epoch 24/100\n",
            "226/226 [==============================] - 0s 2ms/step - loss: 0.4105 - accuracy: 0.8089\n",
            "Epoch 25/100\n",
            "226/226 [==============================] - 0s 2ms/step - loss: 0.4093 - accuracy: 0.8105\n",
            "Epoch 26/100\n",
            "226/226 [==============================] - 1s 2ms/step - loss: 0.4077 - accuracy: 0.8120\n",
            "Epoch 27/100\n",
            "226/226 [==============================] - 1s 3ms/step - loss: 0.4064 - accuracy: 0.8109\n",
            "Epoch 28/100\n",
            "226/226 [==============================] - 1s 3ms/step - loss: 0.4055 - accuracy: 0.8145\n",
            "Epoch 29/100\n",
            "226/226 [==============================] - 1s 3ms/step - loss: 0.4046 - accuracy: 0.8136\n",
            "Epoch 30/100\n",
            "226/226 [==============================] - 1s 3ms/step - loss: 0.4034 - accuracy: 0.8145\n",
            "Epoch 31/100\n",
            "226/226 [==============================] - 0s 2ms/step - loss: 0.4028 - accuracy: 0.8127\n",
            "Epoch 32/100\n",
            "226/226 [==============================] - 0s 2ms/step - loss: 0.4022 - accuracy: 0.8160\n",
            "Epoch 33/100\n",
            "226/226 [==============================] - 0s 2ms/step - loss: 0.4022 - accuracy: 0.8147\n",
            "Epoch 34/100\n",
            "226/226 [==============================] - 0s 2ms/step - loss: 0.3997 - accuracy: 0.8172\n",
            "Epoch 35/100\n",
            "226/226 [==============================] - 0s 2ms/step - loss: 0.3992 - accuracy: 0.8150\n",
            "Epoch 36/100\n",
            "226/226 [==============================] - 0s 2ms/step - loss: 0.3985 - accuracy: 0.8165\n",
            "Epoch 37/100\n",
            "226/226 [==============================] - 0s 2ms/step - loss: 0.3983 - accuracy: 0.8188\n",
            "Epoch 38/100\n",
            "226/226 [==============================] - 0s 2ms/step - loss: 0.3962 - accuracy: 0.8193\n",
            "Epoch 39/100\n",
            "226/226 [==============================] - 0s 2ms/step - loss: 0.3957 - accuracy: 0.8160\n",
            "Epoch 40/100\n",
            "226/226 [==============================] - 0s 2ms/step - loss: 0.3945 - accuracy: 0.8183\n",
            "Epoch 41/100\n",
            "226/226 [==============================] - 0s 2ms/step - loss: 0.3934 - accuracy: 0.8197\n",
            "Epoch 42/100\n",
            "226/226 [==============================] - 0s 2ms/step - loss: 0.3931 - accuracy: 0.8204\n",
            "Epoch 43/100\n",
            "226/226 [==============================] - 0s 2ms/step - loss: 0.3930 - accuracy: 0.8207\n",
            "Epoch 44/100\n",
            "226/226 [==============================] - 0s 2ms/step - loss: 0.3908 - accuracy: 0.8213\n",
            "Epoch 45/100\n",
            "226/226 [==============================] - 0s 2ms/step - loss: 0.3910 - accuracy: 0.8203\n",
            "Epoch 46/100\n",
            "226/226 [==============================] - 0s 2ms/step - loss: 0.3896 - accuracy: 0.8218\n",
            "Epoch 47/100\n",
            "226/226 [==============================] - 0s 2ms/step - loss: 0.3888 - accuracy: 0.8244\n",
            "Epoch 48/100\n",
            "226/226 [==============================] - 0s 2ms/step - loss: 0.3888 - accuracy: 0.8214\n",
            "Epoch 49/100\n",
            "226/226 [==============================] - 0s 2ms/step - loss: 0.3890 - accuracy: 0.8221\n",
            "Epoch 50/100\n",
            "226/226 [==============================] - 0s 2ms/step - loss: 0.3872 - accuracy: 0.8236\n",
            "Epoch 51/100\n",
            "226/226 [==============================] - 0s 2ms/step - loss: 0.3868 - accuracy: 0.8243\n",
            "Epoch 52/100\n",
            "226/226 [==============================] - 0s 2ms/step - loss: 0.3877 - accuracy: 0.8228\n",
            "Epoch 53/100\n",
            "226/226 [==============================] - 0s 2ms/step - loss: 0.3840 - accuracy: 0.8269\n",
            "Epoch 54/100\n",
            "226/226 [==============================] - 1s 3ms/step - loss: 0.3854 - accuracy: 0.8251\n",
            "Epoch 55/100\n",
            "226/226 [==============================] - 1s 3ms/step - loss: 0.3833 - accuracy: 0.8242\n",
            "Epoch 56/100\n",
            "226/226 [==============================] - 1s 3ms/step - loss: 0.3832 - accuracy: 0.8258\n",
            "Epoch 57/100\n",
            "226/226 [==============================] - 1s 3ms/step - loss: 0.3847 - accuracy: 0.8222\n",
            "Epoch 58/100\n",
            "226/226 [==============================] - 1s 2ms/step - loss: 0.3820 - accuracy: 0.8268\n",
            "Epoch 59/100\n",
            "226/226 [==============================] - 0s 2ms/step - loss: 0.3813 - accuracy: 0.8279\n",
            "Epoch 60/100\n",
            "226/226 [==============================] - 0s 2ms/step - loss: 0.3816 - accuracy: 0.8251\n",
            "Epoch 61/100\n",
            "226/226 [==============================] - 0s 2ms/step - loss: 0.3809 - accuracy: 0.8283\n",
            "Epoch 62/100\n",
            "226/226 [==============================] - 0s 2ms/step - loss: 0.3801 - accuracy: 0.8289\n",
            "Epoch 63/100\n",
            "226/226 [==============================] - 0s 2ms/step - loss: 0.3799 - accuracy: 0.8290\n",
            "Epoch 64/100\n",
            "226/226 [==============================] - 0s 2ms/step - loss: 0.3774 - accuracy: 0.8297\n",
            "Epoch 65/100\n",
            "226/226 [==============================] - 0s 2ms/step - loss: 0.3790 - accuracy: 0.8311\n",
            "Epoch 66/100\n",
            "226/226 [==============================] - 0s 2ms/step - loss: 0.3774 - accuracy: 0.8312\n",
            "Epoch 67/100\n",
            "226/226 [==============================] - 0s 2ms/step - loss: 0.3769 - accuracy: 0.8284\n",
            "Epoch 68/100\n",
            "226/226 [==============================] - 0s 2ms/step - loss: 0.3770 - accuracy: 0.8284\n",
            "Epoch 69/100\n",
            "226/226 [==============================] - 0s 2ms/step - loss: 0.3759 - accuracy: 0.8318\n",
            "Epoch 70/100\n",
            "226/226 [==============================] - 0s 2ms/step - loss: 0.3754 - accuracy: 0.8294\n",
            "Epoch 71/100\n",
            "226/226 [==============================] - 0s 2ms/step - loss: 0.3759 - accuracy: 0.8304\n",
            "Epoch 72/100\n",
            "226/226 [==============================] - 0s 2ms/step - loss: 0.3753 - accuracy: 0.8304\n",
            "Epoch 73/100\n",
            "226/226 [==============================] - 0s 2ms/step - loss: 0.3732 - accuracy: 0.8302\n",
            "Epoch 74/100\n",
            "226/226 [==============================] - 0s 2ms/step - loss: 0.3736 - accuracy: 0.8311\n",
            "Epoch 75/100\n",
            "226/226 [==============================] - 0s 2ms/step - loss: 0.3724 - accuracy: 0.8327\n",
            "Epoch 76/100\n",
            "226/226 [==============================] - 0s 2ms/step - loss: 0.3724 - accuracy: 0.8309\n",
            "Epoch 77/100\n",
            "226/226 [==============================] - 0s 2ms/step - loss: 0.3736 - accuracy: 0.8300\n",
            "Epoch 78/100\n",
            "226/226 [==============================] - 0s 2ms/step - loss: 0.3725 - accuracy: 0.8326\n",
            "Epoch 79/100\n",
            "226/226 [==============================] - 0s 2ms/step - loss: 0.3719 - accuracy: 0.8344\n",
            "Epoch 80/100\n",
            "226/226 [==============================] - 0s 2ms/step - loss: 0.3720 - accuracy: 0.8326\n",
            "Epoch 81/100\n",
            "226/226 [==============================] - 1s 2ms/step - loss: 0.3714 - accuracy: 0.8308\n",
            "Epoch 82/100\n",
            "226/226 [==============================] - 1s 3ms/step - loss: 0.3702 - accuracy: 0.8340\n",
            "Epoch 83/100\n",
            "226/226 [==============================] - 1s 3ms/step - loss: 0.3711 - accuracy: 0.8315\n",
            "Epoch 84/100\n",
            "226/226 [==============================] - 1s 3ms/step - loss: 0.3716 - accuracy: 0.8311\n",
            "Epoch 85/100\n",
            "226/226 [==============================] - 1s 3ms/step - loss: 0.3688 - accuracy: 0.8354\n",
            "Epoch 86/100\n",
            "226/226 [==============================] - 0s 2ms/step - loss: 0.3692 - accuracy: 0.8351\n",
            "Epoch 87/100\n",
            "226/226 [==============================] - 0s 2ms/step - loss: 0.3682 - accuracy: 0.8341\n",
            "Epoch 88/100\n",
            "226/226 [==============================] - 0s 2ms/step - loss: 0.3686 - accuracy: 0.8329\n",
            "Epoch 89/100\n",
            "226/226 [==============================] - 0s 2ms/step - loss: 0.3690 - accuracy: 0.8344\n",
            "Epoch 90/100\n",
            "226/226 [==============================] - 0s 2ms/step - loss: 0.3674 - accuracy: 0.8374\n",
            "Epoch 91/100\n",
            "226/226 [==============================] - 0s 2ms/step - loss: 0.3669 - accuracy: 0.8354\n",
            "Epoch 92/100\n",
            "226/226 [==============================] - 0s 2ms/step - loss: 0.3670 - accuracy: 0.8354\n",
            "Epoch 93/100\n",
            "226/226 [==============================] - 0s 2ms/step - loss: 0.3661 - accuracy: 0.8369\n",
            "Epoch 94/100\n",
            "226/226 [==============================] - 0s 2ms/step - loss: 0.3657 - accuracy: 0.8394\n",
            "Epoch 95/100\n",
            "226/226 [==============================] - 0s 2ms/step - loss: 0.3655 - accuracy: 0.8361\n",
            "Epoch 96/100\n",
            "226/226 [==============================] - 0s 2ms/step - loss: 0.3657 - accuracy: 0.8358\n",
            "Epoch 97/100\n",
            "226/226 [==============================] - 0s 2ms/step - loss: 0.3675 - accuracy: 0.8369\n",
            "Epoch 98/100\n",
            "226/226 [==============================] - 0s 2ms/step - loss: 0.3649 - accuracy: 0.8358\n",
            "Epoch 99/100\n",
            "226/226 [==============================] - 0s 2ms/step - loss: 0.3658 - accuracy: 0.8384\n",
            "Epoch 100/100\n",
            "226/226 [==============================] - 0s 2ms/step - loss: 0.3633 - accuracy: 0.8355\n",
            "97/97 [==============================] - 0s 2ms/step\n",
            "              precision    recall  f1-score   support\n",
            "\n",
            "           0       0.77      0.81      0.79      1549\n",
            "           1       0.80      0.77      0.78      1549\n",
            "\n",
            "    accuracy                           0.79      3098\n",
            "   macro avg       0.79      0.79      0.79      3098\n",
            "weighted avg       0.79      0.79      0.79      3098\n",
            "\n"
          ]
        },
        {
          "output_type": "display_data",
          "data": {
            "text/plain": [
              "<Figure size 700x500 with 2 Axes>"
            ],
            "image/png": "[encoded data removed]"
          },
          "metadata": {}
        }
      ]
    },
    {
      "cell_type": "markdown",
      "source": [
        "Recall with SMOTE looks improved. Let's try ADASYN"
      ],
      "metadata": {
        "id": "k1ew_zhhQWS5"
      }
    },
    {
      "cell_type": "code",
      "source": [
        "from imblearn.over_sampling import ADASYN\n",
        "adasyn=ADASYN(sampling_strategy='minority',random_state=42)\n",
        "X_smt,y_smt=adasyn.fit_resample(X,y)"
      ],
      "metadata": {
        "id": "4iC9_gBZPYx_"
      },
      "execution_count": 103,
      "outputs": []
    },
    {
      "cell_type": "code",
      "source": [
        "X_smt.shape"
      ],
      "metadata": {
        "colab": {
          "base_uri": "https://localhost:8080/"
        },
        "id": "XpbRZ4knROsi",
        "outputId": "7db38a80-b81d-412d-bcd6-91c4d2a25bc2"
      },
      "execution_count": 104,
      "outputs": [
        {
          "output_type": "execute_result",
          "data": {
            "text/plain": [
              "(10359, 23)"
            ]
          },
          "metadata": {},
          "execution_count": 104
        }
      ]
    },
    {
      "cell_type": "code",
      "source": [
        "X_train,X_test,y_train,y_test=train_test_split(X_smt,y_smt,test_size=.3,random_state=42,stratify=y_smt)\n",
        "y_pred=ANN(X_train,y_train,X_test,y_test,weights=-1)"
      ],
      "metadata": {
        "colab": {
          "base_uri": "https://localhost:8080/",
          "height": 1000
        },
        "id": "AzB97RH_RSJE",
        "outputId": "e91acacd-840b-46f1-afb9-72b3ef9f31d8"
      },
      "execution_count": 105,
      "outputs": [
        {
          "output_type": "stream",
          "name": "stdout",
          "text": [
            "Epoch 1/100\n",
            "227/227 [==============================] - 2s 3ms/step - loss: 0.5890 - accuracy: 0.6960\n",
            "Epoch 2/100\n",
            "227/227 [==============================] - 1s 3ms/step - loss: 0.5226 - accuracy: 0.7435\n",
            "Epoch 3/100\n",
            "227/227 [==============================] - 1s 3ms/step - loss: 0.5080 - accuracy: 0.7482\n",
            "Epoch 4/100\n",
            "227/227 [==============================] - 1s 3ms/step - loss: 0.5004 - accuracy: 0.7545\n",
            "Epoch 5/100\n",
            "227/227 [==============================] - 1s 3ms/step - loss: 0.4938 - accuracy: 0.7582\n",
            "Epoch 6/100\n",
            "227/227 [==============================] - 1s 3ms/step - loss: 0.4897 - accuracy: 0.7588\n",
            "Epoch 7/100\n",
            "227/227 [==============================] - 0s 2ms/step - loss: 0.4857 - accuracy: 0.7621\n",
            "Epoch 8/100\n",
            "227/227 [==============================] - 0s 2ms/step - loss: 0.4825 - accuracy: 0.7654\n",
            "Epoch 9/100\n",
            "227/227 [==============================] - 0s 2ms/step - loss: 0.4796 - accuracy: 0.7669\n",
            "Epoch 10/100\n",
            "227/227 [==============================] - 1s 3ms/step - loss: 0.4778 - accuracy: 0.7665\n",
            "Epoch 11/100\n",
            "227/227 [==============================] - 1s 3ms/step - loss: 0.4738 - accuracy: 0.7730\n",
            "Epoch 12/100\n",
            "227/227 [==============================] - 1s 3ms/step - loss: 0.4725 - accuracy: 0.7715\n",
            "Epoch 13/100\n",
            "227/227 [==============================] - 1s 3ms/step - loss: 0.4695 - accuracy: 0.7741\n",
            "Epoch 14/100\n",
            "227/227 [==============================] - 0s 2ms/step - loss: 0.4672 - accuracy: 0.7734\n",
            "Epoch 15/100\n",
            "227/227 [==============================] - 0s 2ms/step - loss: 0.4652 - accuracy: 0.7744\n",
            "Epoch 16/100\n",
            "227/227 [==============================] - 0s 2ms/step - loss: 0.4631 - accuracy: 0.7748\n",
            "Epoch 17/100\n",
            "227/227 [==============================] - 0s 2ms/step - loss: 0.4604 - accuracy: 0.7785\n",
            "Epoch 18/100\n",
            "227/227 [==============================] - 0s 2ms/step - loss: 0.4595 - accuracy: 0.7802\n",
            "Epoch 19/100\n",
            "227/227 [==============================] - 0s 2ms/step - loss: 0.4567 - accuracy: 0.7800\n",
            "Epoch 20/100\n",
            "227/227 [==============================] - 0s 2ms/step - loss: 0.4549 - accuracy: 0.7795\n",
            "Epoch 21/100\n",
            "227/227 [==============================] - 0s 2ms/step - loss: 0.4531 - accuracy: 0.7857\n",
            "Epoch 22/100\n",
            "227/227 [==============================] - 0s 2ms/step - loss: 0.4520 - accuracy: 0.7822\n",
            "Epoch 23/100\n",
            "227/227 [==============================] - 1s 5ms/step - loss: 0.4507 - accuracy: 0.7849\n",
            "Epoch 24/100\n",
            "227/227 [==============================] - 0s 2ms/step - loss: 0.4485 - accuracy: 0.7849\n",
            "Epoch 25/100\n",
            "227/227 [==============================] - 0s 2ms/step - loss: 0.4470 - accuracy: 0.7897\n",
            "Epoch 26/100\n",
            "227/227 [==============================] - 0s 2ms/step - loss: 0.4466 - accuracy: 0.7876\n",
            "Epoch 27/100\n",
            "227/227 [==============================] - 0s 2ms/step - loss: 0.4443 - accuracy: 0.7901\n",
            "Epoch 28/100\n",
            "227/227 [==============================] - 0s 2ms/step - loss: 0.4432 - accuracy: 0.7909\n",
            "Epoch 29/100\n",
            "227/227 [==============================] - 0s 2ms/step - loss: 0.4427 - accuracy: 0.7916\n",
            "Epoch 30/100\n",
            "227/227 [==============================] - 0s 2ms/step - loss: 0.4408 - accuracy: 0.7911\n",
            "Epoch 31/100\n",
            "227/227 [==============================] - 0s 2ms/step - loss: 0.4404 - accuracy: 0.7920\n",
            "Epoch 32/100\n",
            "227/227 [==============================] - 0s 2ms/step - loss: 0.4374 - accuracy: 0.7942\n",
            "Epoch 33/100\n",
            "227/227 [==============================] - 0s 2ms/step - loss: 0.4375 - accuracy: 0.7953\n",
            "Epoch 34/100\n",
            "227/227 [==============================] - 0s 2ms/step - loss: 0.4351 - accuracy: 0.7960\n",
            "Epoch 35/100\n",
            "227/227 [==============================] - 1s 3ms/step - loss: 0.4338 - accuracy: 0.7963\n",
            "Epoch 36/100\n",
            "227/227 [==============================] - 1s 3ms/step - loss: 0.4337 - accuracy: 0.7967\n",
            "Epoch 37/100\n",
            "227/227 [==============================] - 1s 3ms/step - loss: 0.4324 - accuracy: 0.7985\n",
            "Epoch 38/100\n",
            "227/227 [==============================] - 1s 3ms/step - loss: 0.4318 - accuracy: 0.7984\n",
            "Epoch 39/100\n",
            "227/227 [==============================] - 1s 3ms/step - loss: 0.4317 - accuracy: 0.8002\n",
            "Epoch 40/100\n",
            "227/227 [==============================] - 0s 2ms/step - loss: 0.4299 - accuracy: 0.8003\n",
            "Epoch 41/100\n",
            "227/227 [==============================] - 0s 2ms/step - loss: 0.4286 - accuracy: 0.8011\n",
            "Epoch 42/100\n",
            "227/227 [==============================] - 0s 2ms/step - loss: 0.4283 - accuracy: 0.8010\n",
            "Epoch 43/100\n",
            "227/227 [==============================] - 0s 2ms/step - loss: 0.4251 - accuracy: 0.8020\n",
            "Epoch 44/100\n",
            "227/227 [==============================] - 0s 2ms/step - loss: 0.4250 - accuracy: 0.8032\n",
            "Epoch 45/100\n",
            "227/227 [==============================] - 0s 2ms/step - loss: 0.4256 - accuracy: 0.7999\n",
            "Epoch 46/100\n",
            "227/227 [==============================] - 0s 2ms/step - loss: 0.4230 - accuracy: 0.8038\n",
            "Epoch 47/100\n",
            "227/227 [==============================] - 0s 2ms/step - loss: 0.4219 - accuracy: 0.8079\n",
            "Epoch 48/100\n",
            "227/227 [==============================] - 0s 2ms/step - loss: 0.4228 - accuracy: 0.8024\n",
            "Epoch 49/100\n",
            "227/227 [==============================] - 0s 2ms/step - loss: 0.4199 - accuracy: 0.8061\n",
            "Epoch 50/100\n",
            "227/227 [==============================] - 0s 2ms/step - loss: 0.4190 - accuracy: 0.8057\n",
            "Epoch 51/100\n",
            "227/227 [==============================] - 0s 2ms/step - loss: 0.4194 - accuracy: 0.8082\n",
            "Epoch 52/100\n",
            "227/227 [==============================] - 0s 2ms/step - loss: 0.4183 - accuracy: 0.8065\n",
            "Epoch 53/100\n",
            "227/227 [==============================] - 0s 2ms/step - loss: 0.4171 - accuracy: 0.8089\n",
            "Epoch 54/100\n",
            "227/227 [==============================] - 0s 2ms/step - loss: 0.4163 - accuracy: 0.8073\n",
            "Epoch 55/100\n",
            "227/227 [==============================] - 0s 2ms/step - loss: 0.4150 - accuracy: 0.8061\n",
            "Epoch 56/100\n",
            "227/227 [==============================] - 0s 2ms/step - loss: 0.4143 - accuracy: 0.8060\n",
            "Epoch 57/100\n",
            "227/227 [==============================] - 0s 2ms/step - loss: 0.4126 - accuracy: 0.8098\n",
            "Epoch 58/100\n",
            "227/227 [==============================] - 0s 2ms/step - loss: 0.4131 - accuracy: 0.8075\n",
            "Epoch 59/100\n",
            "227/227 [==============================] - 0s 2ms/step - loss: 0.4112 - accuracy: 0.8109\n",
            "Epoch 60/100\n",
            "227/227 [==============================] - 0s 2ms/step - loss: 0.4089 - accuracy: 0.8145\n",
            "Epoch 61/100\n",
            "227/227 [==============================] - 0s 2ms/step - loss: 0.4114 - accuracy: 0.8109\n",
            "Epoch 62/100\n",
            "227/227 [==============================] - 1s 2ms/step - loss: 0.4095 - accuracy: 0.8100\n",
            "Epoch 63/100\n",
            "227/227 [==============================] - 1s 3ms/step - loss: 0.4086 - accuracy: 0.8140\n",
            "Epoch 64/100\n",
            "227/227 [==============================] - 1s 3ms/step - loss: 0.4082 - accuracy: 0.8144\n",
            "Epoch 65/100\n",
            "227/227 [==============================] - 1s 3ms/step - loss: 0.4078 - accuracy: 0.8130\n",
            "Epoch 66/100\n",
            "227/227 [==============================] - 1s 2ms/step - loss: 0.4060 - accuracy: 0.8109\n",
            "Epoch 67/100\n",
            "227/227 [==============================] - 0s 2ms/step - loss: 0.4063 - accuracy: 0.8142\n",
            "Epoch 68/100\n",
            "227/227 [==============================] - 0s 2ms/step - loss: 0.4016 - accuracy: 0.8146\n",
            "Epoch 69/100\n",
            "227/227 [==============================] - 0s 2ms/step - loss: 0.4019 - accuracy: 0.8166\n",
            "Epoch 70/100\n",
            "227/227 [==============================] - 0s 2ms/step - loss: 0.4033 - accuracy: 0.8138\n",
            "Epoch 71/100\n",
            "227/227 [==============================] - 0s 2ms/step - loss: 0.4023 - accuracy: 0.8138\n",
            "Epoch 72/100\n",
            "227/227 [==============================] - 0s 2ms/step - loss: 0.4020 - accuracy: 0.8170\n",
            "Epoch 73/100\n",
            "227/227 [==============================] - 0s 2ms/step - loss: 0.4021 - accuracy: 0.8140\n",
            "Epoch 74/100\n",
            "227/227 [==============================] - 0s 2ms/step - loss: 0.3994 - accuracy: 0.8156\n",
            "Epoch 75/100\n",
            "227/227 [==============================] - 0s 2ms/step - loss: 0.3980 - accuracy: 0.8164\n",
            "Epoch 76/100\n",
            "227/227 [==============================] - 0s 2ms/step - loss: 0.4000 - accuracy: 0.8162\n",
            "Epoch 77/100\n",
            "227/227 [==============================] - 0s 2ms/step - loss: 0.3981 - accuracy: 0.8155\n",
            "Epoch 78/100\n",
            "227/227 [==============================] - 0s 2ms/step - loss: 0.3984 - accuracy: 0.8156\n",
            "Epoch 79/100\n",
            "227/227 [==============================] - 0s 2ms/step - loss: 0.3984 - accuracy: 0.8156\n",
            "Epoch 80/100\n",
            "227/227 [==============================] - 0s 2ms/step - loss: 0.3964 - accuracy: 0.8166\n",
            "Epoch 81/100\n",
            "227/227 [==============================] - 0s 2ms/step - loss: 0.3982 - accuracy: 0.8181\n",
            "Epoch 82/100\n",
            "227/227 [==============================] - 0s 2ms/step - loss: 0.3977 - accuracy: 0.8175\n",
            "Epoch 83/100\n",
            "227/227 [==============================] - 0s 2ms/step - loss: 0.3944 - accuracy: 0.8153\n",
            "Epoch 84/100\n",
            "227/227 [==============================] - 0s 2ms/step - loss: 0.3957 - accuracy: 0.8185\n",
            "Epoch 85/100\n",
            "227/227 [==============================] - 0s 2ms/step - loss: 0.3934 - accuracy: 0.8184\n",
            "Epoch 86/100\n",
            "227/227 [==============================] - 0s 2ms/step - loss: 0.3948 - accuracy: 0.8184\n",
            "Epoch 87/100\n",
            "227/227 [==============================] - 0s 2ms/step - loss: 0.3938 - accuracy: 0.8170\n",
            "Epoch 88/100\n",
            "227/227 [==============================] - 0s 2ms/step - loss: 0.3970 - accuracy: 0.8173\n",
            "Epoch 89/100\n",
            "227/227 [==============================] - 1s 2ms/step - loss: 0.3917 - accuracy: 0.8188\n",
            "Epoch 90/100\n",
            "227/227 [==============================] - 1s 3ms/step - loss: 0.3912 - accuracy: 0.8213\n",
            "Epoch 91/100\n",
            "227/227 [==============================] - 1s 3ms/step - loss: 0.3911 - accuracy: 0.8174\n",
            "Epoch 92/100\n",
            "227/227 [==============================] - 1s 3ms/step - loss: 0.3924 - accuracy: 0.8159\n",
            "Epoch 93/100\n",
            "227/227 [==============================] - 1s 2ms/step - loss: 0.3890 - accuracy: 0.8218\n",
            "Epoch 94/100\n",
            "227/227 [==============================] - 0s 2ms/step - loss: 0.3890 - accuracy: 0.8199\n",
            "Epoch 95/100\n",
            "227/227 [==============================] - 0s 2ms/step - loss: 0.3891 - accuracy: 0.8196\n",
            "Epoch 96/100\n",
            "227/227 [==============================] - 0s 2ms/step - loss: 0.3892 - accuracy: 0.8182\n",
            "Epoch 97/100\n",
            "227/227 [==============================] - 0s 2ms/step - loss: 0.3879 - accuracy: 0.8214\n",
            "Epoch 98/100\n",
            "227/227 [==============================] - 0s 2ms/step - loss: 0.3885 - accuracy: 0.8244\n",
            "Epoch 99/100\n",
            "227/227 [==============================] - 0s 2ms/step - loss: 0.3889 - accuracy: 0.8211\n",
            "Epoch 100/100\n",
            "227/227 [==============================] - 0s 2ms/step - loss: 0.3868 - accuracy: 0.8218\n",
            "98/98 [==============================] - 0s 1ms/step\n",
            "              precision    recall  f1-score   support\n",
            "\n",
            "           0       0.83      0.71      0.77      1549\n",
            "           1       0.75      0.86      0.80      1559\n",
            "\n",
            "    accuracy                           0.78      3108\n",
            "   macro avg       0.79      0.78      0.78      3108\n",
            "weighted avg       0.79      0.78      0.78      3108\n",
            "\n"
          ]
        },
        {
          "output_type": "display_data",
          "data": {
            "text/plain": [
              "<Figure size 700x500 with 2 Axes>"
            ],
            "image/png": "[encoded data removed]"
          },
          "metadata": {}
        }
      ]
    },
    {
      "cell_type": "markdown",
      "source": [
        "When comparing ADASYN and SMOTE, the precison, recall and F1 scores are much better with ADASYN"
      ],
      "metadata": {
        "id": "XT3e7un7RwcE"
      }
    },
    {
      "cell_type": "code",
      "source": [],
      "metadata": {
        "id": "_7AVhozdRW44"
      },
      "execution_count": null,
      "outputs": []
    }
  ]
}